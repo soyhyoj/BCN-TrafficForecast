{
 "cells": [
  {
   "cell_type": "code",
   "execution_count": 41,
   "metadata": {},
   "outputs": [],
   "source": [
    "# Import libraries\n",
    "import pandas as pd"
   ]
  },
  {
   "cell_type": "code",
   "execution_count": 42,
   "metadata": {},
   "outputs": [],
   "source": [
    "transit_trams = pd.read_csv('./data/transit_relacio_trams.csv')"
   ]
  },
  {
   "cell_type": "code",
   "execution_count": 43,
   "metadata": {},
   "outputs": [
    {
     "data": {
      "text/html": [
       "<div>\n",
       "<style scoped>\n",
       "    .dataframe tbody tr th:only-of-type {\n",
       "        vertical-align: middle;\n",
       "    }\n",
       "\n",
       "    .dataframe tbody tr th {\n",
       "        vertical-align: top;\n",
       "    }\n",
       "\n",
       "    .dataframe thead th {\n",
       "        text-align: right;\n",
       "    }\n",
       "</style>\n",
       "<table border=\"1\" class=\"dataframe\">\n",
       "  <thead>\n",
       "    <tr style=\"text-align: right;\">\n",
       "      <th></th>\n",
       "      <th>Tram</th>\n",
       "      <th>Descripció</th>\n",
       "      <th>Coordenades</th>\n",
       "    </tr>\n",
       "  </thead>\n",
       "  <tbody>\n",
       "    <tr>\n",
       "      <th>0</th>\n",
       "      <td>1</td>\n",
       "      <td>Diagonal (Ronda de Dalt a Doctor Marañón)</td>\n",
       "      <td>2.11203535639414,41.3841912394771,2.1015028628...</td>\n",
       "    </tr>\n",
       "    <tr>\n",
       "      <th>1</th>\n",
       "      <td>2</td>\n",
       "      <td>Diagonal (Doctor Marañón a Ronda de Dalt)</td>\n",
       "      <td>2.111944376806616,41.38446666680338,2.10159408...</td>\n",
       "    </tr>\n",
       "    <tr>\n",
       "      <th>2</th>\n",
       "      <td>3</td>\n",
       "      <td>Diagonal (Doctor Marañón a Pl. Pius XII)</td>\n",
       "      <td>2.112093343037027,41.38422850920645,2.12264979...</td>\n",
       "    </tr>\n",
       "    <tr>\n",
       "      <th>3</th>\n",
       "      <td>4</td>\n",
       "      <td>Diagonal (Pl. Pius XII a Doctor Marañón)</td>\n",
       "      <td>2.122592049318304,41.38719094189204,2.11196902...</td>\n",
       "    </tr>\n",
       "    <tr>\n",
       "      <th>4</th>\n",
       "      <td>5</td>\n",
       "      <td>Diagonal (Pl. Pius XII a Pl. Maria Cristina)</td>\n",
       "      <td>2.122657659295115,41.38694195794678,2.12755961...</td>\n",
       "    </tr>\n",
       "  </tbody>\n",
       "</table>\n",
       "</div>"
      ],
      "text/plain": [
       "   Tram                                    Descripció  \\\n",
       "0     1     Diagonal (Ronda de Dalt a Doctor Marañón)   \n",
       "1     2     Diagonal (Doctor Marañón a Ronda de Dalt)   \n",
       "2     3      Diagonal (Doctor Marañón a Pl. Pius XII)   \n",
       "3     4      Diagonal (Pl. Pius XII a Doctor Marañón)   \n",
       "4     5  Diagonal (Pl. Pius XII a Pl. Maria Cristina)   \n",
       "\n",
       "                                         Coordenades  \n",
       "0  2.11203535639414,41.3841912394771,2.1015028628...  \n",
       "1  2.111944376806616,41.38446666680338,2.10159408...  \n",
       "2  2.112093343037027,41.38422850920645,2.12264979...  \n",
       "3  2.122592049318304,41.38719094189204,2.11196902...  \n",
       "4  2.122657659295115,41.38694195794678,2.12755961...  "
      ]
     },
     "execution_count": 43,
     "metadata": {},
     "output_type": "execute_result"
    }
   ],
   "source": [
    "transit_trams.head()"
   ]
  },
  {
   "cell_type": "code",
   "execution_count": 44,
   "metadata": {},
   "outputs": [
    {
     "data": {
      "text/plain": [
       "0    0\n",
       "1    0\n",
       "dtype: int64"
      ]
     },
     "execution_count": 44,
     "metadata": {},
     "output_type": "execute_result"
    }
   ],
   "source": [
    "transit_trams['Coordenades'].str.split(',', expand=True).loc[:,:1].isnull().sum()"
   ]
  },
  {
   "cell_type": "code",
   "execution_count": 45,
   "metadata": {},
   "outputs": [
    {
     "data": {
      "text/html": [
       "<div>\n",
       "<style scoped>\n",
       "    .dataframe tbody tr th:only-of-type {\n",
       "        vertical-align: middle;\n",
       "    }\n",
       "\n",
       "    .dataframe tbody tr th {\n",
       "        vertical-align: top;\n",
       "    }\n",
       "\n",
       "    .dataframe thead th {\n",
       "        text-align: right;\n",
       "    }\n",
       "</style>\n",
       "<table border=\"1\" class=\"dataframe\">\n",
       "  <thead>\n",
       "    <tr style=\"text-align: right;\">\n",
       "      <th></th>\n",
       "      <th>Longitude</th>\n",
       "      <th>Latitude</th>\n",
       "    </tr>\n",
       "  </thead>\n",
       "  <tbody>\n",
       "    <tr>\n",
       "      <th>0</th>\n",
       "      <td>2.11203535639414</td>\n",
       "      <td>41.3841912394771</td>\n",
       "    </tr>\n",
       "    <tr>\n",
       "      <th>1</th>\n",
       "      <td>2.111944376806616</td>\n",
       "      <td>41.38446666680338</td>\n",
       "    </tr>\n",
       "    <tr>\n",
       "      <th>2</th>\n",
       "      <td>2.112093343037027</td>\n",
       "      <td>41.38422850920645</td>\n",
       "    </tr>\n",
       "    <tr>\n",
       "      <th>3</th>\n",
       "      <td>2.122592049318304</td>\n",
       "      <td>41.38719094189204</td>\n",
       "    </tr>\n",
       "    <tr>\n",
       "      <th>4</th>\n",
       "      <td>2.122657659295115</td>\n",
       "      <td>41.38694195794678</td>\n",
       "    </tr>\n",
       "  </tbody>\n",
       "</table>\n",
       "</div>"
      ],
      "text/plain": [
       "           Longitude           Latitude\n",
       "0   2.11203535639414   41.3841912394771\n",
       "1  2.111944376806616  41.38446666680338\n",
       "2  2.112093343037027  41.38422850920645\n",
       "3  2.122592049318304  41.38719094189204\n",
       "4  2.122657659295115  41.38694195794678"
      ]
     },
     "execution_count": 45,
     "metadata": {},
     "output_type": "execute_result"
    }
   ],
   "source": [
    "coordinates = transit_trams['Coordenades'].str.split(',', expand=True).loc[:,:1]\n",
    "coordinates.columns = ['Longitude', 'Latitude']\n",
    "coordinates.head()"
   ]
  },
  {
   "cell_type": "code",
   "execution_count": 46,
   "metadata": {
    "tags": []
   },
   "outputs": [
    {
     "name": "stdout",
     "output_type": "stream",
     "text": [
      "(492, 3)\n",
      "(492, 2)\n"
     ]
    }
   ],
   "source": [
    "print(transit_trams.shape)\n",
    "print(coordinates.shape)"
   ]
  },
  {
   "cell_type": "code",
   "execution_count": 47,
   "metadata": {},
   "outputs": [
    {
     "data": {
      "text/html": [
       "<div>\n",
       "<style scoped>\n",
       "    .dataframe tbody tr th:only-of-type {\n",
       "        vertical-align: middle;\n",
       "    }\n",
       "\n",
       "    .dataframe tbody tr th {\n",
       "        vertical-align: top;\n",
       "    }\n",
       "\n",
       "    .dataframe thead th {\n",
       "        text-align: right;\n",
       "    }\n",
       "</style>\n",
       "<table border=\"1\" class=\"dataframe\">\n",
       "  <thead>\n",
       "    <tr style=\"text-align: right;\">\n",
       "      <th></th>\n",
       "      <th>Tram</th>\n",
       "      <th>Descripció</th>\n",
       "      <th>Latitude</th>\n",
       "      <th>Longitude</th>\n",
       "    </tr>\n",
       "  </thead>\n",
       "  <tbody>\n",
       "    <tr>\n",
       "      <th>0</th>\n",
       "      <td>1</td>\n",
       "      <td>Diagonal (Ronda de Dalt a Doctor Marañón)</td>\n",
       "      <td>41.3841912394771</td>\n",
       "      <td>2.11203535639414</td>\n",
       "    </tr>\n",
       "    <tr>\n",
       "      <th>1</th>\n",
       "      <td>2</td>\n",
       "      <td>Diagonal (Doctor Marañón a Ronda de Dalt)</td>\n",
       "      <td>41.38446666680338</td>\n",
       "      <td>2.111944376806616</td>\n",
       "    </tr>\n",
       "    <tr>\n",
       "      <th>2</th>\n",
       "      <td>3</td>\n",
       "      <td>Diagonal (Doctor Marañón a Pl. Pius XII)</td>\n",
       "      <td>41.38422850920645</td>\n",
       "      <td>2.112093343037027</td>\n",
       "    </tr>\n",
       "    <tr>\n",
       "      <th>3</th>\n",
       "      <td>4</td>\n",
       "      <td>Diagonal (Pl. Pius XII a Doctor Marañón)</td>\n",
       "      <td>41.38719094189204</td>\n",
       "      <td>2.122592049318304</td>\n",
       "    </tr>\n",
       "    <tr>\n",
       "      <th>4</th>\n",
       "      <td>5</td>\n",
       "      <td>Diagonal (Pl. Pius XII a Pl. Maria Cristina)</td>\n",
       "      <td>41.38694195794678</td>\n",
       "      <td>2.122657659295115</td>\n",
       "    </tr>\n",
       "  </tbody>\n",
       "</table>\n",
       "</div>"
      ],
      "text/plain": [
       "   Tram                                    Descripció           Latitude  \\\n",
       "0     1     Diagonal (Ronda de Dalt a Doctor Marañón)   41.3841912394771   \n",
       "1     2     Diagonal (Doctor Marañón a Ronda de Dalt)  41.38446666680338   \n",
       "2     3      Diagonal (Doctor Marañón a Pl. Pius XII)  41.38422850920645   \n",
       "3     4      Diagonal (Pl. Pius XII a Doctor Marañón)  41.38719094189204   \n",
       "4     5  Diagonal (Pl. Pius XII a Pl. Maria Cristina)  41.38694195794678   \n",
       "\n",
       "           Longitude  \n",
       "0   2.11203535639414  \n",
       "1  2.111944376806616  \n",
       "2  2.112093343037027  \n",
       "3  2.122592049318304  \n",
       "4  2.122657659295115  "
      ]
     },
     "execution_count": 47,
     "metadata": {},
     "output_type": "execute_result"
    }
   ],
   "source": [
    "transit_trams_clean = pd.concat([transit_trams, coordinates], axis=1)\n",
    "transit_trams_clean = transit_trams_clean[['Tram', 'Descripció', 'Latitude', 'Longitude']]\n",
    "transit_trams_clean.head()"
   ]
  },
  {
   "cell_type": "code",
   "execution_count": 48,
   "metadata": {},
   "outputs": [],
   "source": [
    "transit_trams_clean.to_csv(\"./data/transit_trams.csv\")"
   ]
  },
  {
   "cell_type": "code",
   "execution_count": null,
   "metadata": {},
   "outputs": [],
   "source": []
  }
 ],
 "metadata": {
  "kernelspec": {
   "display_name": "Python 3.7.6 64-bit ('base': conda)",
   "language": "python",
   "name": "python37664bitbaseconda45c4735d229e4b89864933604f8dfee7"
  },
  "language_info": {
   "codemirror_mode": {
    "name": "ipython",
    "version": 3
   },
   "file_extension": ".py",
   "mimetype": "text/x-python",
   "name": "python",
   "nbconvert_exporter": "python",
   "pygments_lexer": "ipython3",
   "version": "3.7.6"
  }
 },
 "nbformat": 4,
 "nbformat_minor": 2
}
