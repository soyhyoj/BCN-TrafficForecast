{
 "cells": [
  {
   "cell_type": "code",
   "execution_count": 1,
   "metadata": {},
   "outputs": [],
   "source": [
    "# Import libraries\n",
    "import pandas as pd\n",
    "import geopandas\n",
    "from shapely.geometry import Point, LineString"
   ]
  },
  {
   "cell_type": "code",
   "execution_count": 40,
   "metadata": {},
   "outputs": [
    {
     "output_type": "execute_result",
     "data": {
      "text/plain": "                                            Description  \\\nSectionID                                                 \n1             Diagonal (Ronda de Dalt a Doctor Marañón)   \n2             Diagonal (Doctor Marañón a Ronda de Dalt)   \n3              Diagonal (Doctor Marañón a Pl. Pius XII)   \n4              Diagonal (Pl. Pius XII a Doctor Marañón)   \n5          Diagonal (Pl. Pius XII a Pl. Maria Cristina)   \n\n                                                 Coordinates  \nSectionID                                                     \n1          2.11203535639414,41.3841912394771,2.1015028628...  \n2          2.111944376806616,41.38446666680338,2.10159408...  \n3          2.112093343037027,41.38422850920645,2.12264979...  \n4          2.122592049318304,41.38719094189204,2.11196902...  \n5          2.122657659295115,41.38694195794678,2.12755961...  ",
      "text/html": "<div>\n<style scoped>\n    .dataframe tbody tr th:only-of-type {\n        vertical-align: middle;\n    }\n\n    .dataframe tbody tr th {\n        vertical-align: top;\n    }\n\n    .dataframe thead th {\n        text-align: right;\n    }\n</style>\n<table border=\"1\" class=\"dataframe\">\n  <thead>\n    <tr style=\"text-align: right;\">\n      <th></th>\n      <th>Description</th>\n      <th>Coordinates</th>\n    </tr>\n    <tr>\n      <th>SectionID</th>\n      <th></th>\n      <th></th>\n    </tr>\n  </thead>\n  <tbody>\n    <tr>\n      <th>1</th>\n      <td>Diagonal (Ronda de Dalt a Doctor Marañón)</td>\n      <td>2.11203535639414,41.3841912394771,2.1015028628...</td>\n    </tr>\n    <tr>\n      <th>2</th>\n      <td>Diagonal (Doctor Marañón a Ronda de Dalt)</td>\n      <td>2.111944376806616,41.38446666680338,2.10159408...</td>\n    </tr>\n    <tr>\n      <th>3</th>\n      <td>Diagonal (Doctor Marañón a Pl. Pius XII)</td>\n      <td>2.112093343037027,41.38422850920645,2.12264979...</td>\n    </tr>\n    <tr>\n      <th>4</th>\n      <td>Diagonal (Pl. Pius XII a Doctor Marañón)</td>\n      <td>2.122592049318304,41.38719094189204,2.11196902...</td>\n    </tr>\n    <tr>\n      <th>5</th>\n      <td>Diagonal (Pl. Pius XII a Pl. Maria Cristina)</td>\n      <td>2.122657659295115,41.38694195794678,2.12755961...</td>\n    </tr>\n  </tbody>\n</table>\n</div>"
     },
     "metadata": {},
     "execution_count": 40
    }
   ],
   "source": [
    "# Use English column names (original in Catalan)\n",
    "columns_eng = ['SectionID', 'Description', 'Coordinates']\n",
    "\n",
    "# Read the file with the Tram ID as index (Skiprows=1 to remove the original column names)\n",
    "transits = pd.read_csv('./data/transit_relacio_trams.csv', index_col=0, names=columns_eng, skiprows=1)\n",
    "\n",
    "transits.head()"
   ]
  },
  {
   "cell_type": "code",
   "execution_count": 42,
   "metadata": {},
   "outputs": [
    {
     "output_type": "execute_result",
     "data": {
      "text/plain": "0    0\n1    0\ndtype: int64"
     },
     "metadata": {},
     "execution_count": 42
    }
   ],
   "source": [
    "# Is there any rows without its coordinate values?\n",
    "transits['Coordinates'].str.split(',', expand=True).loc[:,:1].isnull().sum()"
   ]
  },
  {
   "cell_type": "code",
   "execution_count": 45,
   "metadata": {},
   "outputs": [
    {
     "output_type": "execute_result",
     "data": {
      "text/plain": "0"
     },
     "metadata": {},
     "execution_count": 45
    }
   ],
   "source": [
    "# Is there any duplicated values?\n",
    "transits['Coordinates'].duplicated().sum()"
   ]
  },
  {
   "cell_type": "code",
   "execution_count": 47,
   "metadata": {
    "tags": []
   },
   "outputs": [
    {
     "output_type": "stream",
     "name": "stdout",
     "text": "&lt;class &#39;pandas.core.frame.DataFrame&#39;&gt;\nInt64Index: 492 entries, 1 to 534\nData columns (total 2 columns):\n #   Column       Non-Null Count  Dtype \n---  ------       --------------  ----- \n 0   Description  492 non-null    object\n 1   Coordinates  492 non-null    object\ndtypes: object(2)\nmemory usage: 11.5+ KB\n"
    }
   ],
   "source": [
    "# Are the datatype correctly assigned?\n",
    "# 'Coordinates' should be numeric, not string\n",
    "transits.info()"
   ]
  },
  {
   "cell_type": "code",
   "execution_count": 48,
   "metadata": {
    "tags": []
   },
   "outputs": [
    {
     "output_type": "stream",
     "name": "stdout",
     "text": "Check index 241 again\n[&#39;2.146454467868266 41.393027770024275&#39;, &#39;2.1516317023376 41.389144874554006&#39;, &#39;2.1539248285035 41.38737437733698&#39;, &#39;2.1580025178065 41.38423619248701&#39;, &#39;2.1635456700879 41.380259228103&#39;]\n"
    }
   ],
   "source": [
    "# Separate elements: split the coordinates by ','\n",
    "elements = [row.split(\",\") for row in transits.Coordinates]\n",
    "\n",
    "# Check is there corrupted data that are not separated by ','\n",
    "# We can approach this by examining the size of each coordinate list\n",
    "# which should be an even number\n",
    "def get_index_not_separated(list):\n",
    "    for i, element in enumerate(list):\n",
    "        if len(element)%2 != 0:\n",
    "            print(f'Check index {i} again')    # print the index number\n",
    "            print(list[i])\n",
    "\n",
    "get_index_not_separated(elements)\n"
   ]
  },
  {
   "cell_type": "code",
   "execution_count": 49,
   "metadata": {
    "tags": []
   },
   "outputs": [
    {
     "output_type": "execute_result",
     "data": {
      "text/plain": "[&#39;2.146454467868266&#39;,\n &#39;41.393027770024275&#39;,\n &#39;2.1516317023376&#39;,\n &#39;41.389144874554006&#39;,\n &#39;2.1539248285035&#39;,\n &#39;41.38737437733698&#39;,\n &#39;2.1580025178065&#39;,\n &#39;41.38423619248701&#39;,\n &#39;2.1635456700879&#39;,\n &#39;41.380259228103&#39;]"
     },
     "metadata": {},
     "execution_count": 49
    }
   ],
   "source": [
    "# Let's fix this 241st element using split method\n",
    "element_241_split = [e.split() for e in elements[241]]\n",
    "\n",
    "element_241 = []\n",
    "for el in element_241_split:\n",
    "     element_241 += el\n",
    "\n",
    "element_241"
   ]
  },
  {
   "cell_type": "code",
   "execution_count": 50,
   "metadata": {},
   "outputs": [],
   "source": [
    "elements[241] = element_241"
   ]
  },
  {
   "cell_type": "code",
   "execution_count": 54,
   "metadata": {
    "tags": []
   },
   "outputs": [
    {
     "output_type": "execute_result",
     "data": {
      "text/plain": "                                            Description  \\\nSectionID                                                 \n1             Diagonal (Ronda de Dalt a Doctor Marañón)   \n2             Diagonal (Doctor Marañón a Ronda de Dalt)   \n3              Diagonal (Doctor Marañón a Pl. Pius XII)   \n4              Diagonal (Pl. Pius XII a Doctor Marañón)   \n5          Diagonal (Pl. Pius XII a Pl. Maria Cristina)   \n\n                                                 Coordinates  \nSectionID                                                     \n1          [2.11203535639414, 41.3841912394771, 2.1015028...  \n2          [2.111944376806616, 41.38446666680338, 2.10159...  \n3          [2.112093343037027, 41.38422850920645, 2.12264...  \n4          [2.122592049318304, 41.38719094189204, 2.11196...  \n5          [2.122657659295115, 41.38694195794678, 2.12755...  ",
      "text/html": "<div>\n<style scoped>\n    .dataframe tbody tr th:only-of-type {\n        vertical-align: middle;\n    }\n\n    .dataframe tbody tr th {\n        vertical-align: top;\n    }\n\n    .dataframe thead th {\n        text-align: right;\n    }\n</style>\n<table border=\"1\" class=\"dataframe\">\n  <thead>\n    <tr style=\"text-align: right;\">\n      <th></th>\n      <th>Description</th>\n      <th>Coordinates</th>\n    </tr>\n    <tr>\n      <th>SectionID</th>\n      <th></th>\n      <th></th>\n    </tr>\n  </thead>\n  <tbody>\n    <tr>\n      <th>1</th>\n      <td>Diagonal (Ronda de Dalt a Doctor Marañón)</td>\n      <td>[2.11203535639414, 41.3841912394771, 2.1015028...</td>\n    </tr>\n    <tr>\n      <th>2</th>\n      <td>Diagonal (Doctor Marañón a Ronda de Dalt)</td>\n      <td>[2.111944376806616, 41.38446666680338, 2.10159...</td>\n    </tr>\n    <tr>\n      <th>3</th>\n      <td>Diagonal (Doctor Marañón a Pl. Pius XII)</td>\n      <td>[2.112093343037027, 41.38422850920645, 2.12264...</td>\n    </tr>\n    <tr>\n      <th>4</th>\n      <td>Diagonal (Pl. Pius XII a Doctor Marañón)</td>\n      <td>[2.122592049318304, 41.38719094189204, 2.11196...</td>\n    </tr>\n    <tr>\n      <th>5</th>\n      <td>Diagonal (Pl. Pius XII a Pl. Maria Cristina)</td>\n      <td>[2.122657659295115, 41.38694195794678, 2.12755...</td>\n    </tr>\n  </tbody>\n</table>\n</div>"
     },
     "metadata": {},
     "execution_count": 54
    }
   ],
   "source": [
    "# First, change the list items to numeric(float)\n",
    "for i, list in enumerate(elements):\n",
    "    string_to_float = [float(item) for item in list]\n",
    "    transits.iloc[i,1] = string_to_float\n",
    "\n",
    "transits.head()"
   ]
  },
  {
   "source": [
    "'Coordinates' column is finally in numeric form.\n",
    "\n",
    "How can we convert the list of several coordinates into LineString data type of Geopandas?"
   ],
   "cell_type": "markdown",
   "metadata": {}
  },
  {
   "cell_type": "code",
   "execution_count": null,
   "metadata": {},
   "outputs": [],
   "source": [
    "# Sudocodes"
   ]
  },
  {
   "cell_type": "code",
   "execution_count": 55,
   "metadata": {},
   "outputs": [],
   "source": [
    "# for i, e in enumerate(elements):\n",
    "#     # Check if the coordinates are all in pairs\n",
    "#     if len(e)%2 == 0:\n",
    "#         #zip the coordinates into a point object and convert to a GeoData Frame\n",
    "#         geo_df.iloc[i] = [(e[n], e[n+1]) for n in range(0,len(e),2)]\n",
    "#         geometry = [Point(xy) for xy in zip(e[n], e[n+1])]\n"
   ]
  },
  {
   "cell_type": "code",
   "execution_count": null,
   "metadata": {},
   "outputs": [],
   "source": []
  },
  {
   "cell_type": "code",
   "execution_count": 47,
   "metadata": {},
   "outputs": [
    {
     "data": {
      "text/html": [
       "<div>\n",
       "<style scoped>\n",
       "    .dataframe tbody tr th:only-of-type {\n",
       "        vertical-align: middle;\n",
       "    }\n",
       "\n",
       "    .dataframe tbody tr th {\n",
       "        vertical-align: top;\n",
       "    }\n",
       "\n",
       "    .dataframe thead th {\n",
       "        text-align: right;\n",
       "    }\n",
       "</style>\n",
       "<table border=\"1\" class=\"dataframe\">\n",
       "  <thead>\n",
       "    <tr style=\"text-align: right;\">\n",
       "      <th></th>\n",
       "      <th>Tram</th>\n",
       "      <th>Descripció</th>\n",
       "      <th>Latitude</th>\n",
       "      <th>Longitude</th>\n",
       "    </tr>\n",
       "  </thead>\n",
       "  <tbody>\n",
       "    <tr>\n",
       "      <th>0</th>\n",
       "      <td>1</td>\n",
       "      <td>Diagonal (Ronda de Dalt a Doctor Marañón)</td>\n",
       "      <td>41.3841912394771</td>\n",
       "      <td>2.11203535639414</td>\n",
       "    </tr>\n",
       "    <tr>\n",
       "      <th>1</th>\n",
       "      <td>2</td>\n",
       "      <td>Diagonal (Doctor Marañón a Ronda de Dalt)</td>\n",
       "      <td>41.38446666680338</td>\n",
       "      <td>2.111944376806616</td>\n",
       "    </tr>\n",
       "    <tr>\n",
       "      <th>2</th>\n",
       "      <td>3</td>\n",
       "      <td>Diagonal (Doctor Marañón a Pl. Pius XII)</td>\n",
       "      <td>41.38422850920645</td>\n",
       "      <td>2.112093343037027</td>\n",
       "    </tr>\n",
       "    <tr>\n",
       "      <th>3</th>\n",
       "      <td>4</td>\n",
       "      <td>Diagonal (Pl. Pius XII a Doctor Marañón)</td>\n",
       "      <td>41.38719094189204</td>\n",
       "      <td>2.122592049318304</td>\n",
       "    </tr>\n",
       "    <tr>\n",
       "      <th>4</th>\n",
       "      <td>5</td>\n",
       "      <td>Diagonal (Pl. Pius XII a Pl. Maria Cristina)</td>\n",
       "      <td>41.38694195794678</td>\n",
       "      <td>2.122657659295115</td>\n",
       "    </tr>\n",
       "  </tbody>\n",
       "</table>\n",
       "</div>"
      ],
      "text/plain": [
       "   Tram                                    Descripció           Latitude  \\\n",
       "0     1     Diagonal (Ronda de Dalt a Doctor Marañón)   41.3841912394771   \n",
       "1     2     Diagonal (Doctor Marañón a Ronda de Dalt)  41.38446666680338   \n",
       "2     3      Diagonal (Doctor Marañón a Pl. Pius XII)  41.38422850920645   \n",
       "3     4      Diagonal (Pl. Pius XII a Doctor Marañón)  41.38719094189204   \n",
       "4     5  Diagonal (Pl. Pius XII a Pl. Maria Cristina)  41.38694195794678   \n",
       "\n",
       "           Longitude  \n",
       "0   2.11203535639414  \n",
       "1  2.111944376806616  \n",
       "2  2.112093343037027  \n",
       "3  2.122592049318304  \n",
       "4  2.122657659295115  "
      ]
     },
     "execution_count": 47,
     "metadata": {},
     "output_type": "execute_result"
    }
   ],
   "source": [
    "transit_trams_clean = pd.concat([transit_trams, coordinates], axis=1)\n",
    "transit_trams_clean = transit_trams_clean[['Tram', 'Descripció', 'Latitude', 'Longitude']]\n",
    "transit_trams_clean.head()"
   ]
  },
  {
   "cell_type": "code",
   "execution_count": 48,
   "metadata": {},
   "outputs": [],
   "source": [
    "transit_trams_clean.to_csv(\"./data/transit_trams.csv\")"
   ]
  },
  {
   "cell_type": "code",
   "execution_count": null,
   "metadata": {},
   "outputs": [],
   "source": []
  }
 ],
 "metadata": {
  "kernelspec": {
   "name": "Python 3.7.6 64-bit ('base': conda)",
   "display_name": "Python 3.7.6 64-bit ('base': conda)",
   "metadata": {
    "interpreter": {
     "hash": "98b0a9b7b4eaaa670588a142fd0a9b87eaafe866f1db4228be72b4211d12040f"
    }
   }
  },
  "language_info": {
   "codemirror_mode": {
    "name": "ipython",
    "version": 3
   },
   "file_extension": ".py",
   "mimetype": "text/x-python",
   "name": "python",
   "nbconvert_exporter": "python",
   "pygments_lexer": "ipython3",
   "version": "3.7.6-final"
  }
 },
 "nbformat": 4,
 "nbformat_minor": 2
}