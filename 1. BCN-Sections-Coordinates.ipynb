{
 "cells": [
  {
   "source": [
    "# Introduction\n",
    "\n",
    "A CSV file containing coordinates of traffic sections of Barcelona (available on Open Data BCN) is loaded."
   ],
   "cell_type": "markdown",
   "metadata": {}
  },
  {
   "cell_type": "code",
   "execution_count": 1,
   "metadata": {},
   "outputs": [],
   "source": [
    "# Import libraries\n",
    "import pandas as pd\n",
    "import geopandas\n",
    "from shapely.geometry import Point, LineString"
   ]
  },
  {
   "cell_type": "code",
   "execution_count": 2,
   "metadata": {},
   "outputs": [
    {
     "output_type": "execute_result",
     "data": {
      "text/plain": [
       "                                            Description  \\\n",
       "SectionID                                                 \n",
       "1             Diagonal (Ronda de Dalt a Doctor Marañón)   \n",
       "2             Diagonal (Doctor Marañón a Ronda de Dalt)   \n",
       "3              Diagonal (Doctor Marañón a Pl. Pius XII)   \n",
       "4              Diagonal (Pl. Pius XII a Doctor Marañón)   \n",
       "5          Diagonal (Pl. Pius XII a Pl. Maria Cristina)   \n",
       "\n",
       "                                                 Coordinates  \n",
       "SectionID                                                     \n",
       "1          2.11203535639414,41.3841912394771,2.1015028628...  \n",
       "2          2.111944376806616,41.38446666680338,2.10159408...  \n",
       "3          2.112093343037027,41.38422850920645,2.12264979...  \n",
       "4          2.122592049318304,41.38719094189204,2.11196902...  \n",
       "5          2.122657659295115,41.38694195794678,2.12755961...  "
      ],
      "text/html": "<div>\n<style scoped>\n    .dataframe tbody tr th:only-of-type {\n        vertical-align: middle;\n    }\n\n    .dataframe tbody tr th {\n        vertical-align: top;\n    }\n\n    .dataframe thead th {\n        text-align: right;\n    }\n</style>\n<table border=\"1\" class=\"dataframe\">\n  <thead>\n    <tr style=\"text-align: right;\">\n      <th></th>\n      <th>Description</th>\n      <th>Coordinates</th>\n    </tr>\n    <tr>\n      <th>SectionID</th>\n      <th></th>\n      <th></th>\n    </tr>\n  </thead>\n  <tbody>\n    <tr>\n      <th>1</th>\n      <td>Diagonal (Ronda de Dalt a Doctor Marañón)</td>\n      <td>2.11203535639414,41.3841912394771,2.1015028628...</td>\n    </tr>\n    <tr>\n      <th>2</th>\n      <td>Diagonal (Doctor Marañón a Ronda de Dalt)</td>\n      <td>2.111944376806616,41.38446666680338,2.10159408...</td>\n    </tr>\n    <tr>\n      <th>3</th>\n      <td>Diagonal (Doctor Marañón a Pl. Pius XII)</td>\n      <td>2.112093343037027,41.38422850920645,2.12264979...</td>\n    </tr>\n    <tr>\n      <th>4</th>\n      <td>Diagonal (Pl. Pius XII a Doctor Marañón)</td>\n      <td>2.122592049318304,41.38719094189204,2.11196902...</td>\n    </tr>\n    <tr>\n      <th>5</th>\n      <td>Diagonal (Pl. Pius XII a Pl. Maria Cristina)</td>\n      <td>2.122657659295115,41.38694195794678,2.12755961...</td>\n    </tr>\n  </tbody>\n</table>\n</div>"
     },
     "metadata": {},
     "execution_count": 2
    }
   ],
   "source": [
    "# Use English column names (original in Catalan)\n",
    "columns_eng = ['SectionID', 'Description', 'Coordinates']\n",
    "\n",
    "# Read the file with the Section ID as index (Skiprows=1 to remove the original column names)\n",
    "transits = pd.read_csv('./data/transit_relacio_trams.csv', index_col=0, names=columns_eng, skiprows=1)\n",
    "\n",
    "transits.head()"
   ]
  },
  {
   "source": [
    "## Sanity check\n",
    "1. missing values\n",
    "2. duplicated values\n",
    "3. data type assignments"
   ],
   "cell_type": "markdown",
   "metadata": {}
  },
  {
   "cell_type": "code",
   "execution_count": 3,
   "metadata": {},
   "outputs": [
    {
     "output_type": "execute_result",
     "data": {
      "text/plain": [
       "0    0\n",
       "1    0\n",
       "dtype: int64"
      ]
     },
     "metadata": {},
     "execution_count": 3
    }
   ],
   "source": [
    "# Is there any rows missing coordinate values?\n",
    "transits['Coordinates'].str.split(',', expand=True).loc[:,:1].isnull().sum()"
   ]
  },
  {
   "cell_type": "code",
   "execution_count": 4,
   "metadata": {},
   "outputs": [
    {
     "output_type": "execute_result",
     "data": {
      "text/plain": [
       "0"
      ]
     },
     "metadata": {},
     "execution_count": 4
    }
   ],
   "source": [
    "# Is there any duplicated values?\n",
    "transits['Coordinates'].duplicated().sum()"
   ]
  },
  {
   "cell_type": "code",
   "execution_count": 5,
   "metadata": {
    "tags": []
   },
   "outputs": [
    {
     "output_type": "stream",
     "name": "stdout",
     "text": [
      "<class 'pandas.core.frame.DataFrame'>\nInt64Index: 492 entries, 1 to 534\nData columns (total 2 columns):\n #   Column       Non-Null Count  Dtype \n---  ------       --------------  ----- \n 0   Description  492 non-null    object\n 1   Coordinates  492 non-null    object\ndtypes: object(2)\nmemory usage: 11.5+ KB\n"
     ]
    }
   ],
   "source": [
    "# Are the datatype correctly assigned?\n",
    "# 'Coordinates' should be numeric, not string\n",
    "transits.info()"
   ]
  },
  {
   "source": [
    "Since this was a 2-day sprint, I used only the first coordinates as a representative point for each street section. However, for a better interpretation of the data, this part should be revisited in the near future:\n",
    "\n",
    "To do: Convert the list of several coordinates into LineString data type of Geopandas?"
   ],
   "cell_type": "markdown",
   "metadata": {}
  },
  {
   "cell_type": "code",
   "execution_count": 6,
   "metadata": {},
   "outputs": [
    {
     "output_type": "execute_result",
     "data": {
      "text/plain": [
       "                                            Description          Longitude  \\\n",
       "SectionID                                                                    \n",
       "1             Diagonal (Ronda de Dalt a Doctor Marañón)   2.11203535639414   \n",
       "2             Diagonal (Doctor Marañón a Ronda de Dalt)  2.111944376806616   \n",
       "3              Diagonal (Doctor Marañón a Pl. Pius XII)  2.112093343037027   \n",
       "4              Diagonal (Pl. Pius XII a Doctor Marañón)  2.122592049318304   \n",
       "5          Diagonal (Pl. Pius XII a Pl. Maria Cristina)  2.122657659295115   \n",
       "\n",
       "                    Latitude  \n",
       "SectionID                     \n",
       "1           41.3841912394771  \n",
       "2          41.38446666680338  \n",
       "3          41.38422850920645  \n",
       "4          41.38719094189204  \n",
       "5          41.38694195794678  "
      ],
      "text/html": "<div>\n<style scoped>\n    .dataframe tbody tr th:only-of-type {\n        vertical-align: middle;\n    }\n\n    .dataframe tbody tr th {\n        vertical-align: top;\n    }\n\n    .dataframe thead th {\n        text-align: right;\n    }\n</style>\n<table border=\"1\" class=\"dataframe\">\n  <thead>\n    <tr style=\"text-align: right;\">\n      <th></th>\n      <th>Description</th>\n      <th>Longitude</th>\n      <th>Latitude</th>\n    </tr>\n    <tr>\n      <th>SectionID</th>\n      <th></th>\n      <th></th>\n      <th></th>\n    </tr>\n  </thead>\n  <tbody>\n    <tr>\n      <th>1</th>\n      <td>Diagonal (Ronda de Dalt a Doctor Marañón)</td>\n      <td>2.11203535639414</td>\n      <td>41.3841912394771</td>\n    </tr>\n    <tr>\n      <th>2</th>\n      <td>Diagonal (Doctor Marañón a Ronda de Dalt)</td>\n      <td>2.111944376806616</td>\n      <td>41.38446666680338</td>\n    </tr>\n    <tr>\n      <th>3</th>\n      <td>Diagonal (Doctor Marañón a Pl. Pius XII)</td>\n      <td>2.112093343037027</td>\n      <td>41.38422850920645</td>\n    </tr>\n    <tr>\n      <th>4</th>\n      <td>Diagonal (Pl. Pius XII a Doctor Marañón)</td>\n      <td>2.122592049318304</td>\n      <td>41.38719094189204</td>\n    </tr>\n    <tr>\n      <th>5</th>\n      <td>Diagonal (Pl. Pius XII a Pl. Maria Cristina)</td>\n      <td>2.122657659295115</td>\n      <td>41.38694195794678</td>\n    </tr>\n  </tbody>\n</table>\n</div>"
     },
     "metadata": {},
     "execution_count": 6
    }
   ],
   "source": [
    "# Select the first pair of coordinates as representative geolocation for each section\\n\",\n",
    "first_pair = transits['Coordinates'].str.split(',', expand=True).loc[:,:1]\n",
    "\n",
    "transits_to_export = transits[['Description']]\n",
    "transits_to_export = transits_to_export.assign(Longitude = first_pair[0], Latitude = first_pair[1])\n",
    "transits_to_export.head()"
   ]
  },
  {
   "source": [
    "# END (6 Sep 2020)\n",
    "--------------------------"
   ],
   "cell_type": "markdown",
   "metadata": {}
  },
  {
   "source": [
    "# "
   ],
   "cell_type": "markdown",
   "metadata": {}
  },
  {
   "source": [
    "# On going (Nov 2020)"
   ],
   "cell_type": "markdown",
   "metadata": {}
  },
  {
   "cell_type": "code",
   "execution_count": 22,
   "metadata": {},
   "outputs": [
    {
     "output_type": "execute_result",
     "data": {
      "text/plain": [
       "                                                 Description  \\\n",
       "SectionID                                                      \n",
       "1                  Diagonal (Ronda de Dalt a Doctor Marañón)   \n",
       "2                  Diagonal (Doctor Marañón a Ronda de Dalt)   \n",
       "3                   Diagonal (Doctor Marañón a Pl. Pius XII)   \n",
       "4                   Diagonal (Pl. Pius XII a Doctor Marañón)   \n",
       "5               Diagonal (Pl. Pius XII a Pl. Maria Cristina)   \n",
       "...                                                      ...   \n",
       "530        Ronda Litoral (Passeig de la Zona Franca a Est...   \n",
       "531                        Ronda Litoral (Gran Via a Potosí)   \n",
       "532                        Ronda Litoral (Potosí a Gran Via)   \n",
       "533              Ronda Litoral (Potosí a Nus de la Trinitat)   \n",
       "534              Ronda Litoral (Nus de la Trinitat a Potosí)   \n",
       "\n",
       "                                                 Coordinates  \n",
       "SectionID                                                     \n",
       "1          2.11203535639414,41.3841912394771,2.1015028628...  \n",
       "2          2.111944376806616,41.38446666680338,2.10159408...  \n",
       "3          2.112093343037027,41.38422850920645,2.12264979...  \n",
       "4          2.122592049318304,41.38719094189204,2.11196902...  \n",
       "5          2.122657659295115,41.38694195794678,2.12755961...  \n",
       "...                                                      ...  \n",
       "530        2.14689, 41.34946, 2.14681, 41.34943, 2.14622,...  \n",
       "531        2.206259340928256,41.44361502134825,2.20757431...  \n",
       "532        2.206062333803802,41.44356616311283,2.20747237...  \n",
       "533        2.206243003622748,41.44362108033077,2.20220784...  \n",
       "534        2.206062333803802,41.44356616311283,2.20196194...  \n",
       "\n",
       "[492 rows x 2 columns]"
      ],
      "text/html": "<div>\n<style scoped>\n    .dataframe tbody tr th:only-of-type {\n        vertical-align: middle;\n    }\n\n    .dataframe tbody tr th {\n        vertical-align: top;\n    }\n\n    .dataframe thead th {\n        text-align: right;\n    }\n</style>\n<table border=\"1\" class=\"dataframe\">\n  <thead>\n    <tr style=\"text-align: right;\">\n      <th></th>\n      <th>Description</th>\n      <th>Coordinates</th>\n    </tr>\n    <tr>\n      <th>SectionID</th>\n      <th></th>\n      <th></th>\n    </tr>\n  </thead>\n  <tbody>\n    <tr>\n      <th>1</th>\n      <td>Diagonal (Ronda de Dalt a Doctor Marañón)</td>\n      <td>2.11203535639414,41.3841912394771,2.1015028628...</td>\n    </tr>\n    <tr>\n      <th>2</th>\n      <td>Diagonal (Doctor Marañón a Ronda de Dalt)</td>\n      <td>2.111944376806616,41.38446666680338,2.10159408...</td>\n    </tr>\n    <tr>\n      <th>3</th>\n      <td>Diagonal (Doctor Marañón a Pl. Pius XII)</td>\n      <td>2.112093343037027,41.38422850920645,2.12264979...</td>\n    </tr>\n    <tr>\n      <th>4</th>\n      <td>Diagonal (Pl. Pius XII a Doctor Marañón)</td>\n      <td>2.122592049318304,41.38719094189204,2.11196902...</td>\n    </tr>\n    <tr>\n      <th>5</th>\n      <td>Diagonal (Pl. Pius XII a Pl. Maria Cristina)</td>\n      <td>2.122657659295115,41.38694195794678,2.12755961...</td>\n    </tr>\n    <tr>\n      <th>...</th>\n      <td>...</td>\n      <td>...</td>\n    </tr>\n    <tr>\n      <th>530</th>\n      <td>Ronda Litoral (Passeig de la Zona Franca a Est...</td>\n      <td>2.14689, 41.34946, 2.14681, 41.34943, 2.14622,...</td>\n    </tr>\n    <tr>\n      <th>531</th>\n      <td>Ronda Litoral (Gran Via a Potosí)</td>\n      <td>2.206259340928256,41.44361502134825,2.20757431...</td>\n    </tr>\n    <tr>\n      <th>532</th>\n      <td>Ronda Litoral (Potosí a Gran Via)</td>\n      <td>2.206062333803802,41.44356616311283,2.20747237...</td>\n    </tr>\n    <tr>\n      <th>533</th>\n      <td>Ronda Litoral (Potosí a Nus de la Trinitat)</td>\n      <td>2.206243003622748,41.44362108033077,2.20220784...</td>\n    </tr>\n    <tr>\n      <th>534</th>\n      <td>Ronda Litoral (Nus de la Trinitat a Potosí)</td>\n      <td>2.206062333803802,41.44356616311283,2.20196194...</td>\n    </tr>\n  </tbody>\n</table>\n<p>492 rows × 2 columns</p>\n</div>"
     },
     "metadata": {},
     "execution_count": 22
    }
   ],
   "source": [
    "# Select the first pair of coordinates as representative geolocation for each section\n",
    "transits"
   ]
  },
  {
   "cell_type": "code",
   "execution_count": 31,
   "metadata": {},
   "outputs": [
    {
     "output_type": "execute_result",
     "data": {
      "text/plain": [
       "                                            Description           Latitude  \\\n",
       "SectionID                                                                    \n",
       "1             Diagonal (Ronda de Dalt a Doctor Marañón)   41.3841912394771   \n",
       "2             Diagonal (Doctor Marañón a Ronda de Dalt)  41.38446666680338   \n",
       "3              Diagonal (Doctor Marañón a Pl. Pius XII)  41.38422850920645   \n",
       "4              Diagonal (Pl. Pius XII a Doctor Marañón)  41.38719094189204   \n",
       "5          Diagonal (Pl. Pius XII a Pl. Maria Cristina)  41.38694195794678   \n",
       "\n",
       "                   Longitude  \n",
       "SectionID                     \n",
       "1           2.11203535639414  \n",
       "2          2.111944376806616  \n",
       "3          2.112093343037027  \n",
       "4          2.122592049318304  \n",
       "5          2.122657659295115  "
      ],
      "text/html": "<div>\n<style scoped>\n    .dataframe tbody tr th:only-of-type {\n        vertical-align: middle;\n    }\n\n    .dataframe tbody tr th {\n        vertical-align: top;\n    }\n\n    .dataframe thead th {\n        text-align: right;\n    }\n</style>\n<table border=\"1\" class=\"dataframe\">\n  <thead>\n    <tr style=\"text-align: right;\">\n      <th></th>\n      <th>Description</th>\n      <th>Latitude</th>\n      <th>Longitude</th>\n    </tr>\n    <tr>\n      <th>SectionID</th>\n      <th></th>\n      <th></th>\n      <th></th>\n    </tr>\n  </thead>\n  <tbody>\n    <tr>\n      <th>1</th>\n      <td>Diagonal (Ronda de Dalt a Doctor Marañón)</td>\n      <td>41.3841912394771</td>\n      <td>2.11203535639414</td>\n    </tr>\n    <tr>\n      <th>2</th>\n      <td>Diagonal (Doctor Marañón a Ronda de Dalt)</td>\n      <td>41.38446666680338</td>\n      <td>2.111944376806616</td>\n    </tr>\n    <tr>\n      <th>3</th>\n      <td>Diagonal (Doctor Marañón a Pl. Pius XII)</td>\n      <td>41.38422850920645</td>\n      <td>2.112093343037027</td>\n    </tr>\n    <tr>\n      <th>4</th>\n      <td>Diagonal (Pl. Pius XII a Doctor Marañón)</td>\n      <td>41.38719094189204</td>\n      <td>2.122592049318304</td>\n    </tr>\n    <tr>\n      <th>5</th>\n      <td>Diagonal (Pl. Pius XII a Pl. Maria Cristina)</td>\n      <td>41.38694195794678</td>\n      <td>2.122657659295115</td>\n    </tr>\n  </tbody>\n</table>\n</div>"
     },
     "metadata": {},
     "execution_count": 31
    }
   ],
   "source": [
    "# Select the first pair of coordinates as representative geolocation for each section\n",
    "first_pair = transits['Coordinates'].str.split(',', expand=True).loc[:,:1]\n",
    "transits = transits.assign(Longitude = first_pair[0], Latitude = first_pair[1])\n",
    "transits = transits[['Description', 'Latitude', 'Longitude']]\n",
    "transits.head()"
   ]
  },
  {
   "cell_type": "code",
   "execution_count": 7,
   "metadata": {},
   "outputs": [],
   "source": [
    "# Export the result dataframe as csv file\n",
    "# to import in the second notebook for analysis & forecast\n",
    "transits_final.to_csv(\"./data/transit_trams.csv\")"
   ]
  },
  {
   "cell_type": "code",
   "execution_count": 8,
   "metadata": {
    "tags": []
   },
   "outputs": [
    {
     "output_type": "execute_result",
     "data": {
      "text/plain": [
       "492"
      ]
     },
     "metadata": {},
     "execution_count": 8
    }
   ],
   "source": [
    "# Separate elements of 'Coordinates' column: split each pair of (latitude, longitude) by ','\n",
    "elements = [row.split(\",\") for row in transits.Coordinates]\n",
    "\n",
    "len(elements)"
   ]
  },
  {
   "cell_type": "code",
   "execution_count": 9,
   "metadata": {},
   "outputs": [
    {
     "output_type": "stream",
     "name": "stdout",
     "text": [
      "Check index 241 again\n['2.146454467868266 41.393027770024275', '2.1516317023376 41.389144874554006', '2.1539248285035 41.38737437733698', '2.1580025178065 41.38423619248701', '2.1635456700879 41.380259228103']\n"
     ]
    }
   ],
   "source": [
    "# Check is there corrupted data that are not separated by ','\n",
    "# By examining the size of each coordinate list (is it a even number?)\n",
    "def get_index_not_separated(list):\n",
    "    for i, element in enumerate(list):\n",
    "        if len(element)%2 != 0: # list size is an odd number\n",
    "            print(f'Check index {i} again')    # print the index number\n",
    "            print(list[i])\n",
    "\n",
    "get_index_not_separated(elements)"
   ]
  },
  {
   "cell_type": "code",
   "execution_count": 20,
   "metadata": {},
   "outputs": [
    {
     "output_type": "execute_result",
     "data": {
      "text/plain": [
       "Description    object\n",
       "Coordinates    object\n",
       "dtype: object"
      ]
     },
     "metadata": {},
     "execution_count": 20
    }
   ],
   "source": [
    "transits_clean = transits.copy()\n",
    "\n",
    "transits_clean.apply(lambda x: elements)\n",
    "transits_clean.dtypes"
   ]
  },
  {
   "cell_type": "code",
   "execution_count": 49,
   "metadata": {},
   "outputs": [
    {
     "output_type": "execute_result",
     "data": {
      "text/plain": [
       "                                            Description  \\\n",
       "SectionID                                                 \n",
       "1             Diagonal (Ronda de Dalt a Doctor Marañón)   \n",
       "2             Diagonal (Doctor Marañón a Ronda de Dalt)   \n",
       "3              Diagonal (Doctor Marañón a Pl. Pius XII)   \n",
       "4              Diagonal (Pl. Pius XII a Doctor Marañón)   \n",
       "5          Diagonal (Pl. Pius XII a Pl. Maria Cristina)   \n",
       "\n",
       "                                                 Coordinates  \n",
       "SectionID                                                     \n",
       "1          [2.11203535639414, 41.3841912394771, 2.1015028...  \n",
       "2          [2.111944376806616, 41.38446666680338, 2.10159...  \n",
       "3          [2.112093343037027, 41.38422850920645, 2.12264...  \n",
       "4          [2.122592049318304, 41.38719094189204, 2.11196...  \n",
       "5          [2.122657659295115, 41.38694195794678, 2.12755...  "
      ],
      "text/html": "<div>\n<style scoped>\n    .dataframe tbody tr th:only-of-type {\n        vertical-align: middle;\n    }\n\n    .dataframe tbody tr th {\n        vertical-align: top;\n    }\n\n    .dataframe thead th {\n        text-align: right;\n    }\n</style>\n<table border=\"1\" class=\"dataframe\">\n  <thead>\n    <tr style=\"text-align: right;\">\n      <th></th>\n      <th>Description</th>\n      <th>Coordinates</th>\n    </tr>\n    <tr>\n      <th>SectionID</th>\n      <th></th>\n      <th></th>\n    </tr>\n  </thead>\n  <tbody>\n    <tr>\n      <th>1</th>\n      <td>Diagonal (Ronda de Dalt a Doctor Marañón)</td>\n      <td>[2.11203535639414, 41.3841912394771, 2.1015028...</td>\n    </tr>\n    <tr>\n      <th>2</th>\n      <td>Diagonal (Doctor Marañón a Ronda de Dalt)</td>\n      <td>[2.111944376806616, 41.38446666680338, 2.10159...</td>\n    </tr>\n    <tr>\n      <th>3</th>\n      <td>Diagonal (Doctor Marañón a Pl. Pius XII)</td>\n      <td>[2.112093343037027, 41.38422850920645, 2.12264...</td>\n    </tr>\n    <tr>\n      <th>4</th>\n      <td>Diagonal (Pl. Pius XII a Doctor Marañón)</td>\n      <td>[2.122592049318304, 41.38719094189204, 2.11196...</td>\n    </tr>\n    <tr>\n      <th>5</th>\n      <td>Diagonal (Pl. Pius XII a Pl. Maria Cristina)</td>\n      <td>[2.122657659295115, 41.38694195794678, 2.12755...</td>\n    </tr>\n  </tbody>\n</table>\n</div>"
     },
     "metadata": {},
     "execution_count": 49
    }
   ],
   "source": [
    "# Change the list items to numeric(float) values\n",
    "# and replace the 'Coordinates' column.\n",
    "transits_clean.Coordinates = [list(map(float, element)) for element in elements]\n",
    "transits_clean.head()"
   ]
  },
  {
   "cell_type": "code",
   "execution_count": 10,
   "metadata": {
    "tags": []
   },
   "outputs": [
    {
     "output_type": "execute_result",
     "data": {
      "text/plain": [
       "['2.146454467868266',\n",
       " '41.393027770024275',\n",
       " '2.1516317023376',\n",
       " '41.389144874554006',\n",
       " '2.1539248285035',\n",
       " '41.38737437733698',\n",
       " '2.1580025178065',\n",
       " '41.38423619248701',\n",
       " '2.1635456700879',\n",
       " '41.380259228103']"
      ]
     },
     "metadata": {},
     "execution_count": 10
    }
   ],
   "source": [
    "# Let's fix this 241st element using split method\n",
    "element_241_split = [e.split() for e in elements[241]]\n",
    "\n",
    "element_241 = []\n",
    "for el in element_241_split:\n",
    "     element_241 += el\n",
    "\n",
    "element_241"
   ]
  },
  {
   "cell_type": "code",
   "execution_count": 11,
   "metadata": {},
   "outputs": [],
   "source": [
    "# Replace the values\n",
    "elements[241] = element_241"
   ]
  },
  {
   "cell_type": "code",
   "execution_count": null,
   "metadata": {},
   "outputs": [],
   "source": [
    "# Points to string\n"
   ]
  }
 ],
 "metadata": {
  "kernelspec": {
   "name": "python3",
   "display_name": "Python 3"
  },
  "language_info": {
   "codemirror_mode": {
    "name": "ipython",
    "version": 3
   },
   "file_extension": ".py",
   "mimetype": "text/x-python",
   "name": "python",
   "nbconvert_exporter": "python",
   "pygments_lexer": "ipython3",
   "version": "3.8.5-final"
  }
 },
 "nbformat": 4,
 "nbformat_minor": 2
}