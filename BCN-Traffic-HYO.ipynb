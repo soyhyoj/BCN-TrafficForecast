{
 "cells": [
  {
   "cell_type": "markdown",
   "metadata": {},
   "source": [
    "### Technical challenge (05-Sep-2020)\n",
    "\n",
    "Data available at [Open Data BCN](https://opendata-ajuntament.barcelona.cat/data/en/dataset/transit-relacio-trams)"
   ]
  },
  {
   "cell_type": "code",
   "execution_count": 108,
   "metadata": {},
   "outputs": [
    {
     "data": {
      "text/plain": [
       "<Figure size 432x288 with 0 Axes>"
      ]
     },
     "metadata": {},
     "output_type": "display_data"
    }
   ],
   "source": [
    "# Import libraries\n",
    "import pandas as pd\n",
    "import numpy as np\n",
    "import matplotlib.pyplot as plt\n",
    "import seaborn as sns\n",
    "import glob\n",
    "import datetime as dt\n",
    "from scipy import stats\n",
    "sns.set_style(\"darkgrid\")\n",
    "sns.despine()\n",
    "sns.set_context(rc={'axes.labelsize':18,\n",
    "                    'axes.titlesize':18,\n",
    "                    'font.size':15,\n",
    "                    'legend.fontsize':15,\n",
    "                    'lines.linewidth':2.2})"
   ]
  },
  {
   "cell_type": "markdown",
   "metadata": {},
   "source": [
    "### Field information:\n",
    "\n",
    "* idTram: Section identification number (more infomrmation in [Relació de trams de la via pública de la ciutat de Barcelona](https://opendata-ajuntament.barcelona.cat/data/en/dataset/transit-relacio-trams))\n",
    "\n",
    "* data: Date of registration (format: YYYY-MM-DD)\n",
    "\n",
    "* estatActual: Current traffic status\n",
    "(0 = sense dades / 1 = molt fluid / 2 = fluid / 3 = dens / 4 = molt dens / 5 = congestió / 6 = tallat) \n",
    "\n",
    "* estatPrevist: Expected traffic status after 15min\n",
    "(0 = sense dades / 1 = molt fluid / 2 = fluid / 3 = dens / 4 = molt dens / 5 = congestió / 6 = tallat) "
   ]
  },
  {
   "cell_type": "code",
   "execution_count": 2,
   "metadata": {},
   "outputs": [
    {
     "name": "stdout",
     "output_type": "stream",
     "text": [
      "(4639708, 4)\n"
     ]
    },
    {
     "data": {
      "text/html": [
       "<div>\n",
       "<style scoped>\n",
       "    .dataframe tbody tr th:only-of-type {\n",
       "        vertical-align: middle;\n",
       "    }\n",
       "\n",
       "    .dataframe tbody tr th {\n",
       "        vertical-align: top;\n",
       "    }\n",
       "\n",
       "    .dataframe thead th {\n",
       "        text-align: right;\n",
       "    }\n",
       "</style>\n",
       "<table border=\"1\" class=\"dataframe\">\n",
       "  <thead>\n",
       "    <tr style=\"text-align: right;\">\n",
       "      <th></th>\n",
       "      <th>idTram</th>\n",
       "      <th>data</th>\n",
       "      <th>estatActual</th>\n",
       "      <th>estatPrevist</th>\n",
       "    </tr>\n",
       "  </thead>\n",
       "  <tbody>\n",
       "    <tr>\n",
       "      <th>0</th>\n",
       "      <td>1</td>\n",
       "      <td>20200101000051</td>\n",
       "      <td>0</td>\n",
       "      <td>0</td>\n",
       "    </tr>\n",
       "    <tr>\n",
       "      <th>1</th>\n",
       "      <td>2</td>\n",
       "      <td>20200101000051</td>\n",
       "      <td>0</td>\n",
       "      <td>0</td>\n",
       "    </tr>\n",
       "    <tr>\n",
       "      <th>2</th>\n",
       "      <td>3</td>\n",
       "      <td>20200101000051</td>\n",
       "      <td>0</td>\n",
       "      <td>0</td>\n",
       "    </tr>\n",
       "    <tr>\n",
       "      <th>3</th>\n",
       "      <td>4</td>\n",
       "      <td>20200101000051</td>\n",
       "      <td>0</td>\n",
       "      <td>0</td>\n",
       "    </tr>\n",
       "    <tr>\n",
       "      <th>4</th>\n",
       "      <td>5</td>\n",
       "      <td>20200101000051</td>\n",
       "      <td>0</td>\n",
       "      <td>0</td>\n",
       "    </tr>\n",
       "  </tbody>\n",
       "</table>\n",
       "</div>"
      ],
      "text/plain": [
       "   idTram            data  estatActual  estatPrevist\n",
       "0       1  20200101000051            0             0\n",
       "1       2  20200101000051            0             0\n",
       "2       3  20200101000051            0             0\n",
       "3       4  20200101000051            0             0\n",
       "4       5  20200101000051            0             0"
      ]
     },
     "execution_count": 2,
     "metadata": {},
     "output_type": "execute_result"
    }
   ],
   "source": [
    "# There are 8 csv files from this year.\n",
    "# Load one of the files (2020-Jan) to check the contents.\n",
    "\n",
    "tram_jan = pd.read_csv('./data/2020_01_Gener_TRAMS_TRAMS.csv')\n",
    "print(tram_jan.shape)\n",
    "tram_jan.head()"
   ]
  },
  {
   "cell_type": "code",
   "execution_count": 3,
   "metadata": {},
   "outputs": [
    {
     "data": {
      "text/plain": [
       "idTram          int64\n",
       "data            int64\n",
       "estatActual     int64\n",
       "estatPrevist    int64\n",
       "dtype: object"
      ]
     },
     "execution_count": 3,
     "metadata": {},
     "output_type": "execute_result"
    }
   ],
   "source": [
    "# Print data types\n",
    "# Why: to check 'data' colmn is accessible by datetime module\n",
    "\n",
    "tram_jan.dtypes"
   ]
  },
  {
   "cell_type": "code",
   "execution_count": 4,
   "metadata": {},
   "outputs": [
    {
     "name": "stdout",
     "output_type": "stream",
     "text": [
      "Proportion of empty rows?: 0.0\n",
      "Proportion of duplicated rows?: 0.0\n"
     ]
    }
   ],
   "source": [
    "# Check if there are corrupted data:\n",
    "# 1. empty rows\n",
    "# 2. duplicated data\n",
    "\n",
    "print(f'Proportion of empty rows?: {tram_jan.isnull().any().mean()}')\n",
    "print(f'Proportion of duplicated rows?: {tram_jan.duplicated().mean()}')"
   ]
  },
  {
   "cell_type": "code",
   "execution_count": 5,
   "metadata": {},
   "outputs": [
    {
     "name": "stdout",
     "output_type": "stream",
     "text": [
      "How many rows lacks data (value=0)?: 2257239\n"
     ]
    }
   ],
   "source": [
    "# Actually, null values in this dataset is presented with value '0'\n",
    "# How many rows lacks data (value=0)?\n",
    "no_data = (tram_jan['estatActual']==0) | (tram_jan['estatPrevist']==0)\n",
    "print(f'How many rows lacks data (value=0)?: {len(tram_jan[no_data])}')"
   ]
  },
  {
   "cell_type": "code",
   "execution_count": 6,
   "metadata": {},
   "outputs": [
    {
     "name": "stdout",
     "output_type": "stream",
     "text": [
      "(2382469, 4)\n"
     ]
    },
    {
     "data": {
      "text/html": [
       "<div>\n",
       "<style scoped>\n",
       "    .dataframe tbody tr th:only-of-type {\n",
       "        vertical-align: middle;\n",
       "    }\n",
       "\n",
       "    .dataframe tbody tr th {\n",
       "        vertical-align: top;\n",
       "    }\n",
       "\n",
       "    .dataframe thead th {\n",
       "        text-align: right;\n",
       "    }\n",
       "</style>\n",
       "<table border=\"1\" class=\"dataframe\">\n",
       "  <thead>\n",
       "    <tr style=\"text-align: right;\">\n",
       "      <th></th>\n",
       "      <th>idTram</th>\n",
       "      <th>data</th>\n",
       "      <th>estatActual</th>\n",
       "      <th>estatPrevist</th>\n",
       "    </tr>\n",
       "  </thead>\n",
       "  <tbody>\n",
       "    <tr>\n",
       "      <th>96</th>\n",
       "      <td>97</td>\n",
       "      <td>20200101000051</td>\n",
       "      <td>1</td>\n",
       "      <td>5</td>\n",
       "    </tr>\n",
       "    <tr>\n",
       "      <th>142</th>\n",
       "      <td>143</td>\n",
       "      <td>20200101000051</td>\n",
       "      <td>1</td>\n",
       "      <td>5</td>\n",
       "    </tr>\n",
       "    <tr>\n",
       "      <th>156</th>\n",
       "      <td>157</td>\n",
       "      <td>20200101000051</td>\n",
       "      <td>1</td>\n",
       "      <td>5</td>\n",
       "    </tr>\n",
       "    <tr>\n",
       "      <th>187</th>\n",
       "      <td>188</td>\n",
       "      <td>20200101000051</td>\n",
       "      <td>1</td>\n",
       "      <td>5</td>\n",
       "    </tr>\n",
       "    <tr>\n",
       "      <th>273</th>\n",
       "      <td>274</td>\n",
       "      <td>20200101000051</td>\n",
       "      <td>3</td>\n",
       "      <td>5</td>\n",
       "    </tr>\n",
       "  </tbody>\n",
       "</table>\n",
       "</div>"
      ],
      "text/plain": [
       "     idTram            data  estatActual  estatPrevist\n",
       "96       97  20200101000051            1             5\n",
       "142     143  20200101000051            1             5\n",
       "156     157  20200101000051            1             5\n",
       "187     188  20200101000051            1             5\n",
       "273     274  20200101000051            3             5"
      ]
     },
     "execution_count": 6,
     "metadata": {},
     "output_type": "execute_result"
    }
   ],
   "source": [
    "# Let's remove these raws without data:\n",
    "tram_jan_clean = tram_jan[~no_data]\n",
    "print(tram_jan_clean.shape)\n",
    "tram_jan_clean.head()"
   ]
  },
  {
   "cell_type": "markdown",
   "metadata": {},
   "source": [
    "### Note:\n",
    "* All fields contain numeric values\n",
    "* 'data' column should be converted to datetime type\n",
    "* No duplicated records\n",
    "* Missing values were removed"
   ]
  },
  {
   "cell_type": "code",
   "execution_count": 10,
   "metadata": {},
   "outputs": [
    {
     "name": "stdout",
     "output_type": "stream",
     "text": [
      "(59, 4)\n",
      "(118, 3)\n",
      "(118, 3)\n",
      "(118, 3)\n"
     ]
    },
    {
     "data": {
      "text/html": [
       "<div>\n",
       "<style scoped>\n",
       "    .dataframe tbody tr th:only-of-type {\n",
       "        vertical-align: middle;\n",
       "    }\n",
       "\n",
       "    .dataframe tbody tr th {\n",
       "        vertical-align: top;\n",
       "    }\n",
       "\n",
       "    .dataframe thead th {\n",
       "        text-align: right;\n",
       "    }\n",
       "</style>\n",
       "<table border=\"1\" class=\"dataframe\">\n",
       "  <thead>\n",
       "    <tr style=\"text-align: right;\">\n",
       "      <th></th>\n",
       "      <th>Tram</th>\n",
       "      <th>Description</th>\n",
       "      <th>Primary</th>\n",
       "      <th>Secondary</th>\n",
       "    </tr>\n",
       "  </thead>\n",
       "  <tbody>\n",
       "    <tr>\n",
       "      <th>0</th>\n",
       "      <td>1</td>\n",
       "      <td>Diagonal (Ronda de Dalt a Doctor Marañón)</td>\n",
       "      <td>1.0</td>\n",
       "      <td>NaN</td>\n",
       "    </tr>\n",
       "    <tr>\n",
       "      <th>1</th>\n",
       "      <td>2</td>\n",
       "      <td>Diagonal (Doctor Marañón a Ronda de Dalt)</td>\n",
       "      <td>1.0</td>\n",
       "      <td>NaN</td>\n",
       "    </tr>\n",
       "    <tr>\n",
       "      <th>2</th>\n",
       "      <td>3</td>\n",
       "      <td>Diagonal (Doctor Marañón a Pl. Pius XII)</td>\n",
       "      <td>1.0</td>\n",
       "      <td>NaN</td>\n",
       "    </tr>\n",
       "    <tr>\n",
       "      <th>3</th>\n",
       "      <td>4</td>\n",
       "      <td>Diagonal (Pl. Pius XII a Doctor Marañón)</td>\n",
       "      <td>1.0</td>\n",
       "      <td>NaN</td>\n",
       "    </tr>\n",
       "    <tr>\n",
       "      <th>4</th>\n",
       "      <td>5</td>\n",
       "      <td>Diagonal (Pl. Pius XII a Pl. Maria Cristina)</td>\n",
       "      <td>1.0</td>\n",
       "      <td>NaN</td>\n",
       "    </tr>\n",
       "  </tbody>\n",
       "</table>\n",
       "</div>"
      ],
      "text/plain": [
       "   Tram                                   Description  Primary  Secondary\n",
       "0     1     Diagonal (Ronda de Dalt a Doctor Marañón)      1.0        NaN\n",
       "1     2     Diagonal (Doctor Marañón a Ronda de Dalt)      1.0        NaN\n",
       "2     3      Diagonal (Doctor Marañón a Pl. Pius XII)      1.0        NaN\n",
       "3     4      Diagonal (Pl. Pius XII a Doctor Marañón)      1.0        NaN\n",
       "4     5  Diagonal (Pl. Pius XII a Pl. Maria Cristina)      1.0        NaN"
      ]
     },
     "execution_count": 10,
     "metadata": {},
     "output_type": "execute_result"
    }
   ],
   "source": [
    "### Let's bring our focus to the Av. Diagonal:\n",
    "\n",
    "diagonal = pd.read_csv('./data/Diagonal.csv')\n",
    "busstop = pd.read_csv('./data/nearest_busstop_distance.csv')\n",
    "speedcamera = pd.read_csv('./data/nearest_speed_camera_distance.csv')\n",
    "trafficsignal = pd.read_csv('./data/nearest-traffic_signals_distance.csv')\n",
    "\n",
    "print(diagonal.shape)\n",
    "print(busstop.shape)\n",
    "print(speedcamera.shape)\n",
    "print(trafficsignal.shape)\n",
    "diagonal.head()"
   ]
  },
  {
   "cell_type": "code",
   "execution_count": 11,
   "metadata": {},
   "outputs": [
    {
     "name": "stdout",
     "output_type": "stream",
     "text": [
      "Index(['Tram', 'Description', 'Primary', 'Secondary'], dtype='object')\n",
      "Index(['Tram', 'BusstopID', 'Distance_busstop'], dtype='object')\n",
      "Index(['Tram', 'MaxSpeed', 'Distance_camera'], dtype='object')\n",
      "Index(['Tram', 'TrafficSignalID', 'Distance_trafficsignal'], dtype='object')\n"
     ]
    }
   ],
   "source": [
    "print(diagonal.columns)\n",
    "print(busstop.columns)\n",
    "print(speedcamera.columns)\n",
    "print(trafficsignal.columns)"
   ]
  },
  {
   "cell_type": "code",
   "execution_count": 25,
   "metadata": {},
   "outputs": [
    {
     "name": "stdout",
     "output_type": "stream",
     "text": [
      "(118, 6)\n",
      "(236, 8)\n",
      "(472, 10)\n"
     ]
    },
    {
     "data": {
      "text/html": [
       "<div>\n",
       "<style scoped>\n",
       "    .dataframe tbody tr th:only-of-type {\n",
       "        vertical-align: middle;\n",
       "    }\n",
       "\n",
       "    .dataframe tbody tr th {\n",
       "        vertical-align: top;\n",
       "    }\n",
       "\n",
       "    .dataframe thead th {\n",
       "        text-align: right;\n",
       "    }\n",
       "</style>\n",
       "<table border=\"1\" class=\"dataframe\">\n",
       "  <thead>\n",
       "    <tr style=\"text-align: right;\">\n",
       "      <th></th>\n",
       "      <th>Tram</th>\n",
       "      <th>Description</th>\n",
       "      <th>Primary</th>\n",
       "      <th>Secondary</th>\n",
       "      <th>BusstopID</th>\n",
       "      <th>Distance_busstop</th>\n",
       "      <th>MaxSpeed</th>\n",
       "      <th>Distance_camera</th>\n",
       "      <th>TrafficSignalID</th>\n",
       "      <th>Distance_trafficsignal</th>\n",
       "    </tr>\n",
       "  </thead>\n",
       "  <tbody>\n",
       "    <tr>\n",
       "      <th>0</th>\n",
       "      <td>1</td>\n",
       "      <td>Diagonal (Ronda de Dalt a Doctor Marañón)</td>\n",
       "      <td>1.0</td>\n",
       "      <td>NaN</td>\n",
       "      <td>n5341631254</td>\n",
       "      <td>0.001115</td>\n",
       "      <td>80.0</td>\n",
       "      <td>0.006813</td>\n",
       "      <td>n1311619485</td>\n",
       "      <td>0.000266</td>\n",
       "    </tr>\n",
       "    <tr>\n",
       "      <th>1</th>\n",
       "      <td>1</td>\n",
       "      <td>Diagonal (Ronda de Dalt a Doctor Marañón)</td>\n",
       "      <td>1.0</td>\n",
       "      <td>NaN</td>\n",
       "      <td>n5341631254</td>\n",
       "      <td>0.001115</td>\n",
       "      <td>80.0</td>\n",
       "      <td>0.006813</td>\n",
       "      <td>n6181436151</td>\n",
       "      <td>0.000206</td>\n",
       "    </tr>\n",
       "    <tr>\n",
       "      <th>2</th>\n",
       "      <td>1</td>\n",
       "      <td>Diagonal (Ronda de Dalt a Doctor Marañón)</td>\n",
       "      <td>1.0</td>\n",
       "      <td>NaN</td>\n",
       "      <td>n5341631254</td>\n",
       "      <td>0.001115</td>\n",
       "      <td>50.0</td>\n",
       "      <td>0.002113</td>\n",
       "      <td>n1311619485</td>\n",
       "      <td>0.000266</td>\n",
       "    </tr>\n",
       "    <tr>\n",
       "      <th>3</th>\n",
       "      <td>1</td>\n",
       "      <td>Diagonal (Ronda de Dalt a Doctor Marañón)</td>\n",
       "      <td>1.0</td>\n",
       "      <td>NaN</td>\n",
       "      <td>n5341631254</td>\n",
       "      <td>0.001115</td>\n",
       "      <td>50.0</td>\n",
       "      <td>0.002113</td>\n",
       "      <td>n6181436151</td>\n",
       "      <td>0.000206</td>\n",
       "    </tr>\n",
       "    <tr>\n",
       "      <th>4</th>\n",
       "      <td>1</td>\n",
       "      <td>Diagonal (Ronda de Dalt a Doctor Marañón)</td>\n",
       "      <td>1.0</td>\n",
       "      <td>NaN</td>\n",
       "      <td>n5465386667</td>\n",
       "      <td>0.000540</td>\n",
       "      <td>80.0</td>\n",
       "      <td>0.006813</td>\n",
       "      <td>n1311619485</td>\n",
       "      <td>0.000266</td>\n",
       "    </tr>\n",
       "  </tbody>\n",
       "</table>\n",
       "</div>"
      ],
      "text/plain": [
       "   Tram                                Description  Primary  Secondary  \\\n",
       "0     1  Diagonal (Ronda de Dalt a Doctor Marañón)      1.0        NaN   \n",
       "1     1  Diagonal (Ronda de Dalt a Doctor Marañón)      1.0        NaN   \n",
       "2     1  Diagonal (Ronda de Dalt a Doctor Marañón)      1.0        NaN   \n",
       "3     1  Diagonal (Ronda de Dalt a Doctor Marañón)      1.0        NaN   \n",
       "4     1  Diagonal (Ronda de Dalt a Doctor Marañón)      1.0        NaN   \n",
       "\n",
       "     BusstopID  Distance_busstop  MaxSpeed  Distance_camera TrafficSignalID  \\\n",
       "0  n5341631254          0.001115      80.0         0.006813     n1311619485   \n",
       "1  n5341631254          0.001115      80.0         0.006813     n6181436151   \n",
       "2  n5341631254          0.001115      50.0         0.002113     n1311619485   \n",
       "3  n5341631254          0.001115      50.0         0.002113     n6181436151   \n",
       "4  n5465386667          0.000540      80.0         0.006813     n1311619485   \n",
       "\n",
       "   Distance_trafficsignal  \n",
       "0                0.000266  \n",
       "1                0.000206  \n",
       "2                0.000266  \n",
       "3                0.000206  \n",
       "4                0.000266  "
      ]
     },
     "execution_count": 25,
     "metadata": {},
     "output_type": "execute_result"
    }
   ],
   "source": [
    "# Inner join all 4 dataframes on 'Tram'\n",
    "\n",
    "diagonal_merged = diagonal.merge(busstop, how='left', on='Tram', copy=False)\n",
    "print(diagonal_merged.shape)\n",
    "\n",
    "diagonal_merged = diagonal_merged.merge(speedcamera, how='left', on='Tram', copy=False)\n",
    "print(diagonal_merged.shape)\n",
    "\n",
    "diagonal_merged = diagonal_merged.merge(trafficsignal, how='left', on='Tram', copy=False)\n",
    "print(diagonal_merged.shape)\n",
    "\n",
    "diagonal_merged.head()"
   ]
  },
  {
   "cell_type": "code",
   "execution_count": 26,
   "metadata": {},
   "outputs": [
    {
     "name": "stdout",
     "output_type": "stream",
     "text": [
      "(59, 10)\n"
     ]
    },
    {
     "data": {
      "text/html": [
       "<div>\n",
       "<style scoped>\n",
       "    .dataframe tbody tr th:only-of-type {\n",
       "        vertical-align: middle;\n",
       "    }\n",
       "\n",
       "    .dataframe tbody tr th {\n",
       "        vertical-align: top;\n",
       "    }\n",
       "\n",
       "    .dataframe thead th {\n",
       "        text-align: right;\n",
       "    }\n",
       "</style>\n",
       "<table border=\"1\" class=\"dataframe\">\n",
       "  <thead>\n",
       "    <tr style=\"text-align: right;\">\n",
       "      <th></th>\n",
       "      <th>Tram</th>\n",
       "      <th>Description</th>\n",
       "      <th>Primary</th>\n",
       "      <th>Secondary</th>\n",
       "      <th>BusstopID</th>\n",
       "      <th>Distance_busstop</th>\n",
       "      <th>MaxSpeed</th>\n",
       "      <th>Distance_camera</th>\n",
       "      <th>TrafficSignalID</th>\n",
       "      <th>Distance_trafficsignal</th>\n",
       "    </tr>\n",
       "  </thead>\n",
       "  <tbody>\n",
       "    <tr>\n",
       "      <th>0</th>\n",
       "      <td>1</td>\n",
       "      <td>Diagonal (Ronda de Dalt a Doctor Marañón)</td>\n",
       "      <td>1.0</td>\n",
       "      <td>NaN</td>\n",
       "      <td>n5341631254</td>\n",
       "      <td>0.001115</td>\n",
       "      <td>80.0</td>\n",
       "      <td>0.006813</td>\n",
       "      <td>n1311619485</td>\n",
       "      <td>0.000266</td>\n",
       "    </tr>\n",
       "    <tr>\n",
       "      <th>8</th>\n",
       "      <td>2</td>\n",
       "      <td>Diagonal (Doctor Marañón a Ronda de Dalt)</td>\n",
       "      <td>1.0</td>\n",
       "      <td>NaN</td>\n",
       "      <td>n5341631254</td>\n",
       "      <td>0.000937</td>\n",
       "      <td>80.0</td>\n",
       "      <td>0.006554</td>\n",
       "      <td>n687897110</td>\n",
       "      <td>0.000176</td>\n",
       "    </tr>\n",
       "    <tr>\n",
       "      <th>16</th>\n",
       "      <td>3</td>\n",
       "      <td>Diagonal (Doctor Marañón a Pl. Pius XII)</td>\n",
       "      <td>1.0</td>\n",
       "      <td>NaN</td>\n",
       "      <td>n5341631254</td>\n",
       "      <td>0.001152</td>\n",
       "      <td>80.0</td>\n",
       "      <td>0.006827</td>\n",
       "      <td>n687897110</td>\n",
       "      <td>0.000234</td>\n",
       "    </tr>\n",
       "    <tr>\n",
       "      <th>24</th>\n",
       "      <td>4</td>\n",
       "      <td>Diagonal (Pl. Pius XII a Doctor Marañón)</td>\n",
       "      <td>1.0</td>\n",
       "      <td>NaN</td>\n",
       "      <td>n1478113760</td>\n",
       "      <td>0.000090</td>\n",
       "      <td>60.0</td>\n",
       "      <td>0.003019</td>\n",
       "      <td>n30314626</td>\n",
       "      <td>0.003206</td>\n",
       "    </tr>\n",
       "    <tr>\n",
       "      <th>32</th>\n",
       "      <td>5</td>\n",
       "      <td>Diagonal (Pl. Pius XII a Pl. Maria Cristina)</td>\n",
       "      <td>1.0</td>\n",
       "      <td>NaN</td>\n",
       "      <td>n1478113760</td>\n",
       "      <td>0.000215</td>\n",
       "      <td>60.0</td>\n",
       "      <td>0.002824</td>\n",
       "      <td>n30314626</td>\n",
       "      <td>0.003008</td>\n",
       "    </tr>\n",
       "  </tbody>\n",
       "</table>\n",
       "</div>"
      ],
      "text/plain": [
       "    Tram                                   Description  Primary  Secondary  \\\n",
       "0      1     Diagonal (Ronda de Dalt a Doctor Marañón)      1.0        NaN   \n",
       "8      2     Diagonal (Doctor Marañón a Ronda de Dalt)      1.0        NaN   \n",
       "16     3      Diagonal (Doctor Marañón a Pl. Pius XII)      1.0        NaN   \n",
       "24     4      Diagonal (Pl. Pius XII a Doctor Marañón)      1.0        NaN   \n",
       "32     5  Diagonal (Pl. Pius XII a Pl. Maria Cristina)      1.0        NaN   \n",
       "\n",
       "      BusstopID  Distance_busstop  MaxSpeed  Distance_camera TrafficSignalID  \\\n",
       "0   n5341631254          0.001115      80.0         0.006813     n1311619485   \n",
       "8   n5341631254          0.000937      80.0         0.006554      n687897110   \n",
       "16  n5341631254          0.001152      80.0         0.006827      n687897110   \n",
       "24  n1478113760          0.000090      60.0         0.003019       n30314626   \n",
       "32  n1478113760          0.000215      60.0         0.002824       n30314626   \n",
       "\n",
       "    Distance_trafficsignal  \n",
       "0                 0.000266  \n",
       "8                 0.000176  \n",
       "16                0.000234  \n",
       "24                0.003206  \n",
       "32                0.003008  "
      ]
     },
     "execution_count": 26,
     "metadata": {},
     "output_type": "execute_result"
    }
   ],
   "source": [
    "# Let's keep one records per sectionID to keep the simplicity\n",
    "\n",
    "diagonal_merged = diagonal_merged.drop_duplicates('Tram')\n",
    "print(diagonal_merged.shape)\n",
    "\n",
    "diagonal_merged.head()"
   ]
  },
  {
   "cell_type": "code",
   "execution_count": 27,
   "metadata": {},
   "outputs": [
    {
     "data": {
      "text/plain": [
       "Tram                      0.000000\n",
       "Description               0.000000\n",
       "Primary                   0.610169\n",
       "Secondary                 0.627119\n",
       "BusstopID                 0.000000\n",
       "Distance_busstop          0.000000\n",
       "MaxSpeed                  0.762712\n",
       "Distance_camera           0.000000\n",
       "TrafficSignalID           0.000000\n",
       "Distance_trafficsignal    0.000000\n",
       "dtype: float64"
      ]
     },
     "execution_count": 27,
     "metadata": {},
     "output_type": "execute_result"
    }
   ],
   "source": [
    "# Are there any null values?\n",
    "\n",
    "diagonal_merged.isnull().mean()"
   ]
  },
  {
   "cell_type": "code",
   "execution_count": 38,
   "metadata": {
    "scrolled": true
   },
   "outputs": [
    {
     "data": {
      "text/plain": [
       "Tram                      0.000000\n",
       "Description               0.000000\n",
       "Primary                   0.000000\n",
       "Secondary                 0.000000\n",
       "BusstopID                 0.000000\n",
       "Distance_busstop          0.000000\n",
       "MaxSpeed                  0.762712\n",
       "Distance_camera           0.000000\n",
       "TrafficSignalID           0.000000\n",
       "Distance_trafficsignal    0.000000\n",
       "dtype: float64"
      ]
     },
     "execution_count": 38,
     "metadata": {},
     "output_type": "execute_result"
    }
   ],
   "source": [
    "# Impute nulls in 'Primary' and 'Secondary' columns with value '0'\n",
    "\n",
    "diagonal_merged[['Primary', 'Secondary']] = diagonal_merged[['Primary', 'Secondary']].notnull()*1\n",
    "diagonal_merged.isnull().mean()"
   ]
  },
  {
   "cell_type": "code",
   "execution_count": 50,
   "metadata": {},
   "outputs": [
    {
     "name": "stdout",
     "output_type": "stream",
     "text": [
      "<class 'pandas.core.frame.DataFrame'>\n",
      "Int64Index: 59 entries, 0 to 464\n",
      "Data columns (total 10 columns):\n",
      "Tram                      59 non-null int64\n",
      "Description               59 non-null object\n",
      "Primary                   59 non-null int64\n",
      "Secondary                 59 non-null int64\n",
      "BusstopID                 59 non-null object\n",
      "Distance_busstop          59 non-null float64\n",
      "MaxSpeed                  14 non-null float64\n",
      "Distance_camera           59 non-null float64\n",
      "TrafficSignalID           59 non-null object\n",
      "Distance_trafficsignal    59 non-null float64\n",
      "dtypes: float64(4), int64(3), object(3)\n",
      "memory usage: 5.1+ KB\n"
     ]
    }
   ],
   "source": [
    "diagonal_merged.info()"
   ]
  },
  {
   "cell_type": "code",
   "execution_count": 60,
   "metadata": {
    "scrolled": false
   },
   "outputs": [
    {
     "data": {
      "image/png": "[encoded data removed]",
      "text/plain": [
       "<Figure size 432x288 with 1 Axes>"
      ]
     },
     "metadata": {
      "needs_background": "light"
     },
     "output_type": "display_data"
    },
    {
     "data": {
      "image/png": "[encoded data removed]",
      "text/plain": [
       "<Figure size 432x288 with 1 Axes>"
      ]
     },
     "metadata": {
      "needs_background": "light"
     },
     "output_type": "display_data"
    }
   ],
   "source": [
    "# Let's check distribution of numeric variables\n",
    "\n",
    "sns.countplot(diagonal_merged.Primary, palette='Set2')\n",
    "plt.show()\n",
    "sns.countplot(diagonal_merged.Secondary, palette='Set2')\n",
    "plt.show()"
   ]
  },
  {
   "cell_type": "code",
   "execution_count": 67,
   "metadata": {
    "scrolled": false
   },
   "outputs": [
    {
     "data": {
      "image/png": "[encoded data removed]",
      "text/plain": [
       "<Figure size 432x288 with 1 Axes>"
      ]
     },
     "metadata": {
      "needs_background": "light"
     },
     "output_type": "display_data"
    },
    {
     "data": {
      "image/png": "[encoded data removed]",
      "text/plain": [
       "<Figure size 432x288 with 1 Axes>"
      ]
     },
     "metadata": {
      "needs_background": "light"
     },
     "output_type": "display_data"
    },
    {
     "data": {
      "image/png": "[encoded data removed]",
      "text/plain": [
       "<Figure size 432x288 with 1 Axes>"
      ]
     },
     "metadata": {
      "needs_background": "light"
     },
     "output_type": "display_data"
    }
   ],
   "source": [
    "sns.distplot(diagonal_merged.Distance_busstop)\n",
    "plt.show()\n",
    "\n",
    "sns.distplot(diagonal_merged.Distance_camera, color='g')\n",
    "plt.show()\n",
    "\n",
    "sns.distplot(diagonal_merged.Distance_trafficsignal, color='y')\n",
    "plt.show()"
   ]
  },
  {
   "cell_type": "code",
   "execution_count": null,
   "metadata": {},
   "outputs": [],
   "source": []
  },
  {
   "cell_type": "markdown",
   "metadata": {},
   "source": [
    "Check agian the jan-2020 data focusing on these IDs only"
   ]
  },
  {
   "cell_type": "code",
   "execution_count": 40,
   "metadata": {},
   "outputs": [
    {
     "data": {
      "text/plain": [
       "array([  1,   2,   3,   4,   5,   6,   7,   8,   9,  10,  19,  26,  27,\n",
       "        47,  48,  49,  57,  63,  89, 101, 103, 104, 105, 106, 107, 122,\n",
       "       180, 196, 197, 206, 239, 254, 256, 257, 258, 259, 260, 261, 265,\n",
       "       272, 273, 279, 320, 360, 386, 387, 401, 402, 403, 413, 421, 423,\n",
       "       424, 425, 426, 431, 447, 451, 517])"
      ]
     },
     "execution_count": 40,
     "metadata": {},
     "output_type": "execute_result"
    }
   ],
   "source": [
    "# Extract Tram IDs in Diagonal:\n",
    "\n",
    "sectionID = diagonal_merged.Tram.unique()\n",
    "sectionID"
   ]
  },
  {
   "cell_type": "code",
   "execution_count": 44,
   "metadata": {},
   "outputs": [
    {
     "data": {
      "text/plain": [
       "51"
      ]
     },
     "execution_count": 44,
     "metadata": {},
     "output_type": "execute_result"
    }
   ],
   "source": [
    "id_jan = [id for id in tram_jan_clean.idTram.unique() if id in sectionID]\n",
    "len(id_jan)"
   ]
  },
  {
   "cell_type": "code",
   "execution_count": 49,
   "metadata": {},
   "outputs": [
    {
     "name": "stdout",
     "output_type": "stream",
     "text": [
      "(297919, 4)\n"
     ]
    },
    {
     "data": {
      "text/html": [
       "<div>\n",
       "<style scoped>\n",
       "    .dataframe tbody tr th:only-of-type {\n",
       "        vertical-align: middle;\n",
       "    }\n",
       "\n",
       "    .dataframe tbody tr th {\n",
       "        vertical-align: top;\n",
       "    }\n",
       "\n",
       "    .dataframe thead th {\n",
       "        text-align: right;\n",
       "    }\n",
       "</style>\n",
       "<table border=\"1\" class=\"dataframe\">\n",
       "  <thead>\n",
       "    <tr style=\"text-align: right;\">\n",
       "      <th></th>\n",
       "      <th>idTram</th>\n",
       "      <th>data</th>\n",
       "      <th>estatActual</th>\n",
       "      <th>estatPrevist</th>\n",
       "    </tr>\n",
       "  </thead>\n",
       "  <tbody>\n",
       "    <tr>\n",
       "      <th>1116</th>\n",
       "      <td>63</td>\n",
       "      <td>20200101001052</td>\n",
       "      <td>1</td>\n",
       "      <td>1</td>\n",
       "    </tr>\n",
       "    <tr>\n",
       "      <th>1175</th>\n",
       "      <td>122</td>\n",
       "      <td>20200101001052</td>\n",
       "      <td>1</td>\n",
       "      <td>2</td>\n",
       "    </tr>\n",
       "    <tr>\n",
       "      <th>1233</th>\n",
       "      <td>180</td>\n",
       "      <td>20200101001052</td>\n",
       "      <td>1</td>\n",
       "      <td>2</td>\n",
       "    </tr>\n",
       "    <tr>\n",
       "      <th>1259</th>\n",
       "      <td>206</td>\n",
       "      <td>20200101001052</td>\n",
       "      <td>2</td>\n",
       "      <td>2</td>\n",
       "    </tr>\n",
       "    <tr>\n",
       "      <th>1318</th>\n",
       "      <td>265</td>\n",
       "      <td>20200101001052</td>\n",
       "      <td>2</td>\n",
       "      <td>2</td>\n",
       "    </tr>\n",
       "  </tbody>\n",
       "</table>\n",
       "</div>"
      ],
      "text/plain": [
       "      idTram            data  estatActual  estatPrevist\n",
       "1116      63  20200101001052            1             1\n",
       "1175     122  20200101001052            1             2\n",
       "1233     180  20200101001052            1             2\n",
       "1259     206  20200101001052            2             2\n",
       "1318     265  20200101001052            2             2"
      ]
     },
     "execution_count": 49,
     "metadata": {},
     "output_type": "execute_result"
    }
   ],
   "source": [
    "mask = tram_jan_clean['idTram'] .isin(id_jan)\n",
    "jan_2020 = tram_jan_clean[mask]\n",
    "\n",
    "print(jan_2020.shape)\n",
    "jan_2020.head()"
   ]
  },
  {
   "cell_type": "code",
   "execution_count": 68,
   "metadata": {},
   "outputs": [
    {
     "data": {
      "text/html": [
       "<div>\n",
       "<style scoped>\n",
       "    .dataframe tbody tr th:only-of-type {\n",
       "        vertical-align: middle;\n",
       "    }\n",
       "\n",
       "    .dataframe tbody tr th {\n",
       "        vertical-align: top;\n",
       "    }\n",
       "\n",
       "    .dataframe thead th {\n",
       "        text-align: right;\n",
       "    }\n",
       "</style>\n",
       "<table border=\"1\" class=\"dataframe\">\n",
       "  <thead>\n",
       "    <tr style=\"text-align: right;\">\n",
       "      <th></th>\n",
       "      <th>Tram</th>\n",
       "      <th>date</th>\n",
       "      <th>CurrentState</th>\n",
       "      <th>ExpectedState</th>\n",
       "    </tr>\n",
       "  </thead>\n",
       "  <tbody>\n",
       "    <tr>\n",
       "      <th>1116</th>\n",
       "      <td>63</td>\n",
       "      <td>2020-01-01 00:10:52</td>\n",
       "      <td>1</td>\n",
       "      <td>1</td>\n",
       "    </tr>\n",
       "    <tr>\n",
       "      <th>1175</th>\n",
       "      <td>122</td>\n",
       "      <td>2020-01-01 00:10:52</td>\n",
       "      <td>1</td>\n",
       "      <td>2</td>\n",
       "    </tr>\n",
       "    <tr>\n",
       "      <th>1233</th>\n",
       "      <td>180</td>\n",
       "      <td>2020-01-01 00:10:52</td>\n",
       "      <td>1</td>\n",
       "      <td>2</td>\n",
       "    </tr>\n",
       "    <tr>\n",
       "      <th>1259</th>\n",
       "      <td>206</td>\n",
       "      <td>2020-01-01 00:10:52</td>\n",
       "      <td>2</td>\n",
       "      <td>2</td>\n",
       "    </tr>\n",
       "    <tr>\n",
       "      <th>1318</th>\n",
       "      <td>265</td>\n",
       "      <td>2020-01-01 00:10:52</td>\n",
       "      <td>2</td>\n",
       "      <td>2</td>\n",
       "    </tr>\n",
       "  </tbody>\n",
       "</table>\n",
       "</div>"
      ],
      "text/plain": [
       "      Tram                date  CurrentState  ExpectedState\n",
       "1116    63 2020-01-01 00:10:52             1              1\n",
       "1175   122 2020-01-01 00:10:52             1              2\n",
       "1233   180 2020-01-01 00:10:52             1              2\n",
       "1259   206 2020-01-01 00:10:52             2              2\n",
       "1318   265 2020-01-01 00:10:52             2              2"
      ]
     },
     "execution_count": 68,
     "metadata": {},
     "output_type": "execute_result"
    }
   ],
   "source": [
    "# Modify the data:\n",
    "# 1. Change column names to english\n",
    "# 2. Change 'date' column into datetime type\n",
    "\n",
    "new_names = {\"idTram\": \"Tram\", \"data\": \"date\", \"estatActual\": \"CurrentState\", \"estatPrevist\": \"ExpectedState\"}\n",
    "jan_2020 = jan_2020.rename(columns=new_names)\n",
    "    \n",
    "# 2. 'date' column as a datetime type\n",
    "jan_2020['date'] = pd.to_datetime(jan_2020['date'].astype(str), yearfirst=True)\n",
    "\n",
    "jan_2020.head()"
   ]
  },
  {
   "cell_type": "code",
   "execution_count": 78,
   "metadata": {},
   "outputs": [
    {
     "data": {
      "text/html": [
       "<div>\n",
       "<style scoped>\n",
       "    .dataframe tbody tr th:only-of-type {\n",
       "        vertical-align: middle;\n",
       "    }\n",
       "\n",
       "    .dataframe tbody tr th {\n",
       "        vertical-align: top;\n",
       "    }\n",
       "\n",
       "    .dataframe thead th {\n",
       "        text-align: right;\n",
       "    }\n",
       "</style>\n",
       "<table border=\"1\" class=\"dataframe\">\n",
       "  <thead>\n",
       "    <tr style=\"text-align: right;\">\n",
       "      <th></th>\n",
       "      <th>Tram</th>\n",
       "      <th>date</th>\n",
       "      <th>CurrentState</th>\n",
       "      <th>ExpectedState</th>\n",
       "      <th>Weekday</th>\n",
       "    </tr>\n",
       "  </thead>\n",
       "  <tbody>\n",
       "    <tr>\n",
       "      <th>4473</th>\n",
       "      <td>258</td>\n",
       "      <td>2020-01-01 00:40:55</td>\n",
       "      <td>5</td>\n",
       "      <td>5</td>\n",
       "      <td>Wednesday</td>\n",
       "    </tr>\n",
       "    <tr>\n",
       "      <th>9805</th>\n",
       "      <td>320</td>\n",
       "      <td>2020-01-01 01:30:52</td>\n",
       "      <td>5</td>\n",
       "      <td>4</td>\n",
       "      <td>Wednesday</td>\n",
       "    </tr>\n",
       "    <tr>\n",
       "      <th>11324</th>\n",
       "      <td>258</td>\n",
       "      <td>2020-01-01 01:45:52</td>\n",
       "      <td>5</td>\n",
       "      <td>4</td>\n",
       "      <td>Wednesday</td>\n",
       "    </tr>\n",
       "    <tr>\n",
       "      <th>15602</th>\n",
       "      <td>320</td>\n",
       "      <td>2020-01-01 02:25:53</td>\n",
       "      <td>5</td>\n",
       "      <td>4</td>\n",
       "      <td>Wednesday</td>\n",
       "    </tr>\n",
       "    <tr>\n",
       "      <th>17648</th>\n",
       "      <td>258</td>\n",
       "      <td>2020-01-01 02:45:53</td>\n",
       "      <td>5</td>\n",
       "      <td>5</td>\n",
       "      <td>Wednesday</td>\n",
       "    </tr>\n",
       "  </tbody>\n",
       "</table>\n",
       "</div>"
      ],
      "text/plain": [
       "       Tram                date  CurrentState  ExpectedState    Weekday\n",
       "4473    258 2020-01-01 00:40:55             5              5  Wednesday\n",
       "9805    320 2020-01-01 01:30:52             5              4  Wednesday\n",
       "11324   258 2020-01-01 01:45:52             5              4  Wednesday\n",
       "15602   320 2020-01-01 02:25:53             5              4  Wednesday\n",
       "17648   258 2020-01-01 02:45:53             5              5  Wednesday"
      ]
     },
     "execution_count": 78,
     "metadata": {},
     "output_type": "execute_result"
    }
   ],
   "source": [
    "# Let's further modity the 'date' column\n",
    "\n",
    "#1. Add day of the week info by creating a new column:\n",
    "jan_2020['Weekday'] = jan_2020.date.dt.weekday_name\n",
    "\n",
    "#2. Let's introduce 'rush hour' to our data\n",
    "rush_hour = jan_2020.CurrentState >= 5\n",
    "jan_2020_rh = jan_2020[rush_hour]\n",
    "\n",
    "jan_2020_rh.head()"
   ]
  },
  {
   "cell_type": "code",
   "execution_count": 93,
   "metadata": {},
   "outputs": [
    {
     "data": {
      "text/plain": [
       "Text(0.5,0,'Section ID')"
      ]
     },
     "execution_count": 93,
     "metadata": {},
     "output_type": "execute_result"
    },
    {
     "data": {
      "image/png": "[encoded data removed]",
      "text/plain": [
       "<Figure size 792x360 with 1 Axes>"
      ]
     },
     "metadata": {},
     "output_type": "display_data"
    }
   ],
   "source": [
    "plt.figure(figsize=(11,5))\n",
    "jan_2020_rh.Tram.value_counts().plot(kind='bar')\n",
    "plt.title('Frequency of congestion (>5) in Jan 2020')\n",
    "plt.ylabel('# times')\n",
    "plt.xlabel('Section ID')"
   ]
  },
  {
   "cell_type": "code",
   "execution_count": 187,
   "metadata": {},
   "outputs": [
    {
     "name": "stdout",
     "output_type": "stream",
     "text": [
      "(2211, 5)\n"
     ]
    },
    {
     "data": {
      "text/html": [
       "<div>\n",
       "<style scoped>\n",
       "    .dataframe tbody tr th:only-of-type {\n",
       "        vertical-align: middle;\n",
       "    }\n",
       "\n",
       "    .dataframe tbody tr th {\n",
       "        vertical-align: top;\n",
       "    }\n",
       "\n",
       "    .dataframe thead th {\n",
       "        text-align: right;\n",
       "    }\n",
       "</style>\n",
       "<table border=\"1\" class=\"dataframe\">\n",
       "  <thead>\n",
       "    <tr style=\"text-align: right;\">\n",
       "      <th></th>\n",
       "      <th>Tram</th>\n",
       "      <th>date</th>\n",
       "      <th>CurrentState</th>\n",
       "      <th>ExpectedState</th>\n",
       "      <th>Weekday</th>\n",
       "    </tr>\n",
       "  </thead>\n",
       "  <tbody>\n",
       "    <tr>\n",
       "      <th>9805</th>\n",
       "      <td>320</td>\n",
       "      <td>2020-01-01 01:30:52</td>\n",
       "      <td>5</td>\n",
       "      <td>4</td>\n",
       "      <td>Wednesday</td>\n",
       "    </tr>\n",
       "    <tr>\n",
       "      <th>15602</th>\n",
       "      <td>320</td>\n",
       "      <td>2020-01-01 02:25:53</td>\n",
       "      <td>5</td>\n",
       "      <td>4</td>\n",
       "      <td>Wednesday</td>\n",
       "    </tr>\n",
       "    <tr>\n",
       "      <th>100976</th>\n",
       "      <td>320</td>\n",
       "      <td>2020-01-01 15:55:56</td>\n",
       "      <td>5</td>\n",
       "      <td>5</td>\n",
       "      <td>Wednesday</td>\n",
       "    </tr>\n",
       "    <tr>\n",
       "      <th>102030</th>\n",
       "      <td>320</td>\n",
       "      <td>2020-01-01 16:05:53</td>\n",
       "      <td>5</td>\n",
       "      <td>5</td>\n",
       "      <td>Wednesday</td>\n",
       "    </tr>\n",
       "    <tr>\n",
       "      <th>200579</th>\n",
       "      <td>320</td>\n",
       "      <td>2020-01-02 07:40:55</td>\n",
       "      <td>5</td>\n",
       "      <td>5</td>\n",
       "      <td>Thursday</td>\n",
       "    </tr>\n",
       "  </tbody>\n",
       "</table>\n",
       "</div>"
      ],
      "text/plain": [
       "        Tram                date  CurrentState  ExpectedState    Weekday\n",
       "9805     320 2020-01-01 01:30:52             5              4  Wednesday\n",
       "15602    320 2020-01-01 02:25:53             5              4  Wednesday\n",
       "100976   320 2020-01-01 15:55:56             5              5  Wednesday\n",
       "102030   320 2020-01-01 16:05:53             5              5  Wednesday\n",
       "200579   320 2020-01-02 07:40:55             5              5   Thursday"
      ]
     },
     "execution_count": 187,
     "metadata": {},
     "output_type": "execute_result"
    }
   ],
   "source": [
    "# Let's look at top 10\n",
    "top10_id = jan_2020_rh.Tram.value_counts()[:10].index\n",
    "\n",
    "mask = jan_2020_rh['Tram'] .isin(top10_id )\n",
    "top10_congested = jan_2020_rh[mask]\n",
    "\n",
    "print(top10_congested.shape)\n",
    "top10_congested.head()"
   ]
  },
  {
   "cell_type": "code",
   "execution_count": 188,
   "metadata": {},
   "outputs": [
    {
     "data": {
      "text/plain": [
       "Int64Index([5, 517, 57, 386, 4, 320, 8, 122, 3, 89], dtype='int64')"
      ]
     },
     "execution_count": 188,
     "metadata": {},
     "output_type": "execute_result"
    }
   ],
   "source": [
    "top10_id"
   ]
  },
  {
   "cell_type": "code",
   "execution_count": 189,
   "metadata": {},
   "outputs": [
    {
     "name": "stdout",
     "output_type": "stream",
     "text": [
      "(2211, 14)\n"
     ]
    },
    {
     "data": {
      "text/html": [
       "<div>\n",
       "<style scoped>\n",
       "    .dataframe tbody tr th:only-of-type {\n",
       "        vertical-align: middle;\n",
       "    }\n",
       "\n",
       "    .dataframe tbody tr th {\n",
       "        vertical-align: top;\n",
       "    }\n",
       "\n",
       "    .dataframe thead th {\n",
       "        text-align: right;\n",
       "    }\n",
       "</style>\n",
       "<table border=\"1\" class=\"dataframe\">\n",
       "  <thead>\n",
       "    <tr style=\"text-align: right;\">\n",
       "      <th></th>\n",
       "      <th>Tram</th>\n",
       "      <th>date</th>\n",
       "      <th>CurrentState</th>\n",
       "      <th>ExpectedState</th>\n",
       "      <th>Weekday</th>\n",
       "      <th>Description</th>\n",
       "      <th>Primary</th>\n",
       "      <th>Secondary</th>\n",
       "      <th>BusstopID</th>\n",
       "      <th>Distance_busstop</th>\n",
       "      <th>MaxSpeed</th>\n",
       "      <th>Distance_camera</th>\n",
       "      <th>TrafficSignalID</th>\n",
       "      <th>Distance_trafficsignal</th>\n",
       "    </tr>\n",
       "  </thead>\n",
       "  <tbody>\n",
       "    <tr>\n",
       "      <th>0</th>\n",
       "      <td>320</td>\n",
       "      <td>2020-01-01 01:30:52</td>\n",
       "      <td>5</td>\n",
       "      <td>4</td>\n",
       "      <td>Wednesday</td>\n",
       "      <td>Meridiana (Pl. de les Glòries a Aragó)</td>\n",
       "      <td>0</td>\n",
       "      <td>0</td>\n",
       "      <td>n5760480313</td>\n",
       "      <td>0.001188</td>\n",
       "      <td>NaN</td>\n",
       "      <td>0.004786</td>\n",
       "      <td>n4637945307</td>\n",
       "      <td>0.000291</td>\n",
       "    </tr>\n",
       "    <tr>\n",
       "      <th>1</th>\n",
       "      <td>320</td>\n",
       "      <td>2020-01-01 02:25:53</td>\n",
       "      <td>5</td>\n",
       "      <td>4</td>\n",
       "      <td>Wednesday</td>\n",
       "      <td>Meridiana (Pl. de les Glòries a Aragó)</td>\n",
       "      <td>0</td>\n",
       "      <td>0</td>\n",
       "      <td>n5760480313</td>\n",
       "      <td>0.001188</td>\n",
       "      <td>NaN</td>\n",
       "      <td>0.004786</td>\n",
       "      <td>n4637945307</td>\n",
       "      <td>0.000291</td>\n",
       "    </tr>\n",
       "    <tr>\n",
       "      <th>2</th>\n",
       "      <td>320</td>\n",
       "      <td>2020-01-01 15:55:56</td>\n",
       "      <td>5</td>\n",
       "      <td>5</td>\n",
       "      <td>Wednesday</td>\n",
       "      <td>Meridiana (Pl. de les Glòries a Aragó)</td>\n",
       "      <td>0</td>\n",
       "      <td>0</td>\n",
       "      <td>n5760480313</td>\n",
       "      <td>0.001188</td>\n",
       "      <td>NaN</td>\n",
       "      <td>0.004786</td>\n",
       "      <td>n4637945307</td>\n",
       "      <td>0.000291</td>\n",
       "    </tr>\n",
       "    <tr>\n",
       "      <th>3</th>\n",
       "      <td>320</td>\n",
       "      <td>2020-01-01 16:05:53</td>\n",
       "      <td>5</td>\n",
       "      <td>5</td>\n",
       "      <td>Wednesday</td>\n",
       "      <td>Meridiana (Pl. de les Glòries a Aragó)</td>\n",
       "      <td>0</td>\n",
       "      <td>0</td>\n",
       "      <td>n5760480313</td>\n",
       "      <td>0.001188</td>\n",
       "      <td>NaN</td>\n",
       "      <td>0.004786</td>\n",
       "      <td>n4637945307</td>\n",
       "      <td>0.000291</td>\n",
       "    </tr>\n",
       "    <tr>\n",
       "      <th>4</th>\n",
       "      <td>320</td>\n",
       "      <td>2020-01-02 07:40:55</td>\n",
       "      <td>5</td>\n",
       "      <td>5</td>\n",
       "      <td>Thursday</td>\n",
       "      <td>Meridiana (Pl. de les Glòries a Aragó)</td>\n",
       "      <td>0</td>\n",
       "      <td>0</td>\n",
       "      <td>n5760480313</td>\n",
       "      <td>0.001188</td>\n",
       "      <td>NaN</td>\n",
       "      <td>0.004786</td>\n",
       "      <td>n4637945307</td>\n",
       "      <td>0.000291</td>\n",
       "    </tr>\n",
       "  </tbody>\n",
       "</table>\n",
       "</div>"
      ],
      "text/plain": [
       "   Tram                date  CurrentState  ExpectedState    Weekday  \\\n",
       "0   320 2020-01-01 01:30:52             5              4  Wednesday   \n",
       "1   320 2020-01-01 02:25:53             5              4  Wednesday   \n",
       "2   320 2020-01-01 15:55:56             5              5  Wednesday   \n",
       "3   320 2020-01-01 16:05:53             5              5  Wednesday   \n",
       "4   320 2020-01-02 07:40:55             5              5   Thursday   \n",
       "\n",
       "                              Description  Primary  Secondary    BusstopID  \\\n",
       "0  Meridiana (Pl. de les Glòries a Aragó)        0          0  n5760480313   \n",
       "1  Meridiana (Pl. de les Glòries a Aragó)        0          0  n5760480313   \n",
       "2  Meridiana (Pl. de les Glòries a Aragó)        0          0  n5760480313   \n",
       "3  Meridiana (Pl. de les Glòries a Aragó)        0          0  n5760480313   \n",
       "4  Meridiana (Pl. de les Glòries a Aragó)        0          0  n5760480313   \n",
       "\n",
       "   Distance_busstop  MaxSpeed  Distance_camera TrafficSignalID  \\\n",
       "0          0.001188       NaN         0.004786     n4637945307   \n",
       "1          0.001188       NaN         0.004786     n4637945307   \n",
       "2          0.001188       NaN         0.004786     n4637945307   \n",
       "3          0.001188       NaN         0.004786     n4637945307   \n",
       "4          0.001188       NaN         0.004786     n4637945307   \n",
       "\n",
       "   Distance_trafficsignal  \n",
       "0                0.000291  \n",
       "1                0.000291  \n",
       "2                0.000291  \n",
       "3                0.000291  \n",
       "4                0.000291  "
      ]
     },
     "execution_count": 189,
     "metadata": {},
     "output_type": "execute_result"
    }
   ],
   "source": [
    "# Join with diagonal_merged attributes:\n",
    "\n",
    "top10_jan = top10_congested.merge(diagonal_merged, on='Tram', how='inner', copy=False)\n",
    "print(top10_jan.shape)\n",
    "top10_jan.head()"
   ]
  },
  {
   "cell_type": "code",
   "execution_count": 190,
   "metadata": {},
   "outputs": [
    {
     "name": "stdout",
     "output_type": "stream",
     "text": [
      "(312, 14)\n"
     ]
    },
    {
     "data": {
      "text/html": [
       "<div>\n",
       "<style scoped>\n",
       "    .dataframe tbody tr th:only-of-type {\n",
       "        vertical-align: middle;\n",
       "    }\n",
       "\n",
       "    .dataframe tbody tr th {\n",
       "        vertical-align: top;\n",
       "    }\n",
       "\n",
       "    .dataframe thead th {\n",
       "        text-align: right;\n",
       "    }\n",
       "</style>\n",
       "<table border=\"1\" class=\"dataframe\">\n",
       "  <thead>\n",
       "    <tr style=\"text-align: right;\">\n",
       "      <th></th>\n",
       "      <th>Tram</th>\n",
       "      <th>date</th>\n",
       "      <th>CurrentState</th>\n",
       "      <th>ExpectedState</th>\n",
       "      <th>Weekday</th>\n",
       "      <th>Description</th>\n",
       "      <th>Primary</th>\n",
       "      <th>Secondary</th>\n",
       "      <th>BusstopID</th>\n",
       "      <th>Distance_busstop</th>\n",
       "      <th>MaxSpeed</th>\n",
       "      <th>Distance_camera</th>\n",
       "      <th>TrafficSignalID</th>\n",
       "      <th>Distance_trafficsignal</th>\n",
       "    </tr>\n",
       "  </thead>\n",
       "  <tbody>\n",
       "    <tr>\n",
       "      <th>0</th>\n",
       "      <td>258</td>\n",
       "      <td>2020-01-01 00:40:55</td>\n",
       "      <td>5</td>\n",
       "      <td>5</td>\n",
       "      <td>Wednesday</td>\n",
       "      <td>Diagonal (Passeig de Sant Joan a Marina)</td>\n",
       "      <td>0</td>\n",
       "      <td>0</td>\n",
       "      <td>n6321098314</td>\n",
       "      <td>0.002152</td>\n",
       "      <td>NaN</td>\n",
       "      <td>0.005648</td>\n",
       "      <td>n1311619461</td>\n",
       "      <td>0.000127</td>\n",
       "    </tr>\n",
       "    <tr>\n",
       "      <th>1</th>\n",
       "      <td>258</td>\n",
       "      <td>2020-01-01 01:45:52</td>\n",
       "      <td>5</td>\n",
       "      <td>4</td>\n",
       "      <td>Wednesday</td>\n",
       "      <td>Diagonal (Passeig de Sant Joan a Marina)</td>\n",
       "      <td>0</td>\n",
       "      <td>0</td>\n",
       "      <td>n6321098314</td>\n",
       "      <td>0.002152</td>\n",
       "      <td>NaN</td>\n",
       "      <td>0.005648</td>\n",
       "      <td>n1311619461</td>\n",
       "      <td>0.000127</td>\n",
       "    </tr>\n",
       "    <tr>\n",
       "      <th>2</th>\n",
       "      <td>258</td>\n",
       "      <td>2020-01-01 02:45:53</td>\n",
       "      <td>5</td>\n",
       "      <td>5</td>\n",
       "      <td>Wednesday</td>\n",
       "      <td>Diagonal (Passeig de Sant Joan a Marina)</td>\n",
       "      <td>0</td>\n",
       "      <td>0</td>\n",
       "      <td>n6321098314</td>\n",
       "      <td>0.002152</td>\n",
       "      <td>NaN</td>\n",
       "      <td>0.005648</td>\n",
       "      <td>n1311619461</td>\n",
       "      <td>0.000127</td>\n",
       "    </tr>\n",
       "    <tr>\n",
       "      <th>3</th>\n",
       "      <td>258</td>\n",
       "      <td>2020-01-01 03:10:53</td>\n",
       "      <td>5</td>\n",
       "      <td>5</td>\n",
       "      <td>Wednesday</td>\n",
       "      <td>Diagonal (Passeig de Sant Joan a Marina)</td>\n",
       "      <td>0</td>\n",
       "      <td>0</td>\n",
       "      <td>n6321098314</td>\n",
       "      <td>0.002152</td>\n",
       "      <td>NaN</td>\n",
       "      <td>0.005648</td>\n",
       "      <td>n1311619461</td>\n",
       "      <td>0.000127</td>\n",
       "    </tr>\n",
       "    <tr>\n",
       "      <th>4</th>\n",
       "      <td>258</td>\n",
       "      <td>2020-01-01 04:10:52</td>\n",
       "      <td>5</td>\n",
       "      <td>5</td>\n",
       "      <td>Wednesday</td>\n",
       "      <td>Diagonal (Passeig de Sant Joan a Marina)</td>\n",
       "      <td>0</td>\n",
       "      <td>0</td>\n",
       "      <td>n6321098314</td>\n",
       "      <td>0.002152</td>\n",
       "      <td>NaN</td>\n",
       "      <td>0.005648</td>\n",
       "      <td>n1311619461</td>\n",
       "      <td>0.000127</td>\n",
       "    </tr>\n",
       "  </tbody>\n",
       "</table>\n",
       "</div>"
      ],
      "text/plain": [
       "   Tram                date  CurrentState  ExpectedState    Weekday  \\\n",
       "0   258 2020-01-01 00:40:55             5              5  Wednesday   \n",
       "1   258 2020-01-01 01:45:52             5              4  Wednesday   \n",
       "2   258 2020-01-01 02:45:53             5              5  Wednesday   \n",
       "3   258 2020-01-01 03:10:53             5              5  Wednesday   \n",
       "4   258 2020-01-01 04:10:52             5              5  Wednesday   \n",
       "\n",
       "                                Description  Primary  Secondary    BusstopID  \\\n",
       "0  Diagonal (Passeig de Sant Joan a Marina)        0          0  n6321098314   \n",
       "1  Diagonal (Passeig de Sant Joan a Marina)        0          0  n6321098314   \n",
       "2  Diagonal (Passeig de Sant Joan a Marina)        0          0  n6321098314   \n",
       "3  Diagonal (Passeig de Sant Joan a Marina)        0          0  n6321098314   \n",
       "4  Diagonal (Passeig de Sant Joan a Marina)        0          0  n6321098314   \n",
       "\n",
       "   Distance_busstop  MaxSpeed  Distance_camera TrafficSignalID  \\\n",
       "0          0.002152       NaN         0.005648     n1311619461   \n",
       "1          0.002152       NaN         0.005648     n1311619461   \n",
       "2          0.002152       NaN         0.005648     n1311619461   \n",
       "3          0.002152       NaN         0.005648     n1311619461   \n",
       "4          0.002152       NaN         0.005648     n1311619461   \n",
       "\n",
       "   Distance_trafficsignal  \n",
       "0                0.000127  \n",
       "1                0.000127  \n",
       "2                0.000127  \n",
       "3                0.000127  \n",
       "4                0.000127  "
      ]
     },
     "execution_count": 190,
     "metadata": {},
     "output_type": "execute_result"
    }
   ],
   "source": [
    "# Create the joined data for the rest of the Section IDs:\n",
    "rest_jan = jan_2020_rh[~mask]\n",
    "rest_jan = rest_jan.merge(diagonal_merged, on='Tram', how='inner', copy=False)\n",
    "print(rest_jan.shape)\n",
    "rest_jan.head()"
   ]
  },
  {
   "cell_type": "code",
   "execution_count": 191,
   "metadata": {},
   "outputs": [
    {
     "data": {
      "image/png": "[encoded data removed]",
      "text/plain": [
       "<Figure size 432x288 with 1 Axes>"
      ]
     },
     "metadata": {},
     "output_type": "display_data"
    },
    {
     "data": {
      "image/png": "[encoded data removed]",
      "text/plain": [
       "<Figure size 432x288 with 1 Axes>"
      ]
     },
     "metadata": {},
     "output_type": "display_data"
    },
    {
     "data": {
      "image/png": "[encoded data removed]",
      "text/plain": [
       "<Figure size 432x288 with 1 Axes>"
      ]
     },
     "metadata": {},
     "output_type": "display_data"
    },
    {
     "data": {
      "image/png": "[encoded data removed]",
      "text/plain": [
       "<Figure size 432x288 with 1 Axes>"
      ]
     },
     "metadata": {},
     "output_type": "display_data"
    }
   ],
   "source": [
    "# Let's check distribution of numeric variables\n",
    "\n",
    "sns.countplot(top10_jan.Primary, palette='Set2')\n",
    "plt.show()\n",
    "sns.countplot(rest_jan.Primary, palette='Set2')\n",
    "plt.show()\n",
    "\n",
    "sns.countplot(top10_jan.Secondary, palette='Set2')\n",
    "plt.show()\n",
    "sns.countplot(rest_jan.Secondary, palette='Set2')\n",
    "plt.show()"
   ]
  },
  {
   "cell_type": "code",
   "execution_count": 192,
   "metadata": {},
   "outputs": [
    {
     "name": "stdout",
     "output_type": "stream",
     "text": [
      "0.00338\n",
      "0.03392\n"
     ]
    }
   ],
   "source": [
    "# ttest with the rest of the diagonal sections:\n",
    "\n",
    "t_primary, p_primary = stats.ttest_ind(top10_jan.Primary, rest_jan.Primary)\n",
    "t_secondary, p_secondary = stats.ttest_ind(top10_jan.Secondary, rest_jan.Secondary)\n",
    "\n",
    "print(round(p_primary, 5))\n",
    "print(round(p_secondary, 5))"
   ]
  },
  {
   "cell_type": "code",
   "execution_count": 193,
   "metadata": {},
   "outputs": [
    {
     "name": "stdout",
     "output_type": "stream",
     "text": [
      "top5 mean: 0.0015766926470976886\n",
      "top5 std: 0.0021575041711928322\n",
      "rest mean: 0.0016642782948130125\n",
      "rest std: 0.0014252366466758883\n",
      "------------------------------\n",
      "top5 mean: 0.0034149768038575314\n",
      "top5 std: 0.0010161832835874987\n",
      "rest mean: 0.004410752507566509\n",
      "rest std: 0.004084519727003902\n",
      "------------------------------\n",
      "top5 mean: 0.0026649068678695565\n",
      "top5 std: 0.0014693163707580883\n",
      "rest mean: 0.001300874653783909\n",
      "rest std: 0.0014853291091070184\n"
     ]
    }
   ],
   "source": [
    "print(f'top5 mean: {np.mean(top10_jan.Distance_busstop)}')\n",
    "print(f'top5 std: {np.std(top10_jan.Distance_busstop)}')\n",
    "\n",
    "print(f'rest mean: {np.mean(rest_jan.Distance_busstop)}')\n",
    "print(f'rest std: {np.std(rest_jan.Distance_busstop)}')\n",
    "print('-'*30)\n",
    "\n",
    "print(f'top5 mean: {np.mean(top10_jan.Distance_camera)}')\n",
    "print(f'top5 std: {np.std(top10_jan.Distance_camera)}')\n",
    "\n",
    "print(f'rest mean: {np.mean(rest_jan.Distance_camera)}')\n",
    "print(f'rest std: {np.std(rest_jan.Distance_camera)}')\n",
    "print('-'*30)\n",
    "\n",
    "print(f'top5 mean: {np.mean(top10_jan.Distance_trafficsignal)}')\n",
    "print(f'top5 std: {np.std(top10_jan.Distance_trafficsignal)}')\n",
    "\n",
    "print(f'rest mean: {np.mean(rest_jan.Distance_trafficsignal)}')\n",
    "print(f'rest std: {np.std(rest_jan.Distance_trafficsignal)}')"
   ]
  },
  {
   "cell_type": "code",
   "execution_count": 194,
   "metadata": {},
   "outputs": [
    {
     "data": {
      "text/plain": [
       "Text(0.5,0,'Distance unit')"
      ]
     },
     "execution_count": 194,
     "metadata": {},
     "output_type": "execute_result"
    },
    {
     "data": {
      "image/png": "[encoded data removed]",
      "text/plain": [
       "<Figure size 432x288 with 1 Axes>"
      ]
     },
     "metadata": {},
     "output_type": "display_data"
    }
   ],
   "source": [
    "top10_jan.Distance_busstop.plot(kind='hist', alpha=.7)\n",
    "rest_jan.Distance_busstop.plot(kind='hist', alpha=.4)\n",
    "plt.title('Distance-Nearest bus stop')\n",
    "plt.xlabel('Distance unit')"
   ]
  },
  {
   "cell_type": "code",
   "execution_count": 195,
   "metadata": {},
   "outputs": [
    {
     "data": {
      "text/plain": [
       "Text(0.5,0,'Distance unit')"
      ]
     },
     "execution_count": 195,
     "metadata": {},
     "output_type": "execute_result"
    },
    {
     "data": {
      "image/png": "[encoded data removed]",
      "text/plain": [
       "<Figure size 432x288 with 1 Axes>"
      ]
     },
     "metadata": {},
     "output_type": "display_data"
    }
   ],
   "source": [
    "top10_jan.Distance_camera.plot(kind='hist', alpha=.7)\n",
    "rest_jan.Distance_camera.plot(kind='hist', alpha=.4)\n",
    "plt.title('Distance-Nearest speed camera')\n",
    "plt.xlabel('Distance unit')"
   ]
  },
  {
   "cell_type": "code",
   "execution_count": 196,
   "metadata": {},
   "outputs": [
    {
     "data": {
      "text/plain": [
       "Text(0.5,0,'Distance unit')"
      ]
     },
     "execution_count": 196,
     "metadata": {},
     "output_type": "execute_result"
    },
    {
     "data": {
      "image/png": "[encoded data removed]",
      "text/plain": [
       "<Figure size 432x288 with 1 Axes>"
      ]
     },
     "metadata": {},
     "output_type": "display_data"
    }
   ],
   "source": [
    "top10_jan.Distance_trafficsignal.plot(kind='hist', alpha=.7)\n",
    "rest_jan.Distance_trafficsignal.plot(kind='hist', alpha=.4)\n",
    "plt.title('Distance-Nearest traffic signal')\n",
    "plt.xlabel('Distance unit')"
   ]
  },
  {
   "cell_type": "code",
   "execution_count": null,
   "metadata": {},
   "outputs": [],
   "source": []
  },
  {
   "cell_type": "code",
   "execution_count": null,
   "metadata": {},
   "outputs": [],
   "source": []
  },
  {
   "cell_type": "code",
   "execution_count": 179,
   "metadata": {},
   "outputs": [
    {
     "name": "stdout",
     "output_type": "stream",
     "text": [
      "(4637618, 4)\n"
     ]
    },
    {
     "data": {
      "text/html": [
       "<div>\n",
       "<style scoped>\n",
       "    .dataframe tbody tr th:only-of-type {\n",
       "        vertical-align: middle;\n",
       "    }\n",
       "\n",
       "    .dataframe tbody tr th {\n",
       "        vertical-align: top;\n",
       "    }\n",
       "\n",
       "    .dataframe thead th {\n",
       "        text-align: right;\n",
       "    }\n",
       "</style>\n",
       "<table border=\"1\" class=\"dataframe\">\n",
       "  <thead>\n",
       "    <tr style=\"text-align: right;\">\n",
       "      <th></th>\n",
       "      <th>idTram</th>\n",
       "      <th>data</th>\n",
       "      <th>estatActual</th>\n",
       "      <th>estatPrevist</th>\n",
       "    </tr>\n",
       "  </thead>\n",
       "  <tbody>\n",
       "    <tr>\n",
       "      <th>0</th>\n",
       "      <td>1</td>\n",
       "      <td>20190501000552</td>\n",
       "      <td>1</td>\n",
       "      <td>0</td>\n",
       "    </tr>\n",
       "    <tr>\n",
       "      <th>1</th>\n",
       "      <td>2</td>\n",
       "      <td>20190501000552</td>\n",
       "      <td>1</td>\n",
       "      <td>0</td>\n",
       "    </tr>\n",
       "    <tr>\n",
       "      <th>2</th>\n",
       "      <td>3</td>\n",
       "      <td>20190501000552</td>\n",
       "      <td>1</td>\n",
       "      <td>0</td>\n",
       "    </tr>\n",
       "    <tr>\n",
       "      <th>3</th>\n",
       "      <td>4</td>\n",
       "      <td>20190501000552</td>\n",
       "      <td>1</td>\n",
       "      <td>0</td>\n",
       "    </tr>\n",
       "    <tr>\n",
       "      <th>4</th>\n",
       "      <td>5</td>\n",
       "      <td>20190501000552</td>\n",
       "      <td>1</td>\n",
       "      <td>0</td>\n",
       "    </tr>\n",
       "  </tbody>\n",
       "</table>\n",
       "</div>"
      ],
      "text/plain": [
       "   idTram            data  estatActual  estatPrevist\n",
       "0       1  20190501000552            1             0\n",
       "1       2  20190501000552            1             0\n",
       "2       3  20190501000552            1             0\n",
       "3       4  20190501000552            1             0\n",
       "4       5  20190501000552            1             0"
      ]
     },
     "execution_count": 179,
     "metadata": {},
     "output_type": "execute_result"
    }
   ],
   "source": [
    "# Is this tendency same in completely other moment of the year?\n",
    "# May 2019 (more active moment of the year, only 1 festivo as in Jan 2020)\n",
    "\n",
    "may_ = pd.read_csv('./data/2019_05_Maig_TRAMS_TRAMS.csv')\n",
    "print(may_.shape)\n",
    "may_.head()"
   ]
  },
  {
   "cell_type": "code",
   "execution_count": 180,
   "metadata": {},
   "outputs": [
    {
     "name": "stdout",
     "output_type": "stream",
     "text": [
      "Proportion of empty rows?: 0.0\n",
      "Proportion of duplicated rows?: 0.0\n"
     ]
    }
   ],
   "source": [
    "# Check if there are corrupted data:\n",
    "# 1. empty rows\n",
    "# 2. duplicated data\n",
    "\n",
    "print(f'Proportion of empty rows?: {may_.isnull().any().mean()}')\n",
    "print(f'Proportion of duplicated rows?: {may_.duplicated().mean()}')"
   ]
  },
  {
   "cell_type": "code",
   "execution_count": 181,
   "metadata": {},
   "outputs": [
    {
     "name": "stdout",
     "output_type": "stream",
     "text": [
      "How many rows lacks data (value=0)?: 2378753\n"
     ]
    }
   ],
   "source": [
    "# Actually, null values in this dataset is presented with value '0'\n",
    "# How many rows lacks data (value=0)?\n",
    "no_data = (may_['estatActual']==0) | (may_['estatPrevist']==0)\n",
    "print(f'How many rows lacks data (value=0)?: {len(may_[no_data])}')"
   ]
  },
  {
   "cell_type": "code",
   "execution_count": 182,
   "metadata": {},
   "outputs": [
    {
     "name": "stdout",
     "output_type": "stream",
     "text": [
      "(2258865, 4)\n"
     ]
    },
    {
     "data": {
      "text/html": [
       "<div>\n",
       "<style scoped>\n",
       "    .dataframe tbody tr th:only-of-type {\n",
       "        vertical-align: middle;\n",
       "    }\n",
       "\n",
       "    .dataframe tbody tr th {\n",
       "        vertical-align: top;\n",
       "    }\n",
       "\n",
       "    .dataframe thead th {\n",
       "        text-align: right;\n",
       "    }\n",
       "</style>\n",
       "<table border=\"1\" class=\"dataframe\">\n",
       "  <thead>\n",
       "    <tr style=\"text-align: right;\">\n",
       "      <th></th>\n",
       "      <th>idTram</th>\n",
       "      <th>data</th>\n",
       "      <th>estatActual</th>\n",
       "      <th>estatPrevist</th>\n",
       "    </tr>\n",
       "  </thead>\n",
       "  <tbody>\n",
       "    <tr>\n",
       "      <th>36</th>\n",
       "      <td>37</td>\n",
       "      <td>20190501000552</td>\n",
       "      <td>4</td>\n",
       "      <td>5</td>\n",
       "    </tr>\n",
       "    <tr>\n",
       "      <th>56</th>\n",
       "      <td>57</td>\n",
       "      <td>20190501000552</td>\n",
       "      <td>1</td>\n",
       "      <td>5</td>\n",
       "    </tr>\n",
       "    <tr>\n",
       "      <th>57</th>\n",
       "      <td>58</td>\n",
       "      <td>20190501000552</td>\n",
       "      <td>1</td>\n",
       "      <td>5</td>\n",
       "    </tr>\n",
       "    <tr>\n",
       "      <th>143</th>\n",
       "      <td>144</td>\n",
       "      <td>20190501000552</td>\n",
       "      <td>1</td>\n",
       "      <td>5</td>\n",
       "    </tr>\n",
       "    <tr>\n",
       "      <th>276</th>\n",
       "      <td>277</td>\n",
       "      <td>20190501000552</td>\n",
       "      <td>2</td>\n",
       "      <td>5</td>\n",
       "    </tr>\n",
       "  </tbody>\n",
       "</table>\n",
       "</div>"
      ],
      "text/plain": [
       "     idTram            data  estatActual  estatPrevist\n",
       "36       37  20190501000552            4             5\n",
       "56       57  20190501000552            1             5\n",
       "57       58  20190501000552            1             5\n",
       "143     144  20190501000552            1             5\n",
       "276     277  20190501000552            2             5"
      ]
     },
     "execution_count": 182,
     "metadata": {},
     "output_type": "execute_result"
    }
   ],
   "source": [
    "# Let's remove these raws without data:\n",
    "may_2019_clean = may_[~no_data]\n",
    "print(may_2019_clean.shape)\n",
    "may_2019_clean.head()"
   ]
  },
  {
   "cell_type": "code",
   "execution_count": 183,
   "metadata": {},
   "outputs": [
    {
     "name": "stdout",
     "output_type": "stream",
     "text": [
      "(278133, 4)\n"
     ]
    },
    {
     "data": {
      "text/html": [
       "<div>\n",
       "<style scoped>\n",
       "    .dataframe tbody tr th:only-of-type {\n",
       "        vertical-align: middle;\n",
       "    }\n",
       "\n",
       "    .dataframe tbody tr th {\n",
       "        vertical-align: top;\n",
       "    }\n",
       "\n",
       "    .dataframe thead th {\n",
       "        text-align: right;\n",
       "    }\n",
       "</style>\n",
       "<table border=\"1\" class=\"dataframe\">\n",
       "  <thead>\n",
       "    <tr style=\"text-align: right;\">\n",
       "      <th></th>\n",
       "      <th>idTram</th>\n",
       "      <th>data</th>\n",
       "      <th>estatActual</th>\n",
       "      <th>estatPrevist</th>\n",
       "    </tr>\n",
       "  </thead>\n",
       "  <tbody>\n",
       "    <tr>\n",
       "      <th>56</th>\n",
       "      <td>57</td>\n",
       "      <td>20190501000552</td>\n",
       "      <td>1</td>\n",
       "      <td>5</td>\n",
       "    </tr>\n",
       "    <tr>\n",
       "      <th>319</th>\n",
       "      <td>320</td>\n",
       "      <td>20190501000552</td>\n",
       "      <td>5</td>\n",
       "      <td>5</td>\n",
       "    </tr>\n",
       "    <tr>\n",
       "      <th>589</th>\n",
       "      <td>57</td>\n",
       "      <td>20190501000053</td>\n",
       "      <td>1</td>\n",
       "      <td>5</td>\n",
       "    </tr>\n",
       "    <tr>\n",
       "      <th>852</th>\n",
       "      <td>320</td>\n",
       "      <td>20190501000053</td>\n",
       "      <td>1</td>\n",
       "      <td>5</td>\n",
       "    </tr>\n",
       "    <tr>\n",
       "      <th>1066</th>\n",
       "      <td>1</td>\n",
       "      <td>20190501001053</td>\n",
       "      <td>1</td>\n",
       "      <td>1</td>\n",
       "    </tr>\n",
       "  </tbody>\n",
       "</table>\n",
       "</div>"
      ],
      "text/plain": [
       "      idTram            data  estatActual  estatPrevist\n",
       "56        57  20190501000552            1             5\n",
       "319      320  20190501000552            5             5\n",
       "589       57  20190501000053            1             5\n",
       "852      320  20190501000053            1             5\n",
       "1066       1  20190501001053            1             1"
      ]
     },
     "execution_count": 183,
     "metadata": {},
     "output_type": "execute_result"
    }
   ],
   "source": [
    "mask = may_2019_clean['idTram'] .isin(id_jan)\n",
    "may_2019 = may_2019_clean[mask]\n",
    "\n",
    "print(may_2019.shape)\n",
    "may_2019.head()"
   ]
  },
  {
   "cell_type": "code",
   "execution_count": 184,
   "metadata": {},
   "outputs": [
    {
     "data": {
      "text/html": [
       "<div>\n",
       "<style scoped>\n",
       "    .dataframe tbody tr th:only-of-type {\n",
       "        vertical-align: middle;\n",
       "    }\n",
       "\n",
       "    .dataframe tbody tr th {\n",
       "        vertical-align: top;\n",
       "    }\n",
       "\n",
       "    .dataframe thead th {\n",
       "        text-align: right;\n",
       "    }\n",
       "</style>\n",
       "<table border=\"1\" class=\"dataframe\">\n",
       "  <thead>\n",
       "    <tr style=\"text-align: right;\">\n",
       "      <th></th>\n",
       "      <th>Tram</th>\n",
       "      <th>date</th>\n",
       "      <th>CurrentState</th>\n",
       "      <th>ExpectedState</th>\n",
       "    </tr>\n",
       "  </thead>\n",
       "  <tbody>\n",
       "    <tr>\n",
       "      <th>56</th>\n",
       "      <td>57</td>\n",
       "      <td>2019-05-01 00:05:52</td>\n",
       "      <td>1</td>\n",
       "      <td>5</td>\n",
       "    </tr>\n",
       "    <tr>\n",
       "      <th>319</th>\n",
       "      <td>320</td>\n",
       "      <td>2019-05-01 00:05:52</td>\n",
       "      <td>5</td>\n",
       "      <td>5</td>\n",
       "    </tr>\n",
       "    <tr>\n",
       "      <th>589</th>\n",
       "      <td>57</td>\n",
       "      <td>2019-05-01 00:00:53</td>\n",
       "      <td>1</td>\n",
       "      <td>5</td>\n",
       "    </tr>\n",
       "    <tr>\n",
       "      <th>852</th>\n",
       "      <td>320</td>\n",
       "      <td>2019-05-01 00:00:53</td>\n",
       "      <td>1</td>\n",
       "      <td>5</td>\n",
       "    </tr>\n",
       "    <tr>\n",
       "      <th>1066</th>\n",
       "      <td>1</td>\n",
       "      <td>2019-05-01 00:10:53</td>\n",
       "      <td>1</td>\n",
       "      <td>1</td>\n",
       "    </tr>\n",
       "  </tbody>\n",
       "</table>\n",
       "</div>"
      ],
      "text/plain": [
       "      Tram                date  CurrentState  ExpectedState\n",
       "56      57 2019-05-01 00:05:52             1              5\n",
       "319    320 2019-05-01 00:05:52             5              5\n",
       "589     57 2019-05-01 00:00:53             1              5\n",
       "852    320 2019-05-01 00:00:53             1              5\n",
       "1066     1 2019-05-01 00:10:53             1              1"
      ]
     },
     "execution_count": 184,
     "metadata": {},
     "output_type": "execute_result"
    }
   ],
   "source": [
    "# Modify the data:\n",
    "# 1. Change column names to english\n",
    "# 2. Change 'date' column into datetime type\n",
    "\n",
    "may_2019 = may_2019.rename(columns=new_names)\n",
    "    \n",
    "# 2. 'date' column as a datetime type\n",
    "may_2019['date'] = pd.to_datetime(may_2019['date'].astype(str), yearfirst=True)\n",
    "\n",
    "may_2019.head()"
   ]
  },
  {
   "cell_type": "code",
   "execution_count": 185,
   "metadata": {},
   "outputs": [
    {
     "data": {
      "text/html": [
       "<div>\n",
       "<style scoped>\n",
       "    .dataframe tbody tr th:only-of-type {\n",
       "        vertical-align: middle;\n",
       "    }\n",
       "\n",
       "    .dataframe tbody tr th {\n",
       "        vertical-align: top;\n",
       "    }\n",
       "\n",
       "    .dataframe thead th {\n",
       "        text-align: right;\n",
       "    }\n",
       "</style>\n",
       "<table border=\"1\" class=\"dataframe\">\n",
       "  <thead>\n",
       "    <tr style=\"text-align: right;\">\n",
       "      <th></th>\n",
       "      <th>Tram</th>\n",
       "      <th>date</th>\n",
       "      <th>CurrentState</th>\n",
       "      <th>ExpectedState</th>\n",
       "      <th>Weekday</th>\n",
       "    </tr>\n",
       "  </thead>\n",
       "  <tbody>\n",
       "    <tr>\n",
       "      <th>319</th>\n",
       "      <td>320</td>\n",
       "      <td>2019-05-01 00:05:52</td>\n",
       "      <td>5</td>\n",
       "      <td>5</td>\n",
       "      <td>Wednesday</td>\n",
       "    </tr>\n",
       "    <tr>\n",
       "      <th>2451</th>\n",
       "      <td>320</td>\n",
       "      <td>2019-05-01 00:20:52</td>\n",
       "      <td>5</td>\n",
       "      <td>4</td>\n",
       "      <td>Wednesday</td>\n",
       "    </tr>\n",
       "    <tr>\n",
       "      <th>10979</th>\n",
       "      <td>320</td>\n",
       "      <td>2019-05-01 01:40:52</td>\n",
       "      <td>5</td>\n",
       "      <td>2</td>\n",
       "      <td>Wednesday</td>\n",
       "    </tr>\n",
       "    <tr>\n",
       "      <th>15243</th>\n",
       "      <td>320</td>\n",
       "      <td>2019-05-01 02:20:53</td>\n",
       "      <td>5</td>\n",
       "      <td>5</td>\n",
       "      <td>Wednesday</td>\n",
       "    </tr>\n",
       "    <tr>\n",
       "      <th>18974</th>\n",
       "      <td>320</td>\n",
       "      <td>2019-05-01 02:55:52</td>\n",
       "      <td>5</td>\n",
       "      <td>5</td>\n",
       "      <td>Wednesday</td>\n",
       "    </tr>\n",
       "  </tbody>\n",
       "</table>\n",
       "</div>"
      ],
      "text/plain": [
       "       Tram                date  CurrentState  ExpectedState    Weekday\n",
       "319     320 2019-05-01 00:05:52             5              5  Wednesday\n",
       "2451    320 2019-05-01 00:20:52             5              4  Wednesday\n",
       "10979   320 2019-05-01 01:40:52             5              2  Wednesday\n",
       "15243   320 2019-05-01 02:20:53             5              5  Wednesday\n",
       "18974   320 2019-05-01 02:55:52             5              5  Wednesday"
      ]
     },
     "execution_count": 185,
     "metadata": {},
     "output_type": "execute_result"
    }
   ],
   "source": [
    "# Let's further modity the 'date' column\n",
    "\n",
    "#1. Add day of the week info by creating a new column:\n",
    "may_2019['Weekday'] = may_2019.date.dt.weekday_name\n",
    "\n",
    "#2. Let's introduce 'rush hour' to our data\n",
    "rush_hour = may_2019.CurrentState >= 5\n",
    "may_2019_rh = may_2019[rush_hour]\n",
    "\n",
    "may_2019_rh.head()"
   ]
  },
  {
   "cell_type": "code",
   "execution_count": 197,
   "metadata": {},
   "outputs": [
    {
     "data": {
      "text/plain": [
       "Text(0.5,0,'Section ID')"
      ]
     },
     "execution_count": 197,
     "metadata": {},
     "output_type": "execute_result"
    },
    {
     "data": {
      "image/png": "[encoded data removed]",
      "text/plain": [
       "<Figure size 792x360 with 1 Axes>"
      ]
     },
     "metadata": {},
     "output_type": "display_data"
    }
   ],
   "source": [
    "plt.figure(figsize=(11,5))\n",
    "may_2019_rh.Tram.value_counts().plot(kind='bar')\n",
    "plt.title('Frequency of congestion (>5) in May 2019')\n",
    "plt.ylabel('# times')\n",
    "plt.xlabel('Section ID')"
   ]
  },
  {
   "cell_type": "code",
   "execution_count": 201,
   "metadata": {},
   "outputs": [
    {
     "data": {
      "text/plain": [
       "[5, 517, 57, 386, 4, 320, 8, 3]"
      ]
     },
     "execution_count": 201,
     "metadata": {},
     "output_type": "execute_result"
    }
   ],
   "source": [
    "top10_may_id = top10_may['Tram'].unique()\n",
    "[id for id in top10_id if id in top10_may_id]"
   ]
  },
  {
   "cell_type": "code",
   "execution_count": 167,
   "metadata": {},
   "outputs": [
    {
     "name": "stdout",
     "output_type": "stream",
     "text": [
      "(7958, 5)\n"
     ]
    },
    {
     "data": {
      "text/plain": [
       "array([320, 206,   4,  57,   8,   5, 517, 386,   3, 265])"
      ]
     },
     "execution_count": 167,
     "metadata": {},
     "output_type": "execute_result"
    }
   ],
   "source": [
    "# Let's look at top 10\n",
    "top10_may = may_2019_rh.Tram.value_counts()[:10].index\n",
    "\n",
    "mask = may_2019_rh['Tram'].isin(top10_may)\n",
    "top10_may = may_2019_rh[mask]\n",
    "\n",
    "print(top10_may.shape)"
   ]
  },
  {
   "cell_type": "code",
   "execution_count": 202,
   "metadata": {},
   "outputs": [
    {
     "name": "stdout",
     "output_type": "stream",
     "text": [
      "(7958, 14)\n"
     ]
    },
    {
     "data": {
      "text/html": [
       "<div>\n",
       "<style scoped>\n",
       "    .dataframe tbody tr th:only-of-type {\n",
       "        vertical-align: middle;\n",
       "    }\n",
       "\n",
       "    .dataframe tbody tr th {\n",
       "        vertical-align: top;\n",
       "    }\n",
       "\n",
       "    .dataframe thead th {\n",
       "        text-align: right;\n",
       "    }\n",
       "</style>\n",
       "<table border=\"1\" class=\"dataframe\">\n",
       "  <thead>\n",
       "    <tr style=\"text-align: right;\">\n",
       "      <th></th>\n",
       "      <th>Tram</th>\n",
       "      <th>date</th>\n",
       "      <th>CurrentState</th>\n",
       "      <th>ExpectedState</th>\n",
       "      <th>Weekday</th>\n",
       "      <th>Description</th>\n",
       "      <th>Primary</th>\n",
       "      <th>Secondary</th>\n",
       "      <th>BusstopID</th>\n",
       "      <th>Distance_busstop</th>\n",
       "      <th>MaxSpeed</th>\n",
       "      <th>Distance_camera</th>\n",
       "      <th>TrafficSignalID</th>\n",
       "      <th>Distance_trafficsignal</th>\n",
       "    </tr>\n",
       "  </thead>\n",
       "  <tbody>\n",
       "    <tr>\n",
       "      <th>0</th>\n",
       "      <td>320</td>\n",
       "      <td>2019-05-01 00:05:52</td>\n",
       "      <td>5</td>\n",
       "      <td>5</td>\n",
       "      <td>Wednesday</td>\n",
       "      <td>Meridiana (Pl. de les Glòries a Aragó)</td>\n",
       "      <td>0</td>\n",
       "      <td>0</td>\n",
       "      <td>n5760480313</td>\n",
       "      <td>0.001188</td>\n",
       "      <td>NaN</td>\n",
       "      <td>0.004786</td>\n",
       "      <td>n4637945307</td>\n",
       "      <td>0.000291</td>\n",
       "    </tr>\n",
       "    <tr>\n",
       "      <th>1</th>\n",
       "      <td>320</td>\n",
       "      <td>2019-05-01 00:20:52</td>\n",
       "      <td>5</td>\n",
       "      <td>4</td>\n",
       "      <td>Wednesday</td>\n",
       "      <td>Meridiana (Pl. de les Glòries a Aragó)</td>\n",
       "      <td>0</td>\n",
       "      <td>0</td>\n",
       "      <td>n5760480313</td>\n",
       "      <td>0.001188</td>\n",
       "      <td>NaN</td>\n",
       "      <td>0.004786</td>\n",
       "      <td>n4637945307</td>\n",
       "      <td>0.000291</td>\n",
       "    </tr>\n",
       "    <tr>\n",
       "      <th>2</th>\n",
       "      <td>320</td>\n",
       "      <td>2019-05-01 01:40:52</td>\n",
       "      <td>5</td>\n",
       "      <td>2</td>\n",
       "      <td>Wednesday</td>\n",
       "      <td>Meridiana (Pl. de les Glòries a Aragó)</td>\n",
       "      <td>0</td>\n",
       "      <td>0</td>\n",
       "      <td>n5760480313</td>\n",
       "      <td>0.001188</td>\n",
       "      <td>NaN</td>\n",
       "      <td>0.004786</td>\n",
       "      <td>n4637945307</td>\n",
       "      <td>0.000291</td>\n",
       "    </tr>\n",
       "    <tr>\n",
       "      <th>3</th>\n",
       "      <td>320</td>\n",
       "      <td>2019-05-01 02:20:53</td>\n",
       "      <td>5</td>\n",
       "      <td>5</td>\n",
       "      <td>Wednesday</td>\n",
       "      <td>Meridiana (Pl. de les Glòries a Aragó)</td>\n",
       "      <td>0</td>\n",
       "      <td>0</td>\n",
       "      <td>n5760480313</td>\n",
       "      <td>0.001188</td>\n",
       "      <td>NaN</td>\n",
       "      <td>0.004786</td>\n",
       "      <td>n4637945307</td>\n",
       "      <td>0.000291</td>\n",
       "    </tr>\n",
       "    <tr>\n",
       "      <th>4</th>\n",
       "      <td>320</td>\n",
       "      <td>2019-05-01 02:55:52</td>\n",
       "      <td>5</td>\n",
       "      <td>5</td>\n",
       "      <td>Wednesday</td>\n",
       "      <td>Meridiana (Pl. de les Glòries a Aragó)</td>\n",
       "      <td>0</td>\n",
       "      <td>0</td>\n",
       "      <td>n5760480313</td>\n",
       "      <td>0.001188</td>\n",
       "      <td>NaN</td>\n",
       "      <td>0.004786</td>\n",
       "      <td>n4637945307</td>\n",
       "      <td>0.000291</td>\n",
       "    </tr>\n",
       "  </tbody>\n",
       "</table>\n",
       "</div>"
      ],
      "text/plain": [
       "   Tram                date  CurrentState  ExpectedState    Weekday  \\\n",
       "0   320 2019-05-01 00:05:52             5              5  Wednesday   \n",
       "1   320 2019-05-01 00:20:52             5              4  Wednesday   \n",
       "2   320 2019-05-01 01:40:52             5              2  Wednesday   \n",
       "3   320 2019-05-01 02:20:53             5              5  Wednesday   \n",
       "4   320 2019-05-01 02:55:52             5              5  Wednesday   \n",
       "\n",
       "                              Description  Primary  Secondary    BusstopID  \\\n",
       "0  Meridiana (Pl. de les Glòries a Aragó)        0          0  n5760480313   \n",
       "1  Meridiana (Pl. de les Glòries a Aragó)        0          0  n5760480313   \n",
       "2  Meridiana (Pl. de les Glòries a Aragó)        0          0  n5760480313   \n",
       "3  Meridiana (Pl. de les Glòries a Aragó)        0          0  n5760480313   \n",
       "4  Meridiana (Pl. de les Glòries a Aragó)        0          0  n5760480313   \n",
       "\n",
       "   Distance_busstop  MaxSpeed  Distance_camera TrafficSignalID  \\\n",
       "0          0.001188       NaN         0.004786     n4637945307   \n",
       "1          0.001188       NaN         0.004786     n4637945307   \n",
       "2          0.001188       NaN         0.004786     n4637945307   \n",
       "3          0.001188       NaN         0.004786     n4637945307   \n",
       "4          0.001188       NaN         0.004786     n4637945307   \n",
       "\n",
       "   Distance_trafficsignal  \n",
       "0                0.000291  \n",
       "1                0.000291  \n",
       "2                0.000291  \n",
       "3                0.000291  \n",
       "4                0.000291  "
      ]
     },
     "execution_count": 202,
     "metadata": {},
     "output_type": "execute_result"
    }
   ],
   "source": [
    "# Join with diagonal_merged attributes:\n",
    "\n",
    "top10_may = top10_may.merge(diagonal_merged, on='Tram', how='inner', copy=False)\n",
    "print(top10_may.shape)\n",
    "top10_may.head()"
   ]
  },
  {
   "cell_type": "code",
   "execution_count": 203,
   "metadata": {},
   "outputs": [
    {
     "data": {
      "image/png": "[encoded data removed]",
      "text/plain": [
       "<Figure size 432x288 with 1 Axes>"
      ]
     },
     "metadata": {},
     "output_type": "display_data"
    },
    {
     "ename": "NameError",
     "evalue": "name 'rest_may' is not defined",
     "output_type": "error",
     "traceback": [
      "\u001b[0;31m---------------------------------------------------------------------------\u001b[0m",
      "\u001b[0;31mNameError\u001b[0m                                 Traceback (most recent call last)",
      "\u001b[0;32m<ipython-input-203-e552081e2a24>\u001b[0m in \u001b[0;36m<module>\u001b[0;34m\u001b[0m\n\u001b[1;32m      3\u001b[0m \u001b[0msns\u001b[0m\u001b[0;34m.\u001b[0m\u001b[0mcountplot\u001b[0m\u001b[0;34m(\u001b[0m\u001b[0mtop10_may\u001b[0m\u001b[0;34m.\u001b[0m\u001b[0mPrimary\u001b[0m\u001b[0;34m,\u001b[0m \u001b[0mpalette\u001b[0m\u001b[0;34m=\u001b[0m\u001b[0;34m'Set2'\u001b[0m\u001b[0;34m)\u001b[0m\u001b[0;34m\u001b[0m\u001b[0;34m\u001b[0m\u001b[0m\n\u001b[1;32m      4\u001b[0m \u001b[0mplt\u001b[0m\u001b[0;34m.\u001b[0m\u001b[0mshow\u001b[0m\u001b[0;34m(\u001b[0m\u001b[0;34m)\u001b[0m\u001b[0;34m\u001b[0m\u001b[0;34m\u001b[0m\u001b[0m\n\u001b[0;32m----> 5\u001b[0;31m \u001b[0msns\u001b[0m\u001b[0;34m.\u001b[0m\u001b[0mcountplot\u001b[0m\u001b[0;34m(\u001b[0m\u001b[0mrest_may\u001b[0m\u001b[0;34m.\u001b[0m\u001b[0mPrimary\u001b[0m\u001b[0;34m,\u001b[0m \u001b[0mpalette\u001b[0m\u001b[0;34m=\u001b[0m\u001b[0;34m'Set2'\u001b[0m\u001b[0;34m)\u001b[0m\u001b[0;34m\u001b[0m\u001b[0;34m\u001b[0m\u001b[0m\n\u001b[0m\u001b[1;32m      6\u001b[0m \u001b[0mplt\u001b[0m\u001b[0;34m.\u001b[0m\u001b[0mshow\u001b[0m\u001b[0;34m(\u001b[0m\u001b[0;34m)\u001b[0m\u001b[0;34m\u001b[0m\u001b[0;34m\u001b[0m\u001b[0m\n\u001b[1;32m      7\u001b[0m \u001b[0;34m\u001b[0m\u001b[0m\n",
      "\u001b[0;31mNameError\u001b[0m: name 'rest_may' is not defined"
     ]
    }
   ],
   "source": [
    "# Let's check distribution of numeric variables\n",
    "\n",
    "sns.countplot(top10_may.Primary, palette='Set2')\n",
    "plt.show()\n",
    "sns.countplot(rest_may.Primary, palette='Set2')\n",
    "plt.show()\n",
    "\n",
    "sns.countplot(top10_may.Secondary, palette='Set2')\n",
    "plt.show()\n",
    "sns.countplot(rest_may.Secondary, palette='Set2')\n",
    "plt.show()"
   ]
  },
  {
   "cell_type": "code",
   "execution_count": null,
   "metadata": {},
   "outputs": [],
   "source": []
  }
 ],
 "metadata": {
  "kernelspec": {
   "display_name": "Python 3.7.6 64-bit ('base': conda)",
   "language": "python",
   "name": "python37664bitbaseconda45c4735d229e4b89864933604f8dfee7"
  },
  "language_info": {
   "codemirror_mode": {
    "name": "ipython",
    "version": 3
   },
   "file_extension": ".py",
   "mimetype": "text/x-python",
   "name": "python",
   "nbconvert_exporter": "python",
   "pygments_lexer": "ipython3",
   "version": "3.7.6"
  }
 },
 "nbformat": 4,
 "nbformat_minor": 4
}
