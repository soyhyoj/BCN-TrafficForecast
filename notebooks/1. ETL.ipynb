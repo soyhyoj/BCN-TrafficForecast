{
 "cells": [
  {
   "cell_type": "code",
   "execution_count": 1,
   "metadata": {},
   "outputs": [],
   "source": [
    "# Import libraries\n",
    "import geopandas as gpd\n",
    "import pandas as pd\n",
    "import psycopg2\n",
    "import glob"
   ]
  },
  {
   "cell_type": "markdown",
   "metadata": {},
   "source": [
    "# inspect data in the folder"
   ]
  },
  {
   "cell_type": "code",
   "execution_count": 2,
   "metadata": {},
   "outputs": [
    {
     "name": "stdout",
     "output_type": "stream",
     "text": [
      "How many files in total: 23\n",
      "How many monthly traffic state files: 22\n"
     ]
    },
    {
     "data": {
      "text/plain": [
       "['../data/2019_01_Gener_TRAMS_TRAMS.csv',\n",
       " '../data/2019_02_Febrer_TRAMS_TRAMS.csv',\n",
       " '../data/2019_03_Marc_TRAMS_TRAMS.csv',\n",
       " '../data/2019_04_Abril_TRAMS_TRAMS.csv',\n",
       " '../data/2019_05_Maig_TRAMS_TRAMS.csv',\n",
       " '../data/2019_06_Juny_TRAMS_TRAMS.csv',\n",
       " '../data/2019_07_Juliol_TRAMS_TRAMS.csv',\n",
       " '../data/2019_08_Agost_TRAMS_TRAMS.csv',\n",
       " '../data/2019_09_Setembre_TRAMS_TRAMS.csv',\n",
       " '../data/2019_10_Octubre_TRAMS_TRAMS.csv',\n",
       " '../data/2019_11_Novembre_TRAMS_TRAMS.csv',\n",
       " '../data/2019_12_Desembre_TRAMS_TRAMS.csv',\n",
       " '../data/2020_01_Gener_TRAMS_TRAMS.csv',\n",
       " '../data/2020_02_Febrer_TRAMS_TRAMS.csv',\n",
       " '../data/2020_03_Marc_TRAMS_TRAMS.csv',\n",
       " '../data/2020_04_Abril_TRAMS_TRAMS.csv',\n",
       " '../data/2020_05_Maig_TRAMS_TRAMS.csv',\n",
       " '../data/2020_06_Juny_TRAMS_TRAMS.csv',\n",
       " '../data/2020_07_Juliol_TRAMS_TRAMS.csv',\n",
       " '../data/2020_08_Agost_TRAMS_TRAMS.csv',\n",
       " '../data/2020_09_Setembre_TRAMS_TRAMS.csv',\n",
       " '../data/2020_10_Octubre_TRAMS_TRAMS.csv']"
      ]
     },
     "execution_count": 2,
     "metadata": {},
     "output_type": "execute_result"
    }
   ],
   "source": [
    "# Read all the files in 'data' folder and save them as a list\n",
    "files = sorted(glob.glob('../data/*')) # in ascending order\n",
    "print(f'How many files in total: {len(files)}')\n",
    "\n",
    "# Select only the monthly traffic state files\n",
    "monthly_files = [file for file in files if file[-9:] == 'TRAMS.csv']\n",
    "print(f'How many monthly traffic state files: {len(monthly_files)}')\n",
    "\n",
    "monthly_files"
   ]
  },
  {
   "cell_type": "code",
   "execution_count": 3,
   "metadata": {},
   "outputs": [
    {
     "data": {
      "text/plain": [
       "['../data/transit_relacio_trams_format_long.csv']"
      ]
     },
     "execution_count": 3,
     "metadata": {},
     "output_type": "execute_result"
    }
   ],
   "source": [
    "# A data file containing geometry info for each traffic section of BCN\n",
    "bcn_geom = [file for file in files if file not in monthly_files]\n",
    "bcn_geom"
   ]
  },
  {
   "cell_type": "code",
   "execution_count": 4,
   "metadata": {},
   "outputs": [
    {
     "name": "stdout",
     "output_type": "stream",
     "text": [
      "(951405, 4)\n"
     ]
    },
    {
     "data": {
      "text/html": [
       "<div>\n",
       "<style scoped>\n",
       "    .dataframe tbody tr th:only-of-type {\n",
       "        vertical-align: middle;\n",
       "    }\n",
       "\n",
       "    .dataframe tbody tr th {\n",
       "        vertical-align: top;\n",
       "    }\n",
       "\n",
       "    .dataframe thead th {\n",
       "        text-align: right;\n",
       "    }\n",
       "</style>\n",
       "<table border=\"1\" class=\"dataframe\">\n",
       "  <thead>\n",
       "    <tr style=\"text-align: right;\">\n",
       "      <th></th>\n",
       "      <th>idTram</th>\n",
       "      <th>data</th>\n",
       "      <th>estatActual</th>\n",
       "      <th>estatPrevist</th>\n",
       "    </tr>\n",
       "  </thead>\n",
       "  <tbody>\n",
       "    <tr>\n",
       "      <th>0</th>\n",
       "      <td>1</td>\n",
       "      <td>20190101000551</td>\n",
       "      <td>0</td>\n",
       "      <td>0</td>\n",
       "    </tr>\n",
       "    <tr>\n",
       "      <th>1</th>\n",
       "      <td>2</td>\n",
       "      <td>20190101000551</td>\n",
       "      <td>0</td>\n",
       "      <td>0</td>\n",
       "    </tr>\n",
       "    <tr>\n",
       "      <th>2</th>\n",
       "      <td>3</td>\n",
       "      <td>20190101000551</td>\n",
       "      <td>0</td>\n",
       "      <td>0</td>\n",
       "    </tr>\n",
       "    <tr>\n",
       "      <th>3</th>\n",
       "      <td>4</td>\n",
       "      <td>20190101000551</td>\n",
       "      <td>0</td>\n",
       "      <td>0</td>\n",
       "    </tr>\n",
       "    <tr>\n",
       "      <th>4</th>\n",
       "      <td>5</td>\n",
       "      <td>20190101000551</td>\n",
       "      <td>0</td>\n",
       "      <td>0</td>\n",
       "    </tr>\n",
       "  </tbody>\n",
       "</table>\n",
       "</div>"
      ],
      "text/plain": [
       "   idTram            data  estatActual  estatPrevist\n",
       "0       1  20190101000551            0             0\n",
       "1       2  20190101000551            0             0\n",
       "2       3  20190101000551            0             0\n",
       "3       4  20190101000551            0             0\n",
       "4       5  20190101000551            0             0"
      ]
     },
     "execution_count": 4,
     "metadata": {},
     "output_type": "execute_result"
    }
   ],
   "source": [
    "# Sneak peek of each data I - monthly traffic data\n",
    "traffic_example = pd.read_csv(monthly_files[0])\n",
    "\n",
    "print(traffic_example.shape)\n",
    "traffic_example.head()"
   ]
  },
  {
   "cell_type": "code",
   "execution_count": 5,
   "metadata": {},
   "outputs": [
    {
     "name": "stdout",
     "output_type": "stream",
     "text": [
      "<class 'pandas.core.frame.DataFrame'>\n",
      "RangeIndex: 951405 entries, 0 to 951404\n",
      "Data columns (total 4 columns):\n",
      " #   Column        Non-Null Count   Dtype\n",
      "---  ------        --------------   -----\n",
      " 0   idTram        951405 non-null  int64\n",
      " 1   data          951405 non-null  int64\n",
      " 2   estatActual   951405 non-null  int64\n",
      " 3   estatPrevist  951405 non-null  int64\n",
      "dtypes: int64(4)\n",
      "memory usage: 29.0 MB\n"
     ]
    }
   ],
   "source": [
    "traffic_example.info()"
   ]
  },
  {
   "cell_type": "code",
   "execution_count": 6,
   "metadata": {},
   "outputs": [
    {
     "name": "stdout",
     "output_type": "stream",
     "text": [
      "(2784, 5)\n"
     ]
    },
    {
     "data": {
      "text/html": [
       "<div>\n",
       "<style scoped>\n",
       "    .dataframe tbody tr th:only-of-type {\n",
       "        vertical-align: middle;\n",
       "    }\n",
       "\n",
       "    .dataframe tbody tr th {\n",
       "        vertical-align: top;\n",
       "    }\n",
       "\n",
       "    .dataframe thead th {\n",
       "        text-align: right;\n",
       "    }\n",
       "</style>\n",
       "<table border=\"1\" class=\"dataframe\">\n",
       "  <thead>\n",
       "    <tr style=\"text-align: right;\">\n",
       "      <th></th>\n",
       "      <th>Tram</th>\n",
       "      <th>Tram_Components</th>\n",
       "      <th>Descripció</th>\n",
       "      <th>Longitud</th>\n",
       "      <th>Latitud</th>\n",
       "    </tr>\n",
       "  </thead>\n",
       "  <tbody>\n",
       "    <tr>\n",
       "      <th>0</th>\n",
       "      <td>1</td>\n",
       "      <td>1</td>\n",
       "      <td>Diagonal (Ronda de Dalt a Doctor Marañón)</td>\n",
       "      <td>2.11203535639414</td>\n",
       "      <td>41.384191</td>\n",
       "    </tr>\n",
       "    <tr>\n",
       "      <th>1</th>\n",
       "      <td>1</td>\n",
       "      <td>2</td>\n",
       "      <td>Diagonal (Ronda de Dalt a Doctor Marañón)</td>\n",
       "      <td>2.101502862881051</td>\n",
       "      <td>41.381631</td>\n",
       "    </tr>\n",
       "    <tr>\n",
       "      <th>2</th>\n",
       "      <td>2</td>\n",
       "      <td>1</td>\n",
       "      <td>Diagonal (Doctor Marañón a Ronda de Dalt)</td>\n",
       "      <td>2.111944376806616</td>\n",
       "      <td>41.384467</td>\n",
       "    </tr>\n",
       "    <tr>\n",
       "      <th>3</th>\n",
       "      <td>2</td>\n",
       "      <td>2</td>\n",
       "      <td>Diagonal (Doctor Marañón a Ronda de Dalt)</td>\n",
       "      <td>2.101594089443895</td>\n",
       "      <td>41.381868</td>\n",
       "    </tr>\n",
       "    <tr>\n",
       "      <th>4</th>\n",
       "      <td>3</td>\n",
       "      <td>1</td>\n",
       "      <td>Diagonal (Doctor Marañón a Pl. Pius XII)</td>\n",
       "      <td>2.112093343037027</td>\n",
       "      <td>41.384229</td>\n",
       "    </tr>\n",
       "  </tbody>\n",
       "</table>\n",
       "</div>"
      ],
      "text/plain": [
       "   Tram  Tram_Components                                 Descripció  \\\n",
       "0     1                1  Diagonal (Ronda de Dalt a Doctor Marañón)   \n",
       "1     1                2  Diagonal (Ronda de Dalt a Doctor Marañón)   \n",
       "2     2                1  Diagonal (Doctor Marañón a Ronda de Dalt)   \n",
       "3     2                2  Diagonal (Doctor Marañón a Ronda de Dalt)   \n",
       "4     3                1   Diagonal (Doctor Marañón a Pl. Pius XII)   \n",
       "\n",
       "            Longitud    Latitud  \n",
       "0   2.11203535639414  41.384191  \n",
       "1  2.101502862881051  41.381631  \n",
       "2  2.111944376806616  41.384467  \n",
       "3  2.101594089443895  41.381868  \n",
       "4  2.112093343037027  41.384229  "
      ]
     },
     "execution_count": 6,
     "metadata": {},
     "output_type": "execute_result"
    }
   ],
   "source": [
    "# Sneak peek of each data II - traffic section geometries\n",
    "geom_example = pd.read_csv(bcn_geom[0])\n",
    "\n",
    "print(geom_example.shape)\n",
    "geom_example.head()"
   ]
  },
  {
   "cell_type": "code",
   "execution_count": 7,
   "metadata": {},
   "outputs": [
    {
     "name": "stdout",
     "output_type": "stream",
     "text": [
      "<class 'pandas.core.frame.DataFrame'>\n",
      "RangeIndex: 2784 entries, 0 to 2783\n",
      "Data columns (total 5 columns):\n",
      " #   Column           Non-Null Count  Dtype  \n",
      "---  ------           --------------  -----  \n",
      " 0   Tram             2784 non-null   int64  \n",
      " 1   Tram_Components  2784 non-null   int64  \n",
      " 2   Descripció       2784 non-null   object \n",
      " 3   Longitud         2784 non-null   object \n",
      " 4   Latitud          2779 non-null   float64\n",
      "dtypes: float64(1), int64(2), object(2)\n",
      "memory usage: 108.9+ KB\n"
     ]
    }
   ],
   "source": [
    "geom_example.info()"
   ]
  },
  {
   "cell_type": "code",
   "execution_count": 8,
   "metadata": {},
   "outputs": [
    {
     "data": {
      "text/plain": [
       "array([ 2,  3, 10, 15, 12,  6,  9,  4, 14, 22, 17,  8, 11,  7,  5, 13, 20,\n",
       "       19, 16, 18, 24, 26, 23, 33, 37, 21, 38])"
      ]
     },
     "execution_count": 8,
     "metadata": {},
     "output_type": "execute_result"
    }
   ],
   "source": [
    "# How many geoms per 'Tram (= street section)'\n",
    "geom_example.groupby('Tram').Tram_Components.count().unique()"
   ]
  },
  {
   "cell_type": "markdown",
   "metadata": {},
   "source": [
    "* All data in csv format\n",
    "* Geometry composed of 2-38 points"
   ]
  },
  {
   "cell_type": "markdown",
   "metadata": {},
   "source": [
    "# Connect to the database"
   ]
  },
  {
   "cell_type": "code",
   "execution_count": 9,
   "metadata": {},
   "outputs": [],
   "source": [
    "# Define a function connect to the database 'bcn_traffic'\n",
    "# In case the connecting attempt fails, print the error message\n",
    "def connect_to_db():\n",
    "    try:\n",
    "        #conn for connection\n",
    "        conn =  psycopg2.connect(dbname='bcn_traffic',\n",
    "                                 user='bcn',\n",
    "                                 password='bcn',\n",
    "                                 host='postgis',\n",
    "                                 port='5432')\n",
    "\n",
    "    except psycopg2.DatabaseError:\n",
    "        print (\"I am unable to connect the database\")\n",
    "    return conn"
   ]
  },
  {
   "cell_type": "markdown",
   "metadata": {},
   "source": [
    "# Create tables parsed by month (1 table for each month)"
   ]
  },
  {
   "cell_type": "code",
   "execution_count": 10,
   "metadata": {
    "scrolled": false
   },
   "outputs": [
    {
     "data": {
      "text/plain": [
       "['Gener2019', 'Febrer2019', 'Marc2019']"
      ]
     },
     "execution_count": 10,
     "metadata": {},
     "output_type": "execute_result"
    }
   ],
   "source": [
    "# Create names for each table using monthly_files list\n",
    "\n",
    "# Select year_month part only\n",
    "table_names = [name[8:][:-16] for name in monthly_files]\n",
    "\n",
    "# Modify table names\n",
    "table_names = [name[8:]+name[:4] for name in table_names]\n",
    "\n",
    "table_names[:3] #year_month"
   ]
  },
  {
   "cell_type": "code",
   "execution_count": 54,
   "metadata": {},
   "outputs": [],
   "source": [
    "# Function to create a table called 'taxi_x' inside the PostGIS database\n",
    "def create_table(tablename):\n",
    "    # connect to the db\n",
    "    conn = connect_to_db()\n",
    "    \n",
    "    # Prepare a query to create table for NY taxi data\n",
    "    q_create_table = f\"\"\"\n",
    "                    drop table if exists {tablename};\n",
    "                    create table {tablename}\n",
    "                    (\n",
    "                        idTram int,\n",
    "                        data int,\n",
    "                        estatActual int,\n",
    "                        estatPrevist int\n",
    "                    )\n",
    "                    \"\"\"\n",
    "\n",
    "    try:\n",
    "        cur = conn.cursor()  # initiate cursor (communication with db)\n",
    "        #print('Connected')\n",
    "        cur.execute(q_create_table)  # execute the query\n",
    "        #print('Query executed')\n",
    "        conn.commit()\n",
    "        print(f'{tablename} created')\n",
    "\n",
    "    except psycopg2.DatabaseError: # print error if fails\n",
    "        print (\"Failed to create the table\")\n",
    "\n",
    "    # Close the communication & connection with the postgis\n",
    "    finally:\n",
    "        cur.close()\n",
    "        conn.close ()"
   ]
  },
  {
   "cell_type": "code",
   "execution_count": 55,
   "metadata": {},
   "outputs": [
    {
     "name": "stdout",
     "output_type": "stream",
     "text": [
      "Gener2019 created\n",
      "Febrer2019 created\n",
      "Marc2019 created\n",
      "Abril2019 created\n",
      "Maig2019 created\n",
      "Juny2019 created\n",
      "Juliol2019 created\n",
      "Agost2019 created\n",
      "Setembre2019 created\n",
      "Octubre2019 created\n",
      "Novembre2019 created\n",
      "Desembre2019 created\n",
      "Gener2020 created\n",
      "Febrer2020 created\n",
      "Marc2020 created\n",
      "Abril2020 created\n",
      "Maig2020 created\n",
      "Juny2020 created\n",
      "Juliol2020 created\n",
      "Agost2020 created\n",
      "Setembre2020 created\n",
      "Octubre2020 created\n"
     ]
    }
   ],
   "source": [
    "# Create tables for monthly traffic observation data\n",
    "for name in table_names:\n",
    "    create_table(name)"
   ]
  },
  {
   "cell_type": "markdown",
   "metadata": {},
   "source": [
    "# Read the files, transform the data and load it to the db"
   ]
  },
  {
   "cell_type": "code",
   "execution_count": 56,
   "metadata": {},
   "outputs": [],
   "source": [
    "# Function to fill the previously created tables\n",
    "def fill_table_with_data(filepath, tablename):\n",
    "    # connect to the db\n",
    "    conn = connect_to_db()\n",
    "    \n",
    "    copy_sql = f\"\"\"\n",
    "               COPY {tablename}\n",
    "               FROM {filepath}\n",
    "               DELIMITER ','\n",
    "               CSV HEADER;\n",
    "               \"\"\"\n",
    "\n",
    "    try:\n",
    "        cur = conn.cursor()\n",
    "        total = 0  # count how many rows are inserted\n",
    "        \n",
    "        with open(filepath, 'r') as file:\n",
    "            #next(file) # skip the first line\n",
    "            \n",
    "            #cur.copy_from(file, tablename, sep=',') # copy the csv file\n",
    "            cur.copy_expert(sql=copy_sql, file=file)\n",
    "            print('Copy worked')\n",
    "            \n",
    "            conn.commit() # commit the changes to the db\n",
    "            print('Data inserted to the table')\n",
    "\n",
    "    # Print error message if query fails\n",
    "    except psycopg2.DatabaseError:\n",
    "        print (\"Failed to copy data to the table\")\n",
    "\n",
    "    finally:\n",
    "        cur.close()\n",
    "        conn.close ()\n",
    "        #print('Connection closed')"
   ]
  },
  {
   "cell_type": "code",
   "execution_count": 57,
   "metadata": {},
   "outputs": [
    {
     "name": "stdout",
     "output_type": "stream",
     "text": [
      "Failed to copy data to the table\n"
     ]
    }
   ],
   "source": [
    "fill_table_with_data(monthly_files[0], table_names[0])"
   ]
  },
  {
   "cell_type": "code",
   "execution_count": null,
   "metadata": {},
   "outputs": [],
   "source": []
  }
 ],
 "metadata": {
  "kernelspec": {
   "display_name": "Python 3",
   "language": "python",
   "name": "python3"
  },
  "language_info": {
   "codemirror_mode": {
    "name": "ipython",
    "version": 3
   },
   "file_extension": ".py",
   "mimetype": "text/x-python",
   "name": "python",
   "nbconvert_exporter": "python",
   "pygments_lexer": "ipython3",
   "version": "3.7.6"
  }
 },
 "nbformat": 4,
 "nbformat_minor": 4
}
