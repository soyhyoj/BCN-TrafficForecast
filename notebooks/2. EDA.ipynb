{
 "cells": [
  {
   "cell_type": "markdown",
   "metadata": {},
   "source": [
    "# 2. Data exploration\n",
    "\n",
    "In the previous notebook, two types of data were loaded to a PostGIS database called 'bcn_traffic':\n",
    "\n",
    "1. Monthly traffic report of different street sections of Barcelona\n",
    "2. Geometries of street sections of Barcelona\n",
    "\n",
    "-------------------------\n",
    "\n",
    "**Field information:**\n",
    "\n",
    "1. Monthly traffic report\n",
    "   * idTram: Section identification number\n",
    "\n",
    "   * data: Date of registration (format: YYYY-MM-DD)\n",
    "\n",
    "   * estatActual: Current traffic flow(0 = sense dades / 1 = molt fluid / 2 = fluid / 3 = dens / 4 = molt dens / 5 = congestió / 6 = tallat)\n",
    "\n",
    "   * estatPrevist: Estimated traffic flow after 15min (0 = sense dades / 1 = molt fluid / 2 = fluid / 3 = dens / 4 = molt dens / 5 = congestió / 6 = tallat)\n",
    "\n",
    "\n",
    "2. Geometries (each traffic section)\n",
    "   * Tram = idTram\n",
    "   * Tram_Components: Different points within the same section\t\n",
    "   * Descripció: Description of the \n",
    "   * Longitud: Longitude\n",
    "   * Latitud: Latitude"
   ]
  },
  {
   "cell_type": "code",
   "execution_count": 1,
   "metadata": {},
   "outputs": [
    {
     "data": {
      "text/plain": [
       "<Figure size 432x288 with 0 Axes>"
      ]
     },
     "metadata": {},
     "output_type": "display_data"
    }
   ],
   "source": [
    "# Import libraries\n",
    "import db # db.py\n",
    "import numpy as np\n",
    "import pandas as pd\n",
    "import geopandas as gpd\n",
    "import contextily as ctx\n",
    "import matplotlib.pyplot as plt\n",
    "import seaborn as sns\n",
    "sns.set_palette('Set2')\n",
    "sns.despine()\n",
    "sns.set_context(rc={'axes.labelsize':18,\n",
    "                    'axes.titlesize':18,\n",
    "                    'font.size':15,\n",
    "                    'legend.fontsize':15,\n",
    "                    'lines.linewidth':2.2})"
   ]
  },
  {
   "cell_type": "code",
   "execution_count": 2,
   "metadata": {},
   "outputs": [
    {
     "name": "stdout",
     "output_type": "stream",
     "text": [
      "(471955, 4)\n"
     ]
    },
    {
     "data": {
      "text/html": [
       "<div>\n",
       "<style scoped>\n",
       "    .dataframe tbody tr th:only-of-type {\n",
       "        vertical-align: middle;\n",
       "    }\n",
       "\n",
       "    .dataframe tbody tr th {\n",
       "        vertical-align: top;\n",
       "    }\n",
       "\n",
       "    .dataframe thead th {\n",
       "        text-align: right;\n",
       "    }\n",
       "</style>\n",
       "<table border=\"1\" class=\"dataframe\">\n",
       "  <thead>\n",
       "    <tr style=\"text-align: right;\">\n",
       "      <th></th>\n",
       "      <th>sectionID</th>\n",
       "      <th>time</th>\n",
       "      <th>current_flow</th>\n",
       "      <th>estimated_flow</th>\n",
       "    </tr>\n",
       "  </thead>\n",
       "  <tbody>\n",
       "    <tr>\n",
       "      <th>0</th>\n",
       "      <td>37</td>\n",
       "      <td>20190101000551</td>\n",
       "      <td>2</td>\n",
       "      <td>5</td>\n",
       "    </tr>\n",
       "    <tr>\n",
       "      <th>1</th>\n",
       "      <td>62</td>\n",
       "      <td>20190101000551</td>\n",
       "      <td>1</td>\n",
       "      <td>0</td>\n",
       "    </tr>\n",
       "    <tr>\n",
       "      <th>2</th>\n",
       "      <td>67</td>\n",
       "      <td>20190101000551</td>\n",
       "      <td>2</td>\n",
       "      <td>0</td>\n",
       "    </tr>\n",
       "    <tr>\n",
       "      <th>3</th>\n",
       "      <td>69</td>\n",
       "      <td>20190101000551</td>\n",
       "      <td>2</td>\n",
       "      <td>0</td>\n",
       "    </tr>\n",
       "    <tr>\n",
       "      <th>4</th>\n",
       "      <td>81</td>\n",
       "      <td>20190101000551</td>\n",
       "      <td>6</td>\n",
       "      <td>6</td>\n",
       "    </tr>\n",
       "  </tbody>\n",
       "</table>\n",
       "</div>"
      ],
      "text/plain": [
       "   sectionID            time  current_flow  estimated_flow\n",
       "0         37  20190101000551             2               5\n",
       "1         62  20190101000551             1               0\n",
       "2         67  20190101000551             2               0\n",
       "3         69  20190101000551             2               0\n",
       "4         81  20190101000551             6               6"
      ]
     },
     "execution_count": 2,
     "metadata": {},
     "output_type": "execute_result"
    }
   ],
   "source": [
    "table_name = 'Gener2019'\n",
    "\n",
    "# Query to select data from table\n",
    "# Filter if the current traffic flow data exists (value 1-6)\n",
    "query = f\"\"\"\n",
    "        select * from {table_name}\n",
    "        where current_flow <> 0\n",
    "        \"\"\"\n",
    "\n",
    "column_names = ['sectionID', 'time', 'current_flow', 'estimated_flow']\n",
    "\n",
    "jan2019 = db.db_to_df(query, column_names)\n",
    "\n",
    "print(jan2019.shape)\n",
    "jan2019.head()"
   ]
  },
  {
   "cell_type": "code",
   "execution_count": 3,
   "metadata": {},
   "outputs": [
    {
     "name": "stdout",
     "output_type": "stream",
     "text": [
      "Proportion of empty rows?: 0.0\n",
      "Proportion of duplicated rows?: 0.0\n"
     ]
    }
   ],
   "source": [
    "# Check if the data has corrupted points:\n",
    "# 1. empty rows\n",
    "# 2. duplicated data\n",
    "\n",
    "print(f'Proportion of empty rows?: {jan2019.isnull().any().mean()}')\n",
    "print(f'Proportion of duplicated rows?: {jan2019.duplicated().mean()}')"
   ]
  },
  {
   "cell_type": "code",
   "execution_count": 4,
   "metadata": {},
   "outputs": [
    {
     "name": "stdout",
     "output_type": "stream",
     "text": [
      "How many rows lacks estimated traffic flow (value=0)?: 60151\n"
     ]
    }
   ],
   "source": [
    "# How many rows lacks estimation data (value=0)?\n",
    "\n",
    "no_data = (jan2019['estimated_flow']==0)\n",
    "print(f'How many rows lacks estimated traffic flow (value=0)?: {len(jan2019[no_data])}')"
   ]
  },
  {
   "cell_type": "code",
   "execution_count": 5,
   "metadata": {},
   "outputs": [
    {
     "data": {
      "text/plain": [
       "sectionID         int64\n",
       "time              int64\n",
       "current_flow      int64\n",
       "estimated_flow    int64\n",
       "dtype: object"
      ]
     },
     "execution_count": 5,
     "metadata": {},
     "output_type": "execute_result"
    }
   ],
   "source": [
    "# Print data types\n",
    "jan2019.dtypes"
   ]
  },
  {
   "cell_type": "code",
   "execution_count": 6,
   "metadata": {},
   "outputs": [
    {
     "name": "stdout",
     "output_type": "stream",
     "text": [
      "datetime64[ns]\n"
     ]
    },
    {
     "data": {
      "text/html": [
       "<div>\n",
       "<style scoped>\n",
       "    .dataframe tbody tr th:only-of-type {\n",
       "        vertical-align: middle;\n",
       "    }\n",
       "\n",
       "    .dataframe tbody tr th {\n",
       "        vertical-align: top;\n",
       "    }\n",
       "\n",
       "    .dataframe thead th {\n",
       "        text-align: right;\n",
       "    }\n",
       "</style>\n",
       "<table border=\"1\" class=\"dataframe\">\n",
       "  <thead>\n",
       "    <tr style=\"text-align: right;\">\n",
       "      <th></th>\n",
       "      <th>sectionID</th>\n",
       "      <th>time</th>\n",
       "      <th>current_flow</th>\n",
       "      <th>estimated_flow</th>\n",
       "    </tr>\n",
       "  </thead>\n",
       "  <tbody>\n",
       "    <tr>\n",
       "      <th>0</th>\n",
       "      <td>37</td>\n",
       "      <td>2019-01-01 00:05:51</td>\n",
       "      <td>2</td>\n",
       "      <td>5</td>\n",
       "    </tr>\n",
       "    <tr>\n",
       "      <th>1</th>\n",
       "      <td>62</td>\n",
       "      <td>2019-01-01 00:05:51</td>\n",
       "      <td>1</td>\n",
       "      <td>0</td>\n",
       "    </tr>\n",
       "    <tr>\n",
       "      <th>2</th>\n",
       "      <td>67</td>\n",
       "      <td>2019-01-01 00:05:51</td>\n",
       "      <td>2</td>\n",
       "      <td>0</td>\n",
       "    </tr>\n",
       "    <tr>\n",
       "      <th>3</th>\n",
       "      <td>69</td>\n",
       "      <td>2019-01-01 00:05:51</td>\n",
       "      <td>2</td>\n",
       "      <td>0</td>\n",
       "    </tr>\n",
       "    <tr>\n",
       "      <th>4</th>\n",
       "      <td>81</td>\n",
       "      <td>2019-01-01 00:05:51</td>\n",
       "      <td>6</td>\n",
       "      <td>6</td>\n",
       "    </tr>\n",
       "  </tbody>\n",
       "</table>\n",
       "</div>"
      ],
      "text/plain": [
       "   sectionID                time  current_flow  estimated_flow\n",
       "0         37 2019-01-01 00:05:51             2               5\n",
       "1         62 2019-01-01 00:05:51             1               0\n",
       "2         67 2019-01-01 00:05:51             2               0\n",
       "3         69 2019-01-01 00:05:51             2               0\n",
       "4         81 2019-01-01 00:05:51             6               6"
      ]
     },
     "execution_count": 6,
     "metadata": {},
     "output_type": "execute_result"
    }
   ],
   "source": [
    "jan2019['time'] = pd.to_datetime(jan2019['time'].astype(str), yearfirst=True)\n",
    "\n",
    "print(jan2019['time'].dtype)\n",
    "jan2019.head()"
   ]
  },
  {
   "cell_type": "code",
   "execution_count": 7,
   "metadata": {},
   "outputs": [
    {
     "data": {
      "text/plain": [
       "403"
      ]
     },
     "execution_count": 7,
     "metadata": {},
     "output_type": "execute_result"
    }
   ],
   "source": [
    "# How many unique sectionIDs are there?\n",
    "len(jan2019['sectionID'].unique())"
   ]
  },
  {
   "cell_type": "code",
   "execution_count": null,
   "metadata": {},
   "outputs": [],
   "source": []
  },
  {
   "cell_type": "code",
   "execution_count": 9,
   "metadata": {},
   "outputs": [
    {
     "data": {
      "text/html": [
       "<div>\n",
       "<style scoped>\n",
       "    .dataframe tbody tr th:only-of-type {\n",
       "        vertical-align: middle;\n",
       "    }\n",
       "\n",
       "    .dataframe tbody tr th {\n",
       "        vertical-align: top;\n",
       "    }\n",
       "\n",
       "    .dataframe thead th {\n",
       "        text-align: right;\n",
       "    }\n",
       "</style>\n",
       "<table border=\"1\" class=\"dataframe\">\n",
       "  <thead>\n",
       "    <tr style=\"text-align: right;\">\n",
       "      <th></th>\n",
       "      <th>index</th>\n",
       "      <th>sectionID</th>\n",
       "      <th>section_components</th>\n",
       "      <th>description</th>\n",
       "      <th>longitude</th>\n",
       "      <th>latitude</th>\n",
       "      <th>geometry</th>\n",
       "    </tr>\n",
       "  </thead>\n",
       "  <tbody>\n",
       "    <tr>\n",
       "      <th>0</th>\n",
       "      <td>0</td>\n",
       "      <td>1</td>\n",
       "      <td>1</td>\n",
       "      <td>Diagonal (Ronda de Dalt a Doctor Marañón)</td>\n",
       "      <td>2.112035</td>\n",
       "      <td>41.384191</td>\n",
       "      <td>POINT (2.11204 41.38419)</td>\n",
       "    </tr>\n",
       "    <tr>\n",
       "      <th>1</th>\n",
       "      <td>1</td>\n",
       "      <td>1</td>\n",
       "      <td>2</td>\n",
       "      <td>Diagonal (Ronda de Dalt a Doctor Marañón)</td>\n",
       "      <td>2.101503</td>\n",
       "      <td>41.381631</td>\n",
       "      <td>POINT (2.10150 41.38163)</td>\n",
       "    </tr>\n",
       "    <tr>\n",
       "      <th>2</th>\n",
       "      <td>2</td>\n",
       "      <td>2</td>\n",
       "      <td>1</td>\n",
       "      <td>Diagonal (Doctor Marañón a Ronda de Dalt)</td>\n",
       "      <td>2.111944</td>\n",
       "      <td>41.384467</td>\n",
       "      <td>POINT (2.11194 41.38447)</td>\n",
       "    </tr>\n",
       "    <tr>\n",
       "      <th>3</th>\n",
       "      <td>3</td>\n",
       "      <td>2</td>\n",
       "      <td>2</td>\n",
       "      <td>Diagonal (Doctor Marañón a Ronda de Dalt)</td>\n",
       "      <td>2.101594</td>\n",
       "      <td>41.381868</td>\n",
       "      <td>POINT (2.10159 41.38187)</td>\n",
       "    </tr>\n",
       "    <tr>\n",
       "      <th>4</th>\n",
       "      <td>4</td>\n",
       "      <td>3</td>\n",
       "      <td>1</td>\n",
       "      <td>Diagonal (Doctor Marañón a Pl. Pius XII)</td>\n",
       "      <td>2.112093</td>\n",
       "      <td>41.384229</td>\n",
       "      <td>POINT (2.11209 41.38423)</td>\n",
       "    </tr>\n",
       "  </tbody>\n",
       "</table>\n",
       "</div>"
      ],
      "text/plain": [
       "   index  sectionID  section_components  \\\n",
       "0      0          1                   1   \n",
       "1      1          1                   2   \n",
       "2      2          2                   1   \n",
       "3      3          2                   2   \n",
       "4      4          3                   1   \n",
       "\n",
       "                                 description  longitude   latitude  \\\n",
       "0  Diagonal (Ronda de Dalt a Doctor Marañón)   2.112035  41.384191   \n",
       "1  Diagonal (Ronda de Dalt a Doctor Marañón)   2.101503  41.381631   \n",
       "2  Diagonal (Doctor Marañón a Ronda de Dalt)   2.111944  41.384467   \n",
       "3  Diagonal (Doctor Marañón a Ronda de Dalt)   2.101594  41.381868   \n",
       "4   Diagonal (Doctor Marañón a Pl. Pius XII)   2.112093  41.384229   \n",
       "\n",
       "                   geometry  \n",
       "0  POINT (2.11204 41.38419)  \n",
       "1  POINT (2.10150 41.38163)  \n",
       "2  POINT (2.11194 41.38447)  \n",
       "3  POINT (2.10159 41.38187)  \n",
       "4  POINT (2.11209 41.38423)  "
      ]
     },
     "execution_count": 9,
     "metadata": {},
     "output_type": "execute_result"
    }
   ],
   "source": [
    "# Load geometry file\n",
    "query = '''\n",
    "        select *, ST_SetSRID(ST_MakePoint(longitude, latitude), 4326) as geometry\n",
    "        from section_geom\n",
    "        '''\n",
    "\n",
    "geom_df = db.db_to_gdf(query, 'geometry')\n",
    "geom_df.head()"
   ]
  },
  {
   "cell_type": "code",
   "execution_count": null,
   "metadata": {},
   "outputs": [],
   "source": []
  }
 ],
 "metadata": {
  "kernelspec": {
   "display_name": "Python 3",
   "language": "python",
   "name": "python3"
  },
  "language_info": {
   "codemirror_mode": {
    "name": "ipython",
    "version": 3
   },
   "file_extension": ".py",
   "mimetype": "text/x-python",
   "name": "python",
   "nbconvert_exporter": "python",
   "pygments_lexer": "ipython3",
   "version": "3.7.6"
  }
 },
 "nbformat": 4,
 "nbformat_minor": 4
}
