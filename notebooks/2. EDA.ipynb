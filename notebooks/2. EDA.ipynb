{
 "cells": [
  {
   "cell_type": "markdown",
   "metadata": {},
   "source": [
    "# 2. Data exploration\n",
    "\n",
    "In the previous notebook, two types of data were loaded to a PostGIS database called 'bcn_traffic':\n",
    "\n",
    "1. Monthly traffic report of different street sections of Barcelona\n",
    "2. Geometries of street sections of Barcelona\n",
    "\n",
    "-------------------------\n",
    "\n",
    "**Field information:**\n",
    "\n",
    "1. Monthly traffic report\n",
    "   * sectionID: Section identification number\n",
    "\n",
    "   * time: Date & time of registration (format: YYYY-MM-DD)\n",
    "\n",
    "   * current_flow: Current traffic flow(0 = sense dades / 1 = molt fluid / 2 = fluid / 3 = dens / 4 = molt dens / 5 = congestió / 6 = tallat)\n",
    "\n",
    "   * estimated_flow: Estimated traffic flow after 15min (0 = sense dades / 1 = molt fluid / 2 = fluid / 3 = dens / 4 = molt dens / 5 = congestió / 6 = tallat)\n",
    "\n",
    "\n",
    "2. Geometries (each traffic section)\n",
    "   * Tram = idTram\n",
    "   * Tram_Components: Different points within the same section\t\n",
    "   * Descripció: Description of the \n",
    "   * Longitud: Longitude\n",
    "   * Latitud: Latitude"
   ]
  },
  {
   "cell_type": "code",
   "execution_count": 1,
   "metadata": {},
   "outputs": [
    {
     "data": {
      "text/plain": [
       "<Figure size 432x288 with 0 Axes>"
      ]
     },
     "metadata": {},
     "output_type": "display_data"
    }
   ],
   "source": [
    "# Import libraries\n",
    "import db # db.py\n",
    "import numpy as np\n",
    "import pandas as pd\n",
    "import geopandas as gpd\n",
    "import contextily as ctx\n",
    "import matplotlib.pyplot as plt\n",
    "import seaborn as sns\n",
    "sns.set_palette('Set2')\n",
    "sns.despine()\n",
    "sns.set_context(rc={'axes.labelsize':18,\n",
    "                    'axes.titlesize':18,\n",
    "                    'font.size':15,\n",
    "                    'legend.fontsize':15,\n",
    "                    'lines.linewidth':2.2})"
   ]
  },
  {
   "cell_type": "code",
   "execution_count": 2,
   "metadata": {},
   "outputs": [
    {
     "data": {
      "text/plain": [
       "[('spatial_ref_sys',),\n",
       " ('gener2019',),\n",
       " ('febrer2019',),\n",
       " ('marc2019',),\n",
       " ('abril2019',),\n",
       " ('maig2019',),\n",
       " ('juny2019',),\n",
       " ('juliol2019',),\n",
       " ('agost2019',),\n",
       " ('setembre2019',),\n",
       " ('octubre2019',),\n",
       " ('novembre2019',),\n",
       " ('desembre2019',),\n",
       " ('gener2020',),\n",
       " ('febrer2020',),\n",
       " ('marc2020',),\n",
       " ('abril2020',),\n",
       " ('maig2020',),\n",
       " ('juny2020',),\n",
       " ('juliol2020',),\n",
       " ('agost2020',),\n",
       " ('setembre2020',),\n",
       " ('octubre2020',),\n",
       " ('section_geom',)]"
      ]
     },
     "execution_count": 2,
     "metadata": {},
     "output_type": "execute_result"
    }
   ],
   "source": [
    "# Get all names of tables exist in our database\n",
    "table_names = db.get_table_names()\n",
    "table_names"
   ]
  },
  {
   "cell_type": "code",
   "execution_count": 3,
   "metadata": {},
   "outputs": [
    {
     "data": {
      "text/plain": [
       "['gener2019',\n",
       " 'febrer2019',\n",
       " 'marc2019',\n",
       " 'abril2019',\n",
       " 'maig2019',\n",
       " 'juny2019',\n",
       " 'juliol2019',\n",
       " 'agost2019',\n",
       " 'setembre2019',\n",
       " 'octubre2019',\n",
       " 'novembre2019',\n",
       " 'desembre2019',\n",
       " 'gener2020',\n",
       " 'febrer2020',\n",
       " 'marc2020',\n",
       " 'abril2020',\n",
       " 'maig2020',\n",
       " 'juny2020',\n",
       " 'juliol2020',\n",
       " 'agost2020',\n",
       " 'setembre2020',\n",
       " 'octubre2020']"
      ]
     },
     "execution_count": 3,
     "metadata": {},
     "output_type": "execute_result"
    }
   ],
   "source": [
    "# Select tables containing monthly traffic flow info\n",
    "monthly_tables = [','.join(name) for name in table_names][1:-1]\n",
    "monthly_tables"
   ]
  },
  {
   "cell_type": "code",
   "execution_count": 14,
   "metadata": {},
   "outputs": [],
   "source": [
    "# Let's compare September's traffic in 2019 and 2020]\n",
    "\n",
    "# Names of tables containing data from month of september\n",
    "septembers = ['setembre2019', 'setembre2020']\n",
    "\n",
    "# New dataframe names\n",
    "df_sep = pd.DataFrame()\n",
    "\n",
    "df_septembers = ['sep2019', 'sep2020']"
   ]
  },
  {
   "cell_type": "code",
   "execution_count": 15,
   "metadata": {},
   "outputs": [
    {
     "name": "stdout",
     "output_type": "stream",
     "text": [
      "(4993502, 4)\n"
     ]
    },
    {
     "data": {
      "text/html": [
       "<div>\n",
       "<style scoped>\n",
       "    .dataframe tbody tr th:only-of-type {\n",
       "        vertical-align: middle;\n",
       "    }\n",
       "\n",
       "    .dataframe tbody tr th {\n",
       "        vertical-align: top;\n",
       "    }\n",
       "\n",
       "    .dataframe thead th {\n",
       "        text-align: right;\n",
       "    }\n",
       "</style>\n",
       "<table border=\"1\" class=\"dataframe\">\n",
       "  <thead>\n",
       "    <tr style=\"text-align: right;\">\n",
       "      <th></th>\n",
       "      <th>sectionID</th>\n",
       "      <th>time</th>\n",
       "      <th>current_flow</th>\n",
       "      <th>estimated_flow</th>\n",
       "    </tr>\n",
       "  </thead>\n",
       "  <tbody>\n",
       "    <tr>\n",
       "      <th>0</th>\n",
       "      <td>1</td>\n",
       "      <td>20190901000054</td>\n",
       "      <td>1</td>\n",
       "      <td>0</td>\n",
       "    </tr>\n",
       "    <tr>\n",
       "      <th>1</th>\n",
       "      <td>3</td>\n",
       "      <td>20190901000054</td>\n",
       "      <td>1</td>\n",
       "      <td>0</td>\n",
       "    </tr>\n",
       "    <tr>\n",
       "      <th>2</th>\n",
       "      <td>4</td>\n",
       "      <td>20190901000054</td>\n",
       "      <td>2</td>\n",
       "      <td>0</td>\n",
       "    </tr>\n",
       "    <tr>\n",
       "      <th>3</th>\n",
       "      <td>5</td>\n",
       "      <td>20190901000054</td>\n",
       "      <td>1</td>\n",
       "      <td>0</td>\n",
       "    </tr>\n",
       "    <tr>\n",
       "      <th>4</th>\n",
       "      <td>6</td>\n",
       "      <td>20190901000054</td>\n",
       "      <td>1</td>\n",
       "      <td>0</td>\n",
       "    </tr>\n",
       "  </tbody>\n",
       "</table>\n",
       "</div>"
      ],
      "text/plain": [
       "   sectionID            time  current_flow  estimated_flow\n",
       "0          1  20190901000054             1               0\n",
       "1          3  20190901000054             1               0\n",
       "2          4  20190901000054             2               0\n",
       "3          5  20190901000054             1               0\n",
       "4          6  20190901000054             1               0"
      ]
     },
     "execution_count": 15,
     "metadata": {},
     "output_type": "execute_result"
    }
   ],
   "source": [
    "# Query to select data from tables\n",
    "# Filter if the current traffic flow data exists (value 1-6)\n",
    "    \n",
    "for i in range(2):\n",
    "    query = f\"\"\"\n",
    "            select * from {septembers[i]}\n",
    "            where current_flow <> 0\n",
    "            \"\"\"\n",
    "    # Predifine column names\n",
    "    column_names = ['sectionID', 'time', 'current_flow', 'estimated_flow']\n",
    "\n",
    "    # Create dataframe\n",
    "    result = db.db_to_df(query, column_names)\n",
    "    df_sep = df_sep.append(result)\n",
    "\n",
    "print(df_sep.shape)\n",
    "df_sep.head()"
   ]
  },
  {
   "cell_type": "code",
   "execution_count": 27,
   "metadata": {},
   "outputs": [
    {
     "name": "stdout",
     "output_type": "stream",
     "text": [
      "Proportion of empty rows?: 0.0\n",
      "Proportion of duplicated rows?: 0.950547531572031\n"
     ]
    }
   ],
   "source": [
    "# Check if the data has corrupted points:\n",
    "# 1. empty rows\n",
    "# 2. duplicated data\n",
    "print(f'Proportion of empty rows?: {df_sep.isnull().any().mean()}')\n",
    "print(f'Proportion of duplicated rows?: {df_sep.duplicated().mean()}')"
   ]
  },
  {
   "cell_type": "code",
   "execution_count": 18,
   "metadata": {},
   "outputs": [
    {
     "name": "stdout",
     "output_type": "stream",
     "text": [
      "How many rows lacks estimated traffic flow (value=0)?: 431653\n"
     ]
    }
   ],
   "source": [
    "# How many rows lacks estimation data (value=0)?\n",
    "\n",
    "no_data = (df_sep['estimated_flow']==0)\n",
    "print(f'How many rows lacks estimated traffic flow (value=0)?: {len(df_sep[no_data])}')"
   ]
  },
  {
   "cell_type": "code",
   "execution_count": 19,
   "metadata": {},
   "outputs": [
    {
     "data": {
      "text/plain": [
       "sectionID         int64\n",
       "time              int64\n",
       "current_flow      int64\n",
       "estimated_flow    int64\n",
       "dtype: object"
      ]
     },
     "execution_count": 19,
     "metadata": {},
     "output_type": "execute_result"
    }
   ],
   "source": [
    "# Print data types\n",
    "df_sep.dtypes"
   ]
  },
  {
   "cell_type": "code",
   "execution_count": 20,
   "metadata": {},
   "outputs": [
    {
     "name": "stdout",
     "output_type": "stream",
     "text": [
      "datetime64[ns]\n"
     ]
    },
    {
     "data": {
      "text/html": [
       "<div>\n",
       "<style scoped>\n",
       "    .dataframe tbody tr th:only-of-type {\n",
       "        vertical-align: middle;\n",
       "    }\n",
       "\n",
       "    .dataframe tbody tr th {\n",
       "        vertical-align: top;\n",
       "    }\n",
       "\n",
       "    .dataframe thead th {\n",
       "        text-align: right;\n",
       "    }\n",
       "</style>\n",
       "<table border=\"1\" class=\"dataframe\">\n",
       "  <thead>\n",
       "    <tr style=\"text-align: right;\">\n",
       "      <th></th>\n",
       "      <th>sectionID</th>\n",
       "      <th>time</th>\n",
       "      <th>current_flow</th>\n",
       "      <th>estimated_flow</th>\n",
       "    </tr>\n",
       "  </thead>\n",
       "  <tbody>\n",
       "    <tr>\n",
       "      <th>0</th>\n",
       "      <td>1</td>\n",
       "      <td>2019-09-01 00:00:54</td>\n",
       "      <td>1</td>\n",
       "      <td>0</td>\n",
       "    </tr>\n",
       "    <tr>\n",
       "      <th>1</th>\n",
       "      <td>3</td>\n",
       "      <td>2019-09-01 00:00:54</td>\n",
       "      <td>1</td>\n",
       "      <td>0</td>\n",
       "    </tr>\n",
       "    <tr>\n",
       "      <th>2</th>\n",
       "      <td>4</td>\n",
       "      <td>2019-09-01 00:00:54</td>\n",
       "      <td>2</td>\n",
       "      <td>0</td>\n",
       "    </tr>\n",
       "    <tr>\n",
       "      <th>3</th>\n",
       "      <td>5</td>\n",
       "      <td>2019-09-01 00:00:54</td>\n",
       "      <td>1</td>\n",
       "      <td>0</td>\n",
       "    </tr>\n",
       "    <tr>\n",
       "      <th>4</th>\n",
       "      <td>6</td>\n",
       "      <td>2019-09-01 00:00:54</td>\n",
       "      <td>1</td>\n",
       "      <td>0</td>\n",
       "    </tr>\n",
       "  </tbody>\n",
       "</table>\n",
       "</div>"
      ],
      "text/plain": [
       "   sectionID                time  current_flow  estimated_flow\n",
       "0          1 2019-09-01 00:00:54             1               0\n",
       "1          3 2019-09-01 00:00:54             1               0\n",
       "2          4 2019-09-01 00:00:54             2               0\n",
       "3          5 2019-09-01 00:00:54             1               0\n",
       "4          6 2019-09-01 00:00:54             1               0"
      ]
     },
     "execution_count": 20,
     "metadata": {},
     "output_type": "execute_result"
    }
   ],
   "source": [
    "df_sep['time'] = pd.to_datetime(df_sep['time'].astype(str), yearfirst=True)\n",
    "\n",
    "print(df_sep['time'].dtype)\n",
    "df_sep.head()"
   ]
  },
  {
   "cell_type": "code",
   "execution_count": 21,
   "metadata": {},
   "outputs": [
    {
     "data": {
      "text/plain": [
       "442"
      ]
     },
     "execution_count": 21,
     "metadata": {},
     "output_type": "execute_result"
    }
   ],
   "source": [
    "# How many unique sectionIDs are there?\n",
    "len(df_sep['sectionID'].unique())"
   ]
  },
  {
   "cell_type": "code",
   "execution_count": null,
   "metadata": {},
   "outputs": [],
   "source": []
  },
  {
   "cell_type": "code",
   "execution_count": null,
   "metadata": {},
   "outputs": [],
   "source": [
    "# Load geometry file\n",
    "query = '''\n",
    "        select *, ST_SetSRID(ST_MakePoint(longitude, latitude), 4326) as geometry\n",
    "        from section_geom\n",
    "        '''\n",
    "\n",
    "geom_df = db.db_to_gdf(query, 'geometry')\n",
    "geom_df.head()"
   ]
  },
  {
   "cell_type": "code",
   "execution_count": null,
   "metadata": {},
   "outputs": [],
   "source": []
  }
 ],
 "metadata": {
  "kernelspec": {
   "display_name": "Python 3",
   "language": "python",
   "name": "python3"
  },
  "language_info": {
   "codemirror_mode": {
    "name": "ipython",
    "version": 3
   },
   "file_extension": ".py",
   "mimetype": "text/x-python",
   "name": "python",
   "nbconvert_exporter": "python",
   "pygments_lexer": "ipython3",
   "version": "3.7.6"
  }
 },
 "nbformat": 4,
 "nbformat_minor": 4
}
