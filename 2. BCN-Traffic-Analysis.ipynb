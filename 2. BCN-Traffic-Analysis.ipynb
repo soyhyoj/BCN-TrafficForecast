{
 "cells": [
  {
   "cell_type": "markdown",
   "metadata": {},
   "source": [
    "### Technical challenge (05-Sep-2020)\n",
    "\n",
    "Data available at [Open Data BCN](https://opendata-ajuntament.barcelona.cat/data/en/dataset/transit-relacio-trams)"
   ]
  },
  {
   "cell_type": "code",
   "execution_count": 1,
   "metadata": {},
   "outputs": [
    {
     "data": {
      "text/plain": [
       "<Figure size 432x288 with 0 Axes>"
      ]
     },
     "metadata": {},
     "output_type": "display_data"
    }
   ],
   "source": [
    "# Import libraries\n",
    "import pandas as pd\n",
    "import numpy as np\n",
    "import matplotlib.pyplot as plt\n",
    "import seaborn as sns\n",
    "import glob\n",
    "import datetime as dt\n",
    "from scipy import stats\n",
    "sns.set_style(\"darkgrid\")\n",
    "sns.despine()\n",
    "sns.set_context(rc={'axes.labelsize':18,\n",
    "                    'axes.titlesize':18,\n",
    "                    'font.size':15,\n",
    "                    'legend.fontsize':15,\n",
    "                    'lines.linewidth':2.2})"
   ]
  },
  {
   "cell_type": "markdown",
   "metadata": {},
   "source": [
    "### Field information:\n",
    "\n",
    "* idTram: Section identification number (more infomrmation in [Relació de trams de la via pública de la ciutat de Barcelona](https://opendata-ajuntament.barcelona.cat/data/en/dataset/transit-relacio-trams))\n",
    "\n",
    "* data: Date of registration (format: YYYY-MM-DD)\n",
    "\n",
    "* estatActual: Current traffic status\n",
    "(0 = sense dades / 1 = molt fluid / 2 = fluid / 3 = dens / 4 = molt dens / 5 = congestió / 6 = tallat) \n",
    "\n",
    "* estatPrevist: Expected traffic status after 15min\n",
    "(0 = sense dades / 1 = molt fluid / 2 = fluid / 3 = dens / 4 = molt dens / 5 = congestió / 6 = tallat) "
   ]
  },
  {
   "cell_type": "code",
   "execution_count": 2,
   "metadata": {
    "tags": []
   },
   "outputs": [
    {
     "name": "stdout",
     "output_type": "stream",
     "text": [
      "(4639708, 4)\n"
     ]
    },
    {
     "data": {
      "text/html": [
       "<div>\n",
       "<style scoped>\n",
       "    .dataframe tbody tr th:only-of-type {\n",
       "        vertical-align: middle;\n",
       "    }\n",
       "\n",
       "    .dataframe tbody tr th {\n",
       "        vertical-align: top;\n",
       "    }\n",
       "\n",
       "    .dataframe thead th {\n",
       "        text-align: right;\n",
       "    }\n",
       "</style>\n",
       "<table border=\"1\" class=\"dataframe\">\n",
       "  <thead>\n",
       "    <tr style=\"text-align: right;\">\n",
       "      <th></th>\n",
       "      <th>idTram</th>\n",
       "      <th>data</th>\n",
       "      <th>estatActual</th>\n",
       "      <th>estatPrevist</th>\n",
       "    </tr>\n",
       "  </thead>\n",
       "  <tbody>\n",
       "    <tr>\n",
       "      <th>0</th>\n",
       "      <td>1</td>\n",
       "      <td>20200101000051</td>\n",
       "      <td>0</td>\n",
       "      <td>0</td>\n",
       "    </tr>\n",
       "    <tr>\n",
       "      <th>1</th>\n",
       "      <td>2</td>\n",
       "      <td>20200101000051</td>\n",
       "      <td>0</td>\n",
       "      <td>0</td>\n",
       "    </tr>\n",
       "    <tr>\n",
       "      <th>2</th>\n",
       "      <td>3</td>\n",
       "      <td>20200101000051</td>\n",
       "      <td>0</td>\n",
       "      <td>0</td>\n",
       "    </tr>\n",
       "    <tr>\n",
       "      <th>3</th>\n",
       "      <td>4</td>\n",
       "      <td>20200101000051</td>\n",
       "      <td>0</td>\n",
       "      <td>0</td>\n",
       "    </tr>\n",
       "    <tr>\n",
       "      <th>4</th>\n",
       "      <td>5</td>\n",
       "      <td>20200101000051</td>\n",
       "      <td>0</td>\n",
       "      <td>0</td>\n",
       "    </tr>\n",
       "  </tbody>\n",
       "</table>\n",
       "</div>"
      ],
      "text/plain": [
       "   idTram            data  estatActual  estatPrevist\n",
       "0       1  20200101000051            0             0\n",
       "1       2  20200101000051            0             0\n",
       "2       3  20200101000051            0             0\n",
       "3       4  20200101000051            0             0\n",
       "4       5  20200101000051            0             0"
      ]
     },
     "execution_count": 2,
     "metadata": {},
     "output_type": "execute_result"
    }
   ],
   "source": [
    "# There are 8 csv files from this year (Jan-Aug 2020).\n",
    "# Load one of the files (2020-Jan) to check the contents.\n",
    "\n",
    "tram_jan = pd.read_csv('./data/2020_01_Gener_TRAMS_TRAMS.csv')\n",
    "print(tram_jan.shape)\n",
    "tram_jan.head()"
   ]
  },
  {
   "cell_type": "code",
   "execution_count": 3,
   "metadata": {},
   "outputs": [
    {
     "data": {
      "text/plain": [
       "idTram          int64\n",
       "data            int64\n",
       "estatActual     int64\n",
       "estatPrevist    int64\n",
       "dtype: object"
      ]
     },
     "execution_count": 3,
     "metadata": {},
     "output_type": "execute_result"
    }
   ],
   "source": [
    "# Print data types\n",
    "# Why: to check 'data' colmn is accessible by datetime module\n",
    "\n",
    "tram_jan.dtypes"
   ]
  },
  {
   "cell_type": "code",
   "execution_count": 4,
   "metadata": {
    "tags": []
   },
   "outputs": [
    {
     "name": "stdout",
     "output_type": "stream",
     "text": [
      "Proportion of empty rows?: 0.0\n",
      "Proportion of duplicated rows?: 0.0\n"
     ]
    }
   ],
   "source": [
    "# Check if the data has corrupted points:\n",
    "# 1. empty rows\n",
    "# 2. duplicated data\n",
    "\n",
    "print(f'Proportion of empty rows?: {tram_jan.isnull().any().mean()}')\n",
    "print(f'Proportion of duplicated rows?: {tram_jan.duplicated().mean()}')"
   ]
  },
  {
   "cell_type": "code",
   "execution_count": 5,
   "metadata": {
    "tags": []
   },
   "outputs": [
    {
     "name": "stdout",
     "output_type": "stream",
     "text": [
      "How many rows lacks data (value=0)?: 2257239\n"
     ]
    }
   ],
   "source": [
    "# Actually, null values in this dataset is presented with value '0'\n",
    "# How many rows lacks data (value=0)?\n",
    "\n",
    "no_data = (tram_jan['estatActual']==0) | (tram_jan['estatPrevist']==0)\n",
    "print(f'How many rows lacks data (value=0)?: {len(tram_jan[no_data])}')"
   ]
  },
  {
   "cell_type": "code",
   "execution_count": 6,
   "metadata": {
    "tags": []
   },
   "outputs": [
    {
     "name": "stdout",
     "output_type": "stream",
     "text": [
      "(2382469, 4)\n"
     ]
    },
    {
     "data": {
      "text/html": [
       "<div>\n",
       "<style scoped>\n",
       "    .dataframe tbody tr th:only-of-type {\n",
       "        vertical-align: middle;\n",
       "    }\n",
       "\n",
       "    .dataframe tbody tr th {\n",
       "        vertical-align: top;\n",
       "    }\n",
       "\n",
       "    .dataframe thead th {\n",
       "        text-align: right;\n",
       "    }\n",
       "</style>\n",
       "<table border=\"1\" class=\"dataframe\">\n",
       "  <thead>\n",
       "    <tr style=\"text-align: right;\">\n",
       "      <th></th>\n",
       "      <th>idTram</th>\n",
       "      <th>data</th>\n",
       "      <th>estatActual</th>\n",
       "      <th>estatPrevist</th>\n",
       "    </tr>\n",
       "  </thead>\n",
       "  <tbody>\n",
       "    <tr>\n",
       "      <th>96</th>\n",
       "      <td>97</td>\n",
       "      <td>20200101000051</td>\n",
       "      <td>1</td>\n",
       "      <td>5</td>\n",
       "    </tr>\n",
       "    <tr>\n",
       "      <th>142</th>\n",
       "      <td>143</td>\n",
       "      <td>20200101000051</td>\n",
       "      <td>1</td>\n",
       "      <td>5</td>\n",
       "    </tr>\n",
       "    <tr>\n",
       "      <th>156</th>\n",
       "      <td>157</td>\n",
       "      <td>20200101000051</td>\n",
       "      <td>1</td>\n",
       "      <td>5</td>\n",
       "    </tr>\n",
       "    <tr>\n",
       "      <th>187</th>\n",
       "      <td>188</td>\n",
       "      <td>20200101000051</td>\n",
       "      <td>1</td>\n",
       "      <td>5</td>\n",
       "    </tr>\n",
       "    <tr>\n",
       "      <th>273</th>\n",
       "      <td>274</td>\n",
       "      <td>20200101000051</td>\n",
       "      <td>3</td>\n",
       "      <td>5</td>\n",
       "    </tr>\n",
       "  </tbody>\n",
       "</table>\n",
       "</div>"
      ],
      "text/plain": [
       "     idTram            data  estatActual  estatPrevist\n",
       "96       97  20200101000051            1             5\n",
       "142     143  20200101000051            1             5\n",
       "156     157  20200101000051            1             5\n",
       "187     188  20200101000051            1             5\n",
       "273     274  20200101000051            3             5"
      ]
     },
     "execution_count": 6,
     "metadata": {},
     "output_type": "execute_result"
    }
   ],
   "source": [
    "# Let's remove these raws without data:\n",
    "\n",
    "tram_jan_clean = tram_jan[~no_data]\n",
    "print(tram_jan_clean.shape)\n",
    "tram_jan_clean.head()"
   ]
  },
  {
   "cell_type": "markdown",
   "metadata": {},
   "source": [
    "### Note:\n",
    "* All fields contain numeric values\n",
    "* 'data' column should be converted to datetime type\n",
    "* No duplicated records\n",
    "* Missing values were removed"
   ]
  },
  {
   "cell_type": "code",
   "execution_count": 7,
   "metadata": {
    "tags": []
   },
   "outputs": [
    {
     "name": "stdout",
     "output_type": "stream",
     "text": [
      "(59, 4)\n",
      "(118, 3)\n",
      "(118, 3)\n",
      "(118, 3)\n"
     ]
    }
   ],
   "source": [
    "# Let's narrow our focus down to the Av. Diagonal of the city.\n",
    "# These four attribute files were created by using QGIS software(QuickOSM plugin).\n",
    "\n",
    "diagonal = pd.read_csv('./data/Diagonal.csv')\n",
    "busstop = pd.read_csv('./data/nearest_busstop_distance.csv')\n",
    "speedcamera = pd.read_csv('./data/nearest_speed_camera_distance.csv')\n",
    "trafficsignal = pd.read_csv('./data/nearest-traffic_signals_distance.csv')\n",
    "\n",
    "print(diagonal.shape) # If the section crosses with either primary or secondary streets\n",
    "print(busstop.shape) # Distance to the nearest bus stop\n",
    "print(speedcamera.shape) # Distance to the nearest speed camera\n",
    "print(trafficsignal.shape) #  # Distance to the nearest traffic signal"
   ]
  },
  {
   "cell_type": "code",
   "execution_count": 8,
   "metadata": {
    "tags": []
   },
   "outputs": [
    {
     "name": "stdout",
     "output_type": "stream",
     "text": [
      "Index(['Tram', 'Description', 'Primary', 'Secondary'], dtype='object')\n",
      "Index(['Tram', 'BusstopID', 'Distance_busstop'], dtype='object')\n",
      "Index(['Tram', 'MaxSpeed', 'Distance_camera'], dtype='object')\n",
      "Index(['Tram', 'TrafficSignalID', 'Distance_trafficsignal'], dtype='object')\n"
     ]
    }
   ],
   "source": [
    "print(diagonal.columns)\n",
    "print(busstop.columns)\n",
    "print(speedcamera.columns)\n",
    "print(trafficsignal.columns)"
   ]
  },
  {
   "cell_type": "code",
   "execution_count": 9,
   "metadata": {
    "tags": []
   },
   "outputs": [
    {
     "name": "stdout",
     "output_type": "stream",
     "text": [
      "(118, 6)\n",
      "(236, 8)\n",
      "(472, 10)\n"
     ]
    },
    {
     "data": {
      "text/html": [
       "<div>\n",
       "<style scoped>\n",
       "    .dataframe tbody tr th:only-of-type {\n",
       "        vertical-align: middle;\n",
       "    }\n",
       "\n",
       "    .dataframe tbody tr th {\n",
       "        vertical-align: top;\n",
       "    }\n",
       "\n",
       "    .dataframe thead th {\n",
       "        text-align: right;\n",
       "    }\n",
       "</style>\n",
       "<table border=\"1\" class=\"dataframe\">\n",
       "  <thead>\n",
       "    <tr style=\"text-align: right;\">\n",
       "      <th></th>\n",
       "      <th>Tram</th>\n",
       "      <th>Description</th>\n",
       "      <th>Primary</th>\n",
       "      <th>Secondary</th>\n",
       "      <th>BusstopID</th>\n",
       "      <th>Distance_busstop</th>\n",
       "      <th>MaxSpeed</th>\n",
       "      <th>Distance_camera</th>\n",
       "      <th>TrafficSignalID</th>\n",
       "      <th>Distance_trafficsignal</th>\n",
       "    </tr>\n",
       "  </thead>\n",
       "  <tbody>\n",
       "    <tr>\n",
       "      <th>0</th>\n",
       "      <td>1</td>\n",
       "      <td>Diagonal (Ronda de Dalt a Doctor Marañón)</td>\n",
       "      <td>1.0</td>\n",
       "      <td>NaN</td>\n",
       "      <td>n5341631254</td>\n",
       "      <td>0.001115</td>\n",
       "      <td>80.0</td>\n",
       "      <td>0.006813</td>\n",
       "      <td>n1311619485</td>\n",
       "      <td>0.000266</td>\n",
       "    </tr>\n",
       "    <tr>\n",
       "      <th>1</th>\n",
       "      <td>1</td>\n",
       "      <td>Diagonal (Ronda de Dalt a Doctor Marañón)</td>\n",
       "      <td>1.0</td>\n",
       "      <td>NaN</td>\n",
       "      <td>n5341631254</td>\n",
       "      <td>0.001115</td>\n",
       "      <td>80.0</td>\n",
       "      <td>0.006813</td>\n",
       "      <td>n6181436151</td>\n",
       "      <td>0.000206</td>\n",
       "    </tr>\n",
       "    <tr>\n",
       "      <th>2</th>\n",
       "      <td>1</td>\n",
       "      <td>Diagonal (Ronda de Dalt a Doctor Marañón)</td>\n",
       "      <td>1.0</td>\n",
       "      <td>NaN</td>\n",
       "      <td>n5341631254</td>\n",
       "      <td>0.001115</td>\n",
       "      <td>50.0</td>\n",
       "      <td>0.002113</td>\n",
       "      <td>n1311619485</td>\n",
       "      <td>0.000266</td>\n",
       "    </tr>\n",
       "    <tr>\n",
       "      <th>3</th>\n",
       "      <td>1</td>\n",
       "      <td>Diagonal (Ronda de Dalt a Doctor Marañón)</td>\n",
       "      <td>1.0</td>\n",
       "      <td>NaN</td>\n",
       "      <td>n5341631254</td>\n",
       "      <td>0.001115</td>\n",
       "      <td>50.0</td>\n",
       "      <td>0.002113</td>\n",
       "      <td>n6181436151</td>\n",
       "      <td>0.000206</td>\n",
       "    </tr>\n",
       "    <tr>\n",
       "      <th>4</th>\n",
       "      <td>1</td>\n",
       "      <td>Diagonal (Ronda de Dalt a Doctor Marañón)</td>\n",
       "      <td>1.0</td>\n",
       "      <td>NaN</td>\n",
       "      <td>n5465386667</td>\n",
       "      <td>0.000540</td>\n",
       "      <td>80.0</td>\n",
       "      <td>0.006813</td>\n",
       "      <td>n1311619485</td>\n",
       "      <td>0.000266</td>\n",
       "    </tr>\n",
       "  </tbody>\n",
       "</table>\n",
       "</div>"
      ],
      "text/plain": [
       "   Tram                                Description  Primary  Secondary  \\\n",
       "0     1  Diagonal (Ronda de Dalt a Doctor Marañón)      1.0        NaN   \n",
       "1     1  Diagonal (Ronda de Dalt a Doctor Marañón)      1.0        NaN   \n",
       "2     1  Diagonal (Ronda de Dalt a Doctor Marañón)      1.0        NaN   \n",
       "3     1  Diagonal (Ronda de Dalt a Doctor Marañón)      1.0        NaN   \n",
       "4     1  Diagonal (Ronda de Dalt a Doctor Marañón)      1.0        NaN   \n",
       "\n",
       "     BusstopID  Distance_busstop  MaxSpeed  Distance_camera TrafficSignalID  \\\n",
       "0  n5341631254          0.001115      80.0         0.006813     n1311619485   \n",
       "1  n5341631254          0.001115      80.0         0.006813     n6181436151   \n",
       "2  n5341631254          0.001115      50.0         0.002113     n1311619485   \n",
       "3  n5341631254          0.001115      50.0         0.002113     n6181436151   \n",
       "4  n5465386667          0.000540      80.0         0.006813     n1311619485   \n",
       "\n",
       "   Distance_trafficsignal  \n",
       "0                0.000266  \n",
       "1                0.000206  \n",
       "2                0.000266  \n",
       "3                0.000206  \n",
       "4                0.000266  "
      ]
     },
     "execution_count": 9,
     "metadata": {},
     "output_type": "execute_result"
    }
   ],
   "source": [
    "# Inner join of all 4 attributes(dataframes) on 'Tram' column\n",
    "\n",
    "diagonal_merged = diagonal.merge(busstop, how='left', on='Tram', copy=False)\n",
    "print(diagonal_merged.shape)\n",
    "\n",
    "diagonal_merged = diagonal_merged.merge(speedcamera, how='left', on='Tram', copy=False)\n",
    "print(diagonal_merged.shape)\n",
    "\n",
    "diagonal_merged = diagonal_merged.merge(trafficsignal, how='left', on='Tram', copy=False)\n",
    "print(diagonal_merged.shape)\n",
    "\n",
    "diagonal_merged.head()"
   ]
  },
  {
   "cell_type": "code",
   "execution_count": 10,
   "metadata": {
    "tags": []
   },
   "outputs": [
    {
     "name": "stdout",
     "output_type": "stream",
     "text": [
      "(59, 10)\n"
     ]
    },
    {
     "data": {
      "text/html": [
       "<div>\n",
       "<style scoped>\n",
       "    .dataframe tbody tr th:only-of-type {\n",
       "        vertical-align: middle;\n",
       "    }\n",
       "\n",
       "    .dataframe tbody tr th {\n",
       "        vertical-align: top;\n",
       "    }\n",
       "\n",
       "    .dataframe thead th {\n",
       "        text-align: right;\n",
       "    }\n",
       "</style>\n",
       "<table border=\"1\" class=\"dataframe\">\n",
       "  <thead>\n",
       "    <tr style=\"text-align: right;\">\n",
       "      <th></th>\n",
       "      <th>Tram</th>\n",
       "      <th>Description</th>\n",
       "      <th>Primary</th>\n",
       "      <th>Secondary</th>\n",
       "      <th>BusstopID</th>\n",
       "      <th>Distance_busstop</th>\n",
       "      <th>MaxSpeed</th>\n",
       "      <th>Distance_camera</th>\n",
       "      <th>TrafficSignalID</th>\n",
       "      <th>Distance_trafficsignal</th>\n",
       "    </tr>\n",
       "  </thead>\n",
       "  <tbody>\n",
       "    <tr>\n",
       "      <th>0</th>\n",
       "      <td>1</td>\n",
       "      <td>Diagonal (Ronda de Dalt a Doctor Marañón)</td>\n",
       "      <td>1.0</td>\n",
       "      <td>NaN</td>\n",
       "      <td>n5341631254</td>\n",
       "      <td>0.001115</td>\n",
       "      <td>80.0</td>\n",
       "      <td>0.006813</td>\n",
       "      <td>n1311619485</td>\n",
       "      <td>0.000266</td>\n",
       "    </tr>\n",
       "    <tr>\n",
       "      <th>8</th>\n",
       "      <td>2</td>\n",
       "      <td>Diagonal (Doctor Marañón a Ronda de Dalt)</td>\n",
       "      <td>1.0</td>\n",
       "      <td>NaN</td>\n",
       "      <td>n5341631254</td>\n",
       "      <td>0.000937</td>\n",
       "      <td>80.0</td>\n",
       "      <td>0.006554</td>\n",
       "      <td>n687897110</td>\n",
       "      <td>0.000176</td>\n",
       "    </tr>\n",
       "    <tr>\n",
       "      <th>16</th>\n",
       "      <td>3</td>\n",
       "      <td>Diagonal (Doctor Marañón a Pl. Pius XII)</td>\n",
       "      <td>1.0</td>\n",
       "      <td>NaN</td>\n",
       "      <td>n5341631254</td>\n",
       "      <td>0.001152</td>\n",
       "      <td>80.0</td>\n",
       "      <td>0.006827</td>\n",
       "      <td>n687897110</td>\n",
       "      <td>0.000234</td>\n",
       "    </tr>\n",
       "    <tr>\n",
       "      <th>24</th>\n",
       "      <td>4</td>\n",
       "      <td>Diagonal (Pl. Pius XII a Doctor Marañón)</td>\n",
       "      <td>1.0</td>\n",
       "      <td>NaN</td>\n",
       "      <td>n1478113760</td>\n",
       "      <td>0.000090</td>\n",
       "      <td>60.0</td>\n",
       "      <td>0.003019</td>\n",
       "      <td>n30314626</td>\n",
       "      <td>0.003206</td>\n",
       "    </tr>\n",
       "    <tr>\n",
       "      <th>32</th>\n",
       "      <td>5</td>\n",
       "      <td>Diagonal (Pl. Pius XII a Pl. Maria Cristina)</td>\n",
       "      <td>1.0</td>\n",
       "      <td>NaN</td>\n",
       "      <td>n1478113760</td>\n",
       "      <td>0.000215</td>\n",
       "      <td>60.0</td>\n",
       "      <td>0.002824</td>\n",
       "      <td>n30314626</td>\n",
       "      <td>0.003008</td>\n",
       "    </tr>\n",
       "  </tbody>\n",
       "</table>\n",
       "</div>"
      ],
      "text/plain": [
       "    Tram                                   Description  Primary  Secondary  \\\n",
       "0      1     Diagonal (Ronda de Dalt a Doctor Marañón)      1.0        NaN   \n",
       "8      2     Diagonal (Doctor Marañón a Ronda de Dalt)      1.0        NaN   \n",
       "16     3      Diagonal (Doctor Marañón a Pl. Pius XII)      1.0        NaN   \n",
       "24     4      Diagonal (Pl. Pius XII a Doctor Marañón)      1.0        NaN   \n",
       "32     5  Diagonal (Pl. Pius XII a Pl. Maria Cristina)      1.0        NaN   \n",
       "\n",
       "      BusstopID  Distance_busstop  MaxSpeed  Distance_camera TrafficSignalID  \\\n",
       "0   n5341631254          0.001115      80.0         0.006813     n1311619485   \n",
       "8   n5341631254          0.000937      80.0         0.006554      n687897110   \n",
       "16  n5341631254          0.001152      80.0         0.006827      n687897110   \n",
       "24  n1478113760          0.000090      60.0         0.003019       n30314626   \n",
       "32  n1478113760          0.000215      60.0         0.002824       n30314626   \n",
       "\n",
       "    Distance_trafficsignal  \n",
       "0                 0.000266  \n",
       "8                 0.000176  \n",
       "16                0.000234  \n",
       "24                0.003206  \n",
       "32                0.003008  "
      ]
     },
     "execution_count": 10,
     "metadata": {},
     "output_type": "execute_result"
    }
   ],
   "source": [
    "# Let's keep one records per sectionID to keep the simplicity\n",
    "\n",
    "diagonal_merged = diagonal_merged.drop_duplicates('Tram')\n",
    "print(diagonal_merged.shape)\n",
    "\n",
    "diagonal_merged.head()"
   ]
  },
  {
   "cell_type": "code",
   "execution_count": 11,
   "metadata": {},
   "outputs": [
    {
     "data": {
      "text/plain": [
       "Tram                      0.000000\n",
       "Description               0.000000\n",
       "Primary                   0.610169\n",
       "Secondary                 0.627119\n",
       "BusstopID                 0.000000\n",
       "Distance_busstop          0.000000\n",
       "MaxSpeed                  0.762712\n",
       "Distance_camera           0.000000\n",
       "TrafficSignalID           0.000000\n",
       "Distance_trafficsignal    0.000000\n",
       "dtype: float64"
      ]
     },
     "execution_count": 11,
     "metadata": {},
     "output_type": "execute_result"
    }
   ],
   "source": [
    "# Are there any null values?\n",
    "\n",
    "diagonal_merged.isnull().mean()"
   ]
  },
  {
   "cell_type": "code",
   "execution_count": 12,
   "metadata": {
    "scrolled": true
   },
   "outputs": [
    {
     "data": {
      "text/plain": [
       "Tram                      0.000000\n",
       "Description               0.000000\n",
       "Primary                   0.000000\n",
       "Secondary                 0.000000\n",
       "BusstopID                 0.000000\n",
       "Distance_busstop          0.000000\n",
       "MaxSpeed                  0.762712\n",
       "Distance_camera           0.000000\n",
       "TrafficSignalID           0.000000\n",
       "Distance_trafficsignal    0.000000\n",
       "dtype: float64"
      ]
     },
     "execution_count": 12,
     "metadata": {},
     "output_type": "execute_result"
    }
   ],
   "source": [
    "# Impute nulls in 'Primary' and 'Secondary' columns with value '0'\n",
    "\n",
    "diagonal_merged[['Primary', 'Secondary']] = diagonal_merged[['Primary', 'Secondary']].notnull()*1\n",
    "diagonal_merged.isnull().mean()"
   ]
  },
  {
   "cell_type": "code",
   "execution_count": 13,
   "metadata": {
    "tags": []
   },
   "outputs": [
    {
     "name": "stdout",
     "output_type": "stream",
     "text": [
      "<class 'pandas.core.frame.DataFrame'>\n",
      "Int64Index: 59 entries, 0 to 464\n",
      "Data columns (total 10 columns):\n",
      " #   Column                  Non-Null Count  Dtype  \n",
      "---  ------                  --------------  -----  \n",
      " 0   Tram                    59 non-null     int64  \n",
      " 1   Description             59 non-null     object \n",
      " 2   Primary                 59 non-null     int64  \n",
      " 3   Secondary               59 non-null     int64  \n",
      " 4   BusstopID               59 non-null     object \n",
      " 5   Distance_busstop        59 non-null     float64\n",
      " 6   MaxSpeed                14 non-null     float64\n",
      " 7   Distance_camera         59 non-null     float64\n",
      " 8   TrafficSignalID         59 non-null     object \n",
      " 9   Distance_trafficsignal  59 non-null     float64\n",
      "dtypes: float64(4), int64(3), object(3)\n",
      "memory usage: 5.1+ KB\n"
     ]
    }
   ],
   "source": [
    "diagonal_merged.info()"
   ]
  },
  {
   "cell_type": "code",
   "execution_count": 14,
   "metadata": {
    "scrolled": false
   },
   "outputs": [
    {
     "data": {
      "image/png": "[encoded data removed]",
      "text/plain": [
       "<Figure size 432x288 with 1 Axes>"
      ]
     },
     "metadata": {},
     "output_type": "display_data"
    },
    {
     "data": {
      "image/png": "[encoded data removed]",
      "text/plain": [
       "<Figure size 432x288 with 1 Axes>"
      ]
     },
     "metadata": {},
     "output_type": "display_data"
    }
   ],
   "source": [
    "# Let's check distribution of numeric variables\n",
    "\n",
    "sns.countplot(diagonal_merged.Primary, palette='Set2')\n",
    "plt.show()\n",
    "sns.countplot(diagonal_merged.Secondary, palette='Set2')\n",
    "plt.show()"
   ]
  },
  {
   "cell_type": "code",
   "execution_count": 15,
   "metadata": {
    "scrolled": false
   },
   "outputs": [
    {
     "data": {
      "image/png": "[encoded data removed]",
      "text/plain": [
       "<Figure size 432x288 with 1 Axes>"
      ]
     },
     "metadata": {},
     "output_type": "display_data"
    },
    {
     "data": {
      "image/png": "[encoded data removed]",
      "text/plain": [
       "<Figure size 432x288 with 1 Axes>"
      ]
     },
     "metadata": {},
     "output_type": "display_data"
    },
    {
     "data": {
      "image/png": "[encoded data removed]",
      "text/plain": [
       "<Figure size 432x288 with 1 Axes>"
      ]
     },
     "metadata": {},
     "output_type": "display_data"
    }
   ],
   "source": [
    "sns.distplot(diagonal_merged.Distance_busstop)\n",
    "plt.show()\n",
    "\n",
    "sns.distplot(diagonal_merged.Distance_camera, color='g')\n",
    "plt.show()\n",
    "\n",
    "sns.distplot(diagonal_merged.Distance_trafficsignal, color='y')\n",
    "plt.show()"
   ]
  },
  {
   "cell_type": "code",
   "execution_count": null,
   "metadata": {},
   "outputs": [],
   "source": []
  },
  {
   "cell_type": "markdown",
   "metadata": {},
   "source": [
    "Check again the jan-2020 data focusing on these IDs (= secions located on Diagonal) only"
   ]
  },
  {
   "cell_type": "code",
   "execution_count": 16,
   "metadata": {},
   "outputs": [
    {
     "data": {
      "text/plain": [
       "array([  1,   2,   3,   4,   5,   6,   7,   8,   9,  10,  19,  26,  27,\n",
       "        47,  48,  49,  57,  63,  89, 101, 103, 104, 105, 106, 107, 122,\n",
       "       180, 196, 197, 206, 239, 254, 256, 257, 258, 259, 260, 261, 265,\n",
       "       272, 273, 279, 320, 360, 386, 387, 401, 402, 403, 413, 421, 423,\n",
       "       424, 425, 426, 431, 447, 451, 517])"
      ]
     },
     "execution_count": 16,
     "metadata": {},
     "output_type": "execute_result"
    }
   ],
   "source": [
    "# Extract Tram IDs in Diagonal:\n",
    "sectionID = diagonal_merged.Tram.unique()\n",
    "sectionID"
   ]
  },
  {
   "cell_type": "code",
   "execution_count": 17,
   "metadata": {
    "tags": []
   },
   "outputs": [
    {
     "name": "stdout",
     "output_type": "stream",
     "text": [
      "51\n",
      "(297919, 4)\n"
     ]
    },
    {
     "data": {
      "text/html": [
       "<div>\n",
       "<style scoped>\n",
       "    .dataframe tbody tr th:only-of-type {\n",
       "        vertical-align: middle;\n",
       "    }\n",
       "\n",
       "    .dataframe tbody tr th {\n",
       "        vertical-align: top;\n",
       "    }\n",
       "\n",
       "    .dataframe thead th {\n",
       "        text-align: right;\n",
       "    }\n",
       "</style>\n",
       "<table border=\"1\" class=\"dataframe\">\n",
       "  <thead>\n",
       "    <tr style=\"text-align: right;\">\n",
       "      <th></th>\n",
       "      <th>idTram</th>\n",
       "      <th>data</th>\n",
       "      <th>estatActual</th>\n",
       "      <th>estatPrevist</th>\n",
       "    </tr>\n",
       "  </thead>\n",
       "  <tbody>\n",
       "    <tr>\n",
       "      <th>1116</th>\n",
       "      <td>63</td>\n",
       "      <td>20200101001052</td>\n",
       "      <td>1</td>\n",
       "      <td>1</td>\n",
       "    </tr>\n",
       "    <tr>\n",
       "      <th>1175</th>\n",
       "      <td>122</td>\n",
       "      <td>20200101001052</td>\n",
       "      <td>1</td>\n",
       "      <td>2</td>\n",
       "    </tr>\n",
       "    <tr>\n",
       "      <th>1233</th>\n",
       "      <td>180</td>\n",
       "      <td>20200101001052</td>\n",
       "      <td>1</td>\n",
       "      <td>2</td>\n",
       "    </tr>\n",
       "    <tr>\n",
       "      <th>1259</th>\n",
       "      <td>206</td>\n",
       "      <td>20200101001052</td>\n",
       "      <td>2</td>\n",
       "      <td>2</td>\n",
       "    </tr>\n",
       "    <tr>\n",
       "      <th>1318</th>\n",
       "      <td>265</td>\n",
       "      <td>20200101001052</td>\n",
       "      <td>2</td>\n",
       "      <td>2</td>\n",
       "    </tr>\n",
       "  </tbody>\n",
       "</table>\n",
       "</div>"
      ],
      "text/plain": [
       "      idTram            data  estatActual  estatPrevist\n",
       "1116      63  20200101001052            1             1\n",
       "1175     122  20200101001052            1             2\n",
       "1233     180  20200101001052            1             2\n",
       "1259     206  20200101001052            2             2\n",
       "1318     265  20200101001052            2             2"
      ]
     },
     "execution_count": 17,
     "metadata": {},
     "output_type": "execute_result"
    }
   ],
   "source": [
    "# Select only Diagonal-located sectionIDs from tram_jan_clean data\n",
    "id_for_jan = [id for id in tram_jan_clean.idTram.unique() if id in sectionID]\n",
    "print(len(id_for_jan))\n",
    "\n",
    "# Filter january's clean data only using Diagonal's section ID\n",
    "mask = tram_jan_clean['idTram'].isin(id_for_jan)\n",
    "diagonal_jan = tram_jan_clean[mask]\n",
    "\n",
    "print(diagonal_jan.shape)\n",
    "diagonal_jan.head()"
   ]
  },
  {
   "cell_type": "code",
   "execution_count": 18,
   "metadata": {},
   "outputs": [
    {
     "data": {
      "text/html": [
       "<div>\n",
       "<style scoped>\n",
       "    .dataframe tbody tr th:only-of-type {\n",
       "        vertical-align: middle;\n",
       "    }\n",
       "\n",
       "    .dataframe tbody tr th {\n",
       "        vertical-align: top;\n",
       "    }\n",
       "\n",
       "    .dataframe thead th {\n",
       "        text-align: right;\n",
       "    }\n",
       "</style>\n",
       "<table border=\"1\" class=\"dataframe\">\n",
       "  <thead>\n",
       "    <tr style=\"text-align: right;\">\n",
       "      <th></th>\n",
       "      <th>Tram</th>\n",
       "      <th>date</th>\n",
       "      <th>CurrentState</th>\n",
       "      <th>ExpectedState</th>\n",
       "    </tr>\n",
       "  </thead>\n",
       "  <tbody>\n",
       "    <tr>\n",
       "      <th>1116</th>\n",
       "      <td>63</td>\n",
       "      <td>2020-01-01 00:10:52</td>\n",
       "      <td>1</td>\n",
       "      <td>1</td>\n",
       "    </tr>\n",
       "    <tr>\n",
       "      <th>1175</th>\n",
       "      <td>122</td>\n",
       "      <td>2020-01-01 00:10:52</td>\n",
       "      <td>1</td>\n",
       "      <td>2</td>\n",
       "    </tr>\n",
       "    <tr>\n",
       "      <th>1233</th>\n",
       "      <td>180</td>\n",
       "      <td>2020-01-01 00:10:52</td>\n",
       "      <td>1</td>\n",
       "      <td>2</td>\n",
       "    </tr>\n",
       "    <tr>\n",
       "      <th>1259</th>\n",
       "      <td>206</td>\n",
       "      <td>2020-01-01 00:10:52</td>\n",
       "      <td>2</td>\n",
       "      <td>2</td>\n",
       "    </tr>\n",
       "    <tr>\n",
       "      <th>1318</th>\n",
       "      <td>265</td>\n",
       "      <td>2020-01-01 00:10:52</td>\n",
       "      <td>2</td>\n",
       "      <td>2</td>\n",
       "    </tr>\n",
       "  </tbody>\n",
       "</table>\n",
       "</div>"
      ],
      "text/plain": [
       "      Tram                date  CurrentState  ExpectedState\n",
       "1116    63 2020-01-01 00:10:52             1              1\n",
       "1175   122 2020-01-01 00:10:52             1              2\n",
       "1233   180 2020-01-01 00:10:52             1              2\n",
       "1259   206 2020-01-01 00:10:52             2              2\n",
       "1318   265 2020-01-01 00:10:52             2              2"
      ]
     },
     "execution_count": 18,
     "metadata": {},
     "output_type": "execute_result"
    }
   ],
   "source": [
    "# Modify the data:\n",
    "# 1. Change column names to english\n",
    "# 2. Change 'date' column into datetime type\n",
    "\n",
    "new_names = {\"idTram\": \"Tram\", \"data\": \"date\", \"estatActual\": \"CurrentState\", \"estatPrevist\": \"ExpectedState\"}\n",
    "diagonal_jan = diagonal_jan.rename(columns=new_names)\n",
    "    \n",
    "# 2. 'date' column as a datetime type\n",
    "diagonal_jan['date'] = pd.to_datetime(diagonal_jan['date'].astype(str), yearfirst=True)\n",
    "\n",
    "diagonal_jan.head()"
   ]
  },
  {
   "cell_type": "code",
   "execution_count": 19,
   "metadata": {},
   "outputs": [
    {
     "data": {
      "text/html": [
       "<div>\n",
       "<style scoped>\n",
       "    .dataframe tbody tr th:only-of-type {\n",
       "        vertical-align: middle;\n",
       "    }\n",
       "\n",
       "    .dataframe tbody tr th {\n",
       "        vertical-align: top;\n",
       "    }\n",
       "\n",
       "    .dataframe thead th {\n",
       "        text-align: right;\n",
       "    }\n",
       "</style>\n",
       "<table border=\"1\" class=\"dataframe\">\n",
       "  <thead>\n",
       "    <tr style=\"text-align: right;\">\n",
       "      <th></th>\n",
       "      <th>Tram</th>\n",
       "      <th>date</th>\n",
       "      <th>CurrentState</th>\n",
       "      <th>ExpectedState</th>\n",
       "      <th>Weekday</th>\n",
       "    </tr>\n",
       "  </thead>\n",
       "  <tbody>\n",
       "    <tr>\n",
       "      <th>4473</th>\n",
       "      <td>258</td>\n",
       "      <td>2020-01-01 00:40:55</td>\n",
       "      <td>5</td>\n",
       "      <td>5</td>\n",
       "      <td>Wednesday</td>\n",
       "    </tr>\n",
       "    <tr>\n",
       "      <th>9805</th>\n",
       "      <td>320</td>\n",
       "      <td>2020-01-01 01:30:52</td>\n",
       "      <td>5</td>\n",
       "      <td>4</td>\n",
       "      <td>Wednesday</td>\n",
       "    </tr>\n",
       "    <tr>\n",
       "      <th>11324</th>\n",
       "      <td>258</td>\n",
       "      <td>2020-01-01 01:45:52</td>\n",
       "      <td>5</td>\n",
       "      <td>4</td>\n",
       "      <td>Wednesday</td>\n",
       "    </tr>\n",
       "    <tr>\n",
       "      <th>15602</th>\n",
       "      <td>320</td>\n",
       "      <td>2020-01-01 02:25:53</td>\n",
       "      <td>5</td>\n",
       "      <td>4</td>\n",
       "      <td>Wednesday</td>\n",
       "    </tr>\n",
       "    <tr>\n",
       "      <th>17648</th>\n",
       "      <td>258</td>\n",
       "      <td>2020-01-01 02:45:53</td>\n",
       "      <td>5</td>\n",
       "      <td>5</td>\n",
       "      <td>Wednesday</td>\n",
       "    </tr>\n",
       "  </tbody>\n",
       "</table>\n",
       "</div>"
      ],
      "text/plain": [
       "       Tram                date  CurrentState  ExpectedState    Weekday\n",
       "4473    258 2020-01-01 00:40:55             5              5  Wednesday\n",
       "9805    320 2020-01-01 01:30:52             5              4  Wednesday\n",
       "11324   258 2020-01-01 01:45:52             5              4  Wednesday\n",
       "15602   320 2020-01-01 02:25:53             5              4  Wednesday\n",
       "17648   258 2020-01-01 02:45:53             5              5  Wednesday"
      ]
     },
     "execution_count": 19,
     "metadata": {},
     "output_type": "execute_result"
    }
   ],
   "source": [
    "# Let's further modity the 'date' column\n",
    "\n",
    "#1. Add day of the week info by creating a new column:\n",
    "diagonal_jan['Weekday'] = diagonal_jan.date.dt.day_name()\n",
    "\n",
    "#2. Let's introduce 'rush hour' to our data\n",
    "rush_hour = diagonal_jan.CurrentState >= 5\n",
    "diagonal_jan_rh = diagonal_jan[rush_hour]\n",
    "\n",
    "diagonal_jan_rh.head()"
   ]
  },
  {
   "cell_type": "code",
   "execution_count": 20,
   "metadata": {},
   "outputs": [
    {
     "data": {
      "text/plain": [
       "[<matplotlib.lines.Line2D at 0x7f204c6fb290>]"
      ]
     },
     "execution_count": 20,
     "metadata": {},
     "output_type": "execute_result"
    },
    {
     "data": {
      "image/png": "[encoded data removed]",
      "text/plain": [
       "<Figure size 1080x360 with 1 Axes>"
      ]
     },
     "metadata": {},
     "output_type": "display_data"
    }
   ],
   "source": [
    "# Traffic states plotted by time\n",
    "\n",
    "plt.figure(figsize=(15,5))\n",
    "plt.plot(diagonal_jan.date, diagonal_jan.CurrentState)"
   ]
  },
  {
   "cell_type": "code",
   "execution_count": 21,
   "metadata": {},
   "outputs": [
    {
     "data": {
      "text/plain": [
       "Text(0.5, 0, 'Section ID')"
      ]
     },
     "execution_count": 21,
     "metadata": {},
     "output_type": "execute_result"
    },
    {
     "data": {
      "image/png": "[encoded data removed]",
      "text/plain": [
       "<Figure size 792x360 with 1 Axes>"
      ]
     },
     "metadata": {},
     "output_type": "display_data"
    }
   ],
   "source": [
    "# Plot the frequency of congestion or blockage of traffic (CurrentState>=5)\n",
    "# at each section IDs (of Diagonal's)\n",
    "\n",
    "plt.figure(figsize=(11,5))\n",
    "diagonal_jan_rh.Tram.value_counts().plot(kind='bar')\n",
    "plt.title('Frequency of congestion (>=5) in Jan 2020')\n",
    "plt.ylabel('# times')\n",
    "plt.xlabel('Section ID')"
   ]
  },
  {
   "cell_type": "code",
   "execution_count": 22,
   "metadata": {
    "tags": []
   },
   "outputs": [
    {
     "name": "stdout",
     "output_type": "stream",
     "text": [
      "(2211, 5)\n",
      "top10 IDs: Int64Index([5, 517, 57, 386, 4, 320, 8, 122, 3, 89], dtype='int64')\n"
     ]
    },
    {
     "data": {
      "text/html": [
       "<div>\n",
       "<style scoped>\n",
       "    .dataframe tbody tr th:only-of-type {\n",
       "        vertical-align: middle;\n",
       "    }\n",
       "\n",
       "    .dataframe tbody tr th {\n",
       "        vertical-align: top;\n",
       "    }\n",
       "\n",
       "    .dataframe thead th {\n",
       "        text-align: right;\n",
       "    }\n",
       "</style>\n",
       "<table border=\"1\" class=\"dataframe\">\n",
       "  <thead>\n",
       "    <tr style=\"text-align: right;\">\n",
       "      <th></th>\n",
       "      <th>Tram</th>\n",
       "      <th>date</th>\n",
       "      <th>CurrentState</th>\n",
       "      <th>ExpectedState</th>\n",
       "      <th>Weekday</th>\n",
       "    </tr>\n",
       "  </thead>\n",
       "  <tbody>\n",
       "    <tr>\n",
       "      <th>9805</th>\n",
       "      <td>320</td>\n",
       "      <td>2020-01-01 01:30:52</td>\n",
       "      <td>5</td>\n",
       "      <td>4</td>\n",
       "      <td>Wednesday</td>\n",
       "    </tr>\n",
       "    <tr>\n",
       "      <th>15602</th>\n",
       "      <td>320</td>\n",
       "      <td>2020-01-01 02:25:53</td>\n",
       "      <td>5</td>\n",
       "      <td>4</td>\n",
       "      <td>Wednesday</td>\n",
       "    </tr>\n",
       "    <tr>\n",
       "      <th>100976</th>\n",
       "      <td>320</td>\n",
       "      <td>2020-01-01 15:55:56</td>\n",
       "      <td>5</td>\n",
       "      <td>5</td>\n",
       "      <td>Wednesday</td>\n",
       "    </tr>\n",
       "    <tr>\n",
       "      <th>102030</th>\n",
       "      <td>320</td>\n",
       "      <td>2020-01-01 16:05:53</td>\n",
       "      <td>5</td>\n",
       "      <td>5</td>\n",
       "      <td>Wednesday</td>\n",
       "    </tr>\n",
       "    <tr>\n",
       "      <th>200579</th>\n",
       "      <td>320</td>\n",
       "      <td>2020-01-02 07:40:55</td>\n",
       "      <td>5</td>\n",
       "      <td>5</td>\n",
       "      <td>Thursday</td>\n",
       "    </tr>\n",
       "  </tbody>\n",
       "</table>\n",
       "</div>"
      ],
      "text/plain": [
       "        Tram                date  CurrentState  ExpectedState    Weekday\n",
       "9805     320 2020-01-01 01:30:52             5              4  Wednesday\n",
       "15602    320 2020-01-01 02:25:53             5              4  Wednesday\n",
       "100976   320 2020-01-01 15:55:56             5              5  Wednesday\n",
       "102030   320 2020-01-01 16:05:53             5              5  Wednesday\n",
       "200579   320 2020-01-02 07:40:55             5              5   Thursday"
      ]
     },
     "execution_count": 22,
     "metadata": {},
     "output_type": "execute_result"
    }
   ],
   "source": [
    "# Select the top 10 most frequently congested sections\n",
    "top10_id = diagonal_jan_rh.Tram.value_counts()[:10].index\n",
    "\n",
    "mask = diagonal_jan_rh['Tram'] .isin(top10_id )\n",
    "top10_congested = diagonal_jan_rh[mask]\n",
    "\n",
    "print(top10_congested.shape)\n",
    "print(f'top10 IDs: {top10_id}')\n",
    "top10_congested.head()"
   ]
  },
  {
   "cell_type": "code",
   "execution_count": 23,
   "metadata": {
    "tags": []
   },
   "outputs": [
    {
     "name": "stdout",
     "output_type": "stream",
     "text": [
      "(2211, 14)\n"
     ]
    },
    {
     "data": {
      "text/html": [
       "<div>\n",
       "<style scoped>\n",
       "    .dataframe tbody tr th:only-of-type {\n",
       "        vertical-align: middle;\n",
       "    }\n",
       "\n",
       "    .dataframe tbody tr th {\n",
       "        vertical-align: top;\n",
       "    }\n",
       "\n",
       "    .dataframe thead th {\n",
       "        text-align: right;\n",
       "    }\n",
       "</style>\n",
       "<table border=\"1\" class=\"dataframe\">\n",
       "  <thead>\n",
       "    <tr style=\"text-align: right;\">\n",
       "      <th></th>\n",
       "      <th>Tram</th>\n",
       "      <th>date</th>\n",
       "      <th>CurrentState</th>\n",
       "      <th>ExpectedState</th>\n",
       "      <th>Weekday</th>\n",
       "      <th>Description</th>\n",
       "      <th>Primary</th>\n",
       "      <th>Secondary</th>\n",
       "      <th>BusstopID</th>\n",
       "      <th>Distance_busstop</th>\n",
       "      <th>MaxSpeed</th>\n",
       "      <th>Distance_camera</th>\n",
       "      <th>TrafficSignalID</th>\n",
       "      <th>Distance_trafficsignal</th>\n",
       "    </tr>\n",
       "  </thead>\n",
       "  <tbody>\n",
       "    <tr>\n",
       "      <th>0</th>\n",
       "      <td>320</td>\n",
       "      <td>2020-01-01 01:30:52</td>\n",
       "      <td>5</td>\n",
       "      <td>4</td>\n",
       "      <td>Wednesday</td>\n",
       "      <td>Meridiana (Pl. de les Glòries a Aragó)</td>\n",
       "      <td>0</td>\n",
       "      <td>0</td>\n",
       "      <td>n5760480313</td>\n",
       "      <td>0.001188</td>\n",
       "      <td>NaN</td>\n",
       "      <td>0.004786</td>\n",
       "      <td>n4637945307</td>\n",
       "      <td>0.000291</td>\n",
       "    </tr>\n",
       "    <tr>\n",
       "      <th>1</th>\n",
       "      <td>320</td>\n",
       "      <td>2020-01-01 02:25:53</td>\n",
       "      <td>5</td>\n",
       "      <td>4</td>\n",
       "      <td>Wednesday</td>\n",
       "      <td>Meridiana (Pl. de les Glòries a Aragó)</td>\n",
       "      <td>0</td>\n",
       "      <td>0</td>\n",
       "      <td>n5760480313</td>\n",
       "      <td>0.001188</td>\n",
       "      <td>NaN</td>\n",
       "      <td>0.004786</td>\n",
       "      <td>n4637945307</td>\n",
       "      <td>0.000291</td>\n",
       "    </tr>\n",
       "    <tr>\n",
       "      <th>2</th>\n",
       "      <td>320</td>\n",
       "      <td>2020-01-01 15:55:56</td>\n",
       "      <td>5</td>\n",
       "      <td>5</td>\n",
       "      <td>Wednesday</td>\n",
       "      <td>Meridiana (Pl. de les Glòries a Aragó)</td>\n",
       "      <td>0</td>\n",
       "      <td>0</td>\n",
       "      <td>n5760480313</td>\n",
       "      <td>0.001188</td>\n",
       "      <td>NaN</td>\n",
       "      <td>0.004786</td>\n",
       "      <td>n4637945307</td>\n",
       "      <td>0.000291</td>\n",
       "    </tr>\n",
       "    <tr>\n",
       "      <th>3</th>\n",
       "      <td>320</td>\n",
       "      <td>2020-01-01 16:05:53</td>\n",
       "      <td>5</td>\n",
       "      <td>5</td>\n",
       "      <td>Wednesday</td>\n",
       "      <td>Meridiana (Pl. de les Glòries a Aragó)</td>\n",
       "      <td>0</td>\n",
       "      <td>0</td>\n",
       "      <td>n5760480313</td>\n",
       "      <td>0.001188</td>\n",
       "      <td>NaN</td>\n",
       "      <td>0.004786</td>\n",
       "      <td>n4637945307</td>\n",
       "      <td>0.000291</td>\n",
       "    </tr>\n",
       "    <tr>\n",
       "      <th>4</th>\n",
       "      <td>320</td>\n",
       "      <td>2020-01-02 07:40:55</td>\n",
       "      <td>5</td>\n",
       "      <td>5</td>\n",
       "      <td>Thursday</td>\n",
       "      <td>Meridiana (Pl. de les Glòries a Aragó)</td>\n",
       "      <td>0</td>\n",
       "      <td>0</td>\n",
       "      <td>n5760480313</td>\n",
       "      <td>0.001188</td>\n",
       "      <td>NaN</td>\n",
       "      <td>0.004786</td>\n",
       "      <td>n4637945307</td>\n",
       "      <td>0.000291</td>\n",
       "    </tr>\n",
       "  </tbody>\n",
       "</table>\n",
       "</div>"
      ],
      "text/plain": [
       "   Tram                date  CurrentState  ExpectedState    Weekday  \\\n",
       "0   320 2020-01-01 01:30:52             5              4  Wednesday   \n",
       "1   320 2020-01-01 02:25:53             5              4  Wednesday   \n",
       "2   320 2020-01-01 15:55:56             5              5  Wednesday   \n",
       "3   320 2020-01-01 16:05:53             5              5  Wednesday   \n",
       "4   320 2020-01-02 07:40:55             5              5   Thursday   \n",
       "\n",
       "                              Description  Primary  Secondary    BusstopID  \\\n",
       "0  Meridiana (Pl. de les Glòries a Aragó)        0          0  n5760480313   \n",
       "1  Meridiana (Pl. de les Glòries a Aragó)        0          0  n5760480313   \n",
       "2  Meridiana (Pl. de les Glòries a Aragó)        0          0  n5760480313   \n",
       "3  Meridiana (Pl. de les Glòries a Aragó)        0          0  n5760480313   \n",
       "4  Meridiana (Pl. de les Glòries a Aragó)        0          0  n5760480313   \n",
       "\n",
       "   Distance_busstop  MaxSpeed  Distance_camera TrafficSignalID  \\\n",
       "0          0.001188       NaN         0.004786     n4637945307   \n",
       "1          0.001188       NaN         0.004786     n4637945307   \n",
       "2          0.001188       NaN         0.004786     n4637945307   \n",
       "3          0.001188       NaN         0.004786     n4637945307   \n",
       "4          0.001188       NaN         0.004786     n4637945307   \n",
       "\n",
       "   Distance_trafficsignal  \n",
       "0                0.000291  \n",
       "1                0.000291  \n",
       "2                0.000291  \n",
       "3                0.000291  \n",
       "4                0.000291  "
      ]
     },
     "execution_count": 23,
     "metadata": {},
     "output_type": "execute_result"
    }
   ],
   "source": [
    "# Join the diagonal_merged attributes to this top 10 IDs\n",
    "\n",
    "top10_jan = top10_congested.merge(diagonal_merged, on='Tram', how='inner', copy=False)\n",
    "print(top10_jan.shape)\n",
    "top10_jan.head()"
   ]
  },
  {
   "cell_type": "code",
   "execution_count": 24,
   "metadata": {},
   "outputs": [
    {
     "data": {
      "text/plain": [
       "<matplotlib.axes._subplots.AxesSubplot at 0x7f20560de150>"
      ]
     },
     "execution_count": 24,
     "metadata": {},
     "output_type": "execute_result"
    },
    {
     "data": {
      "image/png": "[encoded data removed]",
      "text/plain": [
       "<Figure size 864x576 with 1 Axes>"
      ]
     },
     "metadata": {},
     "output_type": "display_data"
    }
   ],
   "source": [
    "# Frequency of traffic congestion (>=5) in Jan, 2020\n",
    "# Observation from top10 IDs\n",
    "# Grouped by: date\n",
    " \n",
    "plt.figure(figsize=(12,8))\n",
    "sns.countplot(top10_jan.date.dt.day, palette='cividis')"
   ]
  },
  {
   "cell_type": "code",
   "execution_count": 25,
   "metadata": {},
   "outputs": [
    {
     "data": {
      "text/plain": [
       "Text(0.5, 1.0, 'Jan 2020')"
      ]
     },
     "execution_count": 25,
     "metadata": {},
     "output_type": "execute_result"
    },
    {
     "data": {
      "image/png": "[encoded data removed]",
      "text/plain": [
       "<Figure size 864x576 with 1 Axes>"
      ]
     },
     "metadata": {},
     "output_type": "display_data"
    }
   ],
   "source": [
    "# Frequency of traffic congestion (>=5) in Jan, 2020\n",
    "# Observation from top10 IDs\n",
    "# Grouped by: weekday\n",
    " \n",
    "plt.figure(figsize=(12,8))\n",
    "order_of_days = ['Monday', 'Tuesday', 'Wednesday', 'Thursday', 'Friday', 'Saturday', 'Sunday']\n",
    "sns.countplot(top10_jan.Weekday, palette='cividis', order=order_of_days)\n",
    "plt.title('Jan 2020')"
   ]
  },
  {
   "cell_type": "code",
   "execution_count": 26,
   "metadata": {},
   "outputs": [],
   "source": [
    "# Plot only Tuesday and Friday\n",
    "\n",
    "only_tuesday_jan = top10_jan[top10_jan.Weekday == 'Tuesday']\n",
    "only_friday_jan = top10_jan[top10_jan.Weekday == 'Friday']"
   ]
  },
  {
   "cell_type": "code",
   "execution_count": 27,
   "metadata": {},
   "outputs": [
    {
     "data": {
      "image/png": "[encoded data removed]",
      "text/plain": [
       "<Figure size 720x432 with 1 Axes>"
      ]
     },
     "metadata": {},
     "output_type": "display_data"
    }
   ],
   "source": [
    "plt.figure(figsize=(10,6))\n",
    "sns.countplot(only_tuesday_jan.date.dt.hour, palette='OrRd', order=np.arange(0,24))\n",
    "plt.title('Tuesday - Jan 2020')\n",
    "plt.xlabel('hour')\n",
    "plt.show()"
   ]
  },
  {
   "cell_type": "code",
   "execution_count": 28,
   "metadata": {},
   "outputs": [
    {
     "data": {
      "text/plain": [
       "Text(0.5, 0, 'hour')"
      ]
     },
     "execution_count": 28,
     "metadata": {},
     "output_type": "execute_result"
    },
    {
     "data": {
      "image/png": "[encoded data removed]",
      "text/plain": [
       "<Figure size 720x432 with 1 Axes>"
      ]
     },
     "metadata": {},
     "output_type": "display_data"
    }
   ],
   "source": [
    "plt.figure(figsize=(10,6))\n",
    "sns.countplot(only_friday_jan.date.dt.hour, palette='OrRd', order=np.arange(0,24))\n",
    "plt.title('Friday - Jan 2020')\n",
    "plt.xlabel('hour')"
   ]
  },
  {
   "cell_type": "code",
   "execution_count": 29,
   "metadata": {
    "tags": []
   },
   "outputs": [
    {
     "name": "stdout",
     "output_type": "stream",
     "text": [
      "(312, 5)\n",
      "rest IDs: Int64Index([ 49, 206, 403, 272,  26,   1, 258, 107, 426, 265, 239,  63,   6,\n",
      "            360,  19, 254, 402, 451, 273,  47,  10],\n",
      "           dtype='int64')\n",
      "(312, 14)\n"
     ]
    },
    {
     "data": {
      "text/html": [
       "<div>\n",
       "<style scoped>\n",
       "    .dataframe tbody tr th:only-of-type {\n",
       "        vertical-align: middle;\n",
       "    }\n",
       "\n",
       "    .dataframe tbody tr th {\n",
       "        vertical-align: top;\n",
       "    }\n",
       "\n",
       "    .dataframe thead th {\n",
       "        text-align: right;\n",
       "    }\n",
       "</style>\n",
       "<table border=\"1\" class=\"dataframe\">\n",
       "  <thead>\n",
       "    <tr style=\"text-align: right;\">\n",
       "      <th></th>\n",
       "      <th>Tram</th>\n",
       "      <th>date</th>\n",
       "      <th>CurrentState</th>\n",
       "      <th>ExpectedState</th>\n",
       "      <th>Weekday</th>\n",
       "      <th>Description</th>\n",
       "      <th>Primary</th>\n",
       "      <th>Secondary</th>\n",
       "      <th>BusstopID</th>\n",
       "      <th>Distance_busstop</th>\n",
       "      <th>MaxSpeed</th>\n",
       "      <th>Distance_camera</th>\n",
       "      <th>TrafficSignalID</th>\n",
       "      <th>Distance_trafficsignal</th>\n",
       "    </tr>\n",
       "  </thead>\n",
       "  <tbody>\n",
       "    <tr>\n",
       "      <th>0</th>\n",
       "      <td>258</td>\n",
       "      <td>2020-01-01 00:40:55</td>\n",
       "      <td>5</td>\n",
       "      <td>5</td>\n",
       "      <td>Wednesday</td>\n",
       "      <td>Diagonal (Passeig de Sant Joan a Marina)</td>\n",
       "      <td>0</td>\n",
       "      <td>0</td>\n",
       "      <td>n6321098314</td>\n",
       "      <td>0.002152</td>\n",
       "      <td>NaN</td>\n",
       "      <td>0.005648</td>\n",
       "      <td>n1311619461</td>\n",
       "      <td>0.000127</td>\n",
       "    </tr>\n",
       "    <tr>\n",
       "      <th>1</th>\n",
       "      <td>258</td>\n",
       "      <td>2020-01-01 01:45:52</td>\n",
       "      <td>5</td>\n",
       "      <td>4</td>\n",
       "      <td>Wednesday</td>\n",
       "      <td>Diagonal (Passeig de Sant Joan a Marina)</td>\n",
       "      <td>0</td>\n",
       "      <td>0</td>\n",
       "      <td>n6321098314</td>\n",
       "      <td>0.002152</td>\n",
       "      <td>NaN</td>\n",
       "      <td>0.005648</td>\n",
       "      <td>n1311619461</td>\n",
       "      <td>0.000127</td>\n",
       "    </tr>\n",
       "    <tr>\n",
       "      <th>2</th>\n",
       "      <td>258</td>\n",
       "      <td>2020-01-01 02:45:53</td>\n",
       "      <td>5</td>\n",
       "      <td>5</td>\n",
       "      <td>Wednesday</td>\n",
       "      <td>Diagonal (Passeig de Sant Joan a Marina)</td>\n",
       "      <td>0</td>\n",
       "      <td>0</td>\n",
       "      <td>n6321098314</td>\n",
       "      <td>0.002152</td>\n",
       "      <td>NaN</td>\n",
       "      <td>0.005648</td>\n",
       "      <td>n1311619461</td>\n",
       "      <td>0.000127</td>\n",
       "    </tr>\n",
       "    <tr>\n",
       "      <th>3</th>\n",
       "      <td>258</td>\n",
       "      <td>2020-01-01 03:10:53</td>\n",
       "      <td>5</td>\n",
       "      <td>5</td>\n",
       "      <td>Wednesday</td>\n",
       "      <td>Diagonal (Passeig de Sant Joan a Marina)</td>\n",
       "      <td>0</td>\n",
       "      <td>0</td>\n",
       "      <td>n6321098314</td>\n",
       "      <td>0.002152</td>\n",
       "      <td>NaN</td>\n",
       "      <td>0.005648</td>\n",
       "      <td>n1311619461</td>\n",
       "      <td>0.000127</td>\n",
       "    </tr>\n",
       "    <tr>\n",
       "      <th>4</th>\n",
       "      <td>258</td>\n",
       "      <td>2020-01-01 04:10:52</td>\n",
       "      <td>5</td>\n",
       "      <td>5</td>\n",
       "      <td>Wednesday</td>\n",
       "      <td>Diagonal (Passeig de Sant Joan a Marina)</td>\n",
       "      <td>0</td>\n",
       "      <td>0</td>\n",
       "      <td>n6321098314</td>\n",
       "      <td>0.002152</td>\n",
       "      <td>NaN</td>\n",
       "      <td>0.005648</td>\n",
       "      <td>n1311619461</td>\n",
       "      <td>0.000127</td>\n",
       "    </tr>\n",
       "  </tbody>\n",
       "</table>\n",
       "</div>"
      ],
      "text/plain": [
       "   Tram                date  CurrentState  ExpectedState    Weekday  \\\n",
       "0   258 2020-01-01 00:40:55             5              5  Wednesday   \n",
       "1   258 2020-01-01 01:45:52             5              4  Wednesday   \n",
       "2   258 2020-01-01 02:45:53             5              5  Wednesday   \n",
       "3   258 2020-01-01 03:10:53             5              5  Wednesday   \n",
       "4   258 2020-01-01 04:10:52             5              5  Wednesday   \n",
       "\n",
       "                                Description  Primary  Secondary    BusstopID  \\\n",
       "0  Diagonal (Passeig de Sant Joan a Marina)        0          0  n6321098314   \n",
       "1  Diagonal (Passeig de Sant Joan a Marina)        0          0  n6321098314   \n",
       "2  Diagonal (Passeig de Sant Joan a Marina)        0          0  n6321098314   \n",
       "3  Diagonal (Passeig de Sant Joan a Marina)        0          0  n6321098314   \n",
       "4  Diagonal (Passeig de Sant Joan a Marina)        0          0  n6321098314   \n",
       "\n",
       "   Distance_busstop  MaxSpeed  Distance_camera TrafficSignalID  \\\n",
       "0          0.002152       NaN         0.005648     n1311619461   \n",
       "1          0.002152       NaN         0.005648     n1311619461   \n",
       "2          0.002152       NaN         0.005648     n1311619461   \n",
       "3          0.002152       NaN         0.005648     n1311619461   \n",
       "4          0.002152       NaN         0.005648     n1311619461   \n",
       "\n",
       "   Distance_trafficsignal  \n",
       "0                0.000127  \n",
       "1                0.000127  \n",
       "2                0.000127  \n",
       "3                0.000127  \n",
       "4                0.000127  "
      ]
     },
     "execution_count": 29,
     "metadata": {},
     "output_type": "execute_result"
    }
   ],
   "source": [
    "# Create a dataframe for the rest of the IDs\n",
    "\n",
    "rest_id = diagonal_jan_rh.Tram.value_counts()[10:].index\n",
    "\n",
    "mask = diagonal_jan_rh['Tram'].isin(rest_id )\n",
    "rest_congested = diagonal_jan_rh[mask]\n",
    "\n",
    "print(rest_congested.shape)\n",
    "print(f'rest IDs: {rest_id}')\n",
    "\n",
    "# Join the diagonal_merged attributes to these IDs\n",
    "\n",
    "rest_jan = rest_congested.merge(diagonal_merged, on='Tram', how='inner', copy=False)\n",
    "print(rest_jan.shape)\n",
    "rest_jan.head()"
   ]
  },
  {
   "cell_type": "code",
   "execution_count": 30,
   "metadata": {
    "tags": []
   },
   "outputs": [
    {
     "name": "stdout",
     "output_type": "stream",
     "text": [
      "0.00338\n",
      "0.03392\n"
     ]
    }
   ],
   "source": [
    "# ttest with the rest of the diagonal sections:\n",
    "\n",
    "t_primary, p_primary = stats.ttest_ind(top10_jan.Primary, rest_jan.Primary)\n",
    "t_secondary, p_secondary = stats.ttest_ind(top10_jan.Secondary, rest_jan.Secondary)\n",
    "\n",
    "print(round(p_primary, 5))\n",
    "print(round(p_secondary, 5))"
   ]
  },
  {
   "cell_type": "code",
   "execution_count": 31,
   "metadata": {
    "tags": []
   },
   "outputs": [
    {
     "name": "stdout",
     "output_type": "stream",
     "text": [
      "top5 mean: 0.0015766926470976953\n",
      "top5 std: 0.0021575041711928344\n",
      "rest mean: 0.0016642782948130097\n",
      "rest std: 0.0014252366466758874\n",
      "------------------------------\n",
      "top5 mean: 0.003414976803857543\n",
      "top5 std: 0.0010161832835875024\n",
      "rest mean: 0.00441075250756652\n",
      "rest std: 0.004084519727003903\n",
      "------------------------------\n",
      "top5 mean: 0.0026649068678696393\n",
      "top5 std: 0.0014693163707580898\n",
      "rest mean: 0.0013008746537839103\n",
      "rest std: 0.0014853291091070189\n"
     ]
    }
   ],
   "source": [
    "print(f'top5 mean: {np.mean(top10_jan.Distance_busstop)}')\n",
    "print(f'top5 std: {np.std(top10_jan.Distance_busstop)}')\n",
    "\n",
    "print(f'rest mean: {np.mean(rest_jan.Distance_busstop)}')\n",
    "print(f'rest std: {np.std(rest_jan.Distance_busstop)}')\n",
    "print('-'*30)\n",
    "\n",
    "print(f'top5 mean: {np.mean(top10_jan.Distance_camera)}')\n",
    "print(f'top5 std: {np.std(top10_jan.Distance_camera)}')\n",
    "\n",
    "print(f'rest mean: {np.mean(rest_jan.Distance_camera)}')\n",
    "print(f'rest std: {np.std(rest_jan.Distance_camera)}')\n",
    "print('-'*30)\n",
    "\n",
    "print(f'top5 mean: {np.mean(top10_jan.Distance_trafficsignal)}')\n",
    "print(f'top5 std: {np.std(top10_jan.Distance_trafficsignal)}')\n",
    "\n",
    "print(f'rest mean: {np.mean(rest_jan.Distance_trafficsignal)}')\n",
    "print(f'rest std: {np.std(rest_jan.Distance_trafficsignal)}')"
   ]
  },
  {
   "cell_type": "code",
   "execution_count": 32,
   "metadata": {},
   "outputs": [
    {
     "data": {
      "text/plain": [
       "Text(0.5, 0, 'Distance unit')"
      ]
     },
     "execution_count": 32,
     "metadata": {},
     "output_type": "execute_result"
    },
    {
     "data": {
      "image/png": "[encoded data removed]",
      "text/plain": [
       "<Figure size 432x288 with 1 Axes>"
      ]
     },
     "metadata": {},
     "output_type": "display_data"
    }
   ],
   "source": [
    "top10_jan.Distance_busstop.plot(kind='hist', alpha=.7)\n",
    "rest_jan.Distance_busstop.plot(kind='hist', alpha=.4)\n",
    "plt.title('Distance-Nearest bus stop')\n",
    "plt.xlabel('Distance unit')"
   ]
  },
  {
   "cell_type": "code",
   "execution_count": 33,
   "metadata": {},
   "outputs": [
    {
     "data": {
      "text/plain": [
       "Text(0.5, 0, 'Distance unit')"
      ]
     },
     "execution_count": 33,
     "metadata": {},
     "output_type": "execute_result"
    },
    {
     "data": {
      "image/png": "[encoded data removed]",
      "text/plain": [
       "<Figure size 432x288 with 1 Axes>"
      ]
     },
     "metadata": {},
     "output_type": "display_data"
    }
   ],
   "source": [
    "top10_jan.Distance_camera.plot(kind='hist', alpha=.7)\n",
    "rest_jan.Distance_camera.plot(kind='hist', alpha=.4)\n",
    "plt.title('Distance-Nearest speed camera')\n",
    "plt.xlabel('Distance unit')"
   ]
  },
  {
   "cell_type": "code",
   "execution_count": 34,
   "metadata": {},
   "outputs": [
    {
     "data": {
      "text/plain": [
       "Text(0.5, 0, 'Distance unit')"
      ]
     },
     "execution_count": 34,
     "metadata": {},
     "output_type": "execute_result"
    },
    {
     "data": {
      "image/png": "[encoded data removed]",
      "text/plain": [
       "<Figure size 432x288 with 1 Axes>"
      ]
     },
     "metadata": {},
     "output_type": "display_data"
    }
   ],
   "source": [
    "top10_jan.Distance_trafficsignal.plot(kind='hist', alpha=.7)\n",
    "rest_jan.Distance_trafficsignal.plot(kind='hist', alpha=.4)\n",
    "plt.title('Distance-Nearest traffic signal')\n",
    "plt.xlabel('Distance unit')"
   ]
  },
  {
   "cell_type": "code",
   "execution_count": 35,
   "metadata": {},
   "outputs": [
    {
     "data": {
      "text/plain": [
       "<matplotlib.axes._subplots.AxesSubplot at 0x7f204c2438d0>"
      ]
     },
     "execution_count": 35,
     "metadata": {},
     "output_type": "execute_result"
    },
    {
     "data": {
      "image/png": "[encoded data removed]",
      "text/plain": [
       "<Figure size 792x792 with 2 Axes>"
      ]
     },
     "metadata": {},
     "output_type": "display_data"
    }
   ],
   "source": [
    "# Confusion matrix to show linear correaltion among all features\n",
    "\n",
    "plt.figure(figsize=(11,11))\n",
    "matrix = np.triu(top10_jan.corr())\n",
    "sns.heatmap(top10_jan.corr(), annot=True, fmt='.1g', square=True, annot_kws={\"size\": 16}, mask=matrix)"
   ]
  },
  {
   "cell_type": "code",
   "execution_count": 36,
   "metadata": {
    "tags": []
   },
   "outputs": [
    {
     "name": "stdout",
     "output_type": "stream",
     "text": [
      "(4637618, 4)\n"
     ]
    },
    {
     "data": {
      "text/html": [
       "<div>\n",
       "<style scoped>\n",
       "    .dataframe tbody tr th:only-of-type {\n",
       "        vertical-align: middle;\n",
       "    }\n",
       "\n",
       "    .dataframe tbody tr th {\n",
       "        vertical-align: top;\n",
       "    }\n",
       "\n",
       "    .dataframe thead th {\n",
       "        text-align: right;\n",
       "    }\n",
       "</style>\n",
       "<table border=\"1\" class=\"dataframe\">\n",
       "  <thead>\n",
       "    <tr style=\"text-align: right;\">\n",
       "      <th></th>\n",
       "      <th>idTram</th>\n",
       "      <th>data</th>\n",
       "      <th>estatActual</th>\n",
       "      <th>estatPrevist</th>\n",
       "    </tr>\n",
       "  </thead>\n",
       "  <tbody>\n",
       "    <tr>\n",
       "      <th>0</th>\n",
       "      <td>1</td>\n",
       "      <td>20190501000552</td>\n",
       "      <td>1</td>\n",
       "      <td>0</td>\n",
       "    </tr>\n",
       "    <tr>\n",
       "      <th>1</th>\n",
       "      <td>2</td>\n",
       "      <td>20190501000552</td>\n",
       "      <td>1</td>\n",
       "      <td>0</td>\n",
       "    </tr>\n",
       "    <tr>\n",
       "      <th>2</th>\n",
       "      <td>3</td>\n",
       "      <td>20190501000552</td>\n",
       "      <td>1</td>\n",
       "      <td>0</td>\n",
       "    </tr>\n",
       "    <tr>\n",
       "      <th>3</th>\n",
       "      <td>4</td>\n",
       "      <td>20190501000552</td>\n",
       "      <td>1</td>\n",
       "      <td>0</td>\n",
       "    </tr>\n",
       "    <tr>\n",
       "      <th>4</th>\n",
       "      <td>5</td>\n",
       "      <td>20190501000552</td>\n",
       "      <td>1</td>\n",
       "      <td>0</td>\n",
       "    </tr>\n",
       "  </tbody>\n",
       "</table>\n",
       "</div>"
      ],
      "text/plain": [
       "   idTram            data  estatActual  estatPrevist\n",
       "0       1  20190501000552            1             0\n",
       "1       2  20190501000552            1             0\n",
       "2       3  20190501000552            1             0\n",
       "3       4  20190501000552            1             0\n",
       "4       5  20190501000552            1             0"
      ]
     },
     "execution_count": 36,
     "metadata": {},
     "output_type": "execute_result"
    }
   ],
   "source": [
    "# Is this tendency same in completely other moment of the year?\n",
    "# May 2019 (more active moment of the year, only 1 festivo as in Jan 2020)\n",
    "\n",
    "may_ = pd.read_csv('./data/2019_05_Maig_TRAMS_TRAMS.csv')\n",
    "print(may_.shape)\n",
    "may_.head()"
   ]
  },
  {
   "cell_type": "code",
   "execution_count": 37,
   "metadata": {
    "tags": []
   },
   "outputs": [
    {
     "name": "stdout",
     "output_type": "stream",
     "text": [
      "Proportion of empty rows?: 0.0\n",
      "Proportion of duplicated rows?: 0.0\n"
     ]
    }
   ],
   "source": [
    "# Check if there are corrupted data:\n",
    "# 1. empty rows\n",
    "# 2. duplicated data\n",
    "\n",
    "print(f'Proportion of empty rows?: {may_.isnull().any().mean()}')\n",
    "print(f'Proportion of duplicated rows?: {may_.duplicated().mean()}')"
   ]
  },
  {
   "cell_type": "code",
   "execution_count": 38,
   "metadata": {
    "tags": []
   },
   "outputs": [
    {
     "name": "stdout",
     "output_type": "stream",
     "text": [
      "How many rows lacks data (value=0)?: 2378753\n"
     ]
    }
   ],
   "source": [
    "# Actually, null values in this dataset is presented with value '0'\n",
    "# How many rows lacks data (value=0)?\n",
    "no_data = (may_['estatActual']==0) | (may_['estatPrevist']==0)\n",
    "print(f'How many rows lacks data (value=0)?: {len(may_[no_data])}')"
   ]
  },
  {
   "cell_type": "code",
   "execution_count": 39,
   "metadata": {
    "tags": []
   },
   "outputs": [
    {
     "name": "stdout",
     "output_type": "stream",
     "text": [
      "(2258865, 4)\n"
     ]
    },
    {
     "data": {
      "text/html": [
       "<div>\n",
       "<style scoped>\n",
       "    .dataframe tbody tr th:only-of-type {\n",
       "        vertical-align: middle;\n",
       "    }\n",
       "\n",
       "    .dataframe tbody tr th {\n",
       "        vertical-align: top;\n",
       "    }\n",
       "\n",
       "    .dataframe thead th {\n",
       "        text-align: right;\n",
       "    }\n",
       "</style>\n",
       "<table border=\"1\" class=\"dataframe\">\n",
       "  <thead>\n",
       "    <tr style=\"text-align: right;\">\n",
       "      <th></th>\n",
       "      <th>idTram</th>\n",
       "      <th>data</th>\n",
       "      <th>estatActual</th>\n",
       "      <th>estatPrevist</th>\n",
       "    </tr>\n",
       "  </thead>\n",
       "  <tbody>\n",
       "    <tr>\n",
       "      <th>36</th>\n",
       "      <td>37</td>\n",
       "      <td>20190501000552</td>\n",
       "      <td>4</td>\n",
       "      <td>5</td>\n",
       "    </tr>\n",
       "    <tr>\n",
       "      <th>56</th>\n",
       "      <td>57</td>\n",
       "      <td>20190501000552</td>\n",
       "      <td>1</td>\n",
       "      <td>5</td>\n",
       "    </tr>\n",
       "    <tr>\n",
       "      <th>57</th>\n",
       "      <td>58</td>\n",
       "      <td>20190501000552</td>\n",
       "      <td>1</td>\n",
       "      <td>5</td>\n",
       "    </tr>\n",
       "    <tr>\n",
       "      <th>143</th>\n",
       "      <td>144</td>\n",
       "      <td>20190501000552</td>\n",
       "      <td>1</td>\n",
       "      <td>5</td>\n",
       "    </tr>\n",
       "    <tr>\n",
       "      <th>276</th>\n",
       "      <td>277</td>\n",
       "      <td>20190501000552</td>\n",
       "      <td>2</td>\n",
       "      <td>5</td>\n",
       "    </tr>\n",
       "  </tbody>\n",
       "</table>\n",
       "</div>"
      ],
      "text/plain": [
       "     idTram            data  estatActual  estatPrevist\n",
       "36       37  20190501000552            4             5\n",
       "56       57  20190501000552            1             5\n",
       "57       58  20190501000552            1             5\n",
       "143     144  20190501000552            1             5\n",
       "276     277  20190501000552            2             5"
      ]
     },
     "execution_count": 39,
     "metadata": {},
     "output_type": "execute_result"
    }
   ],
   "source": [
    "# Let's remove these raws without data:\n",
    "\n",
    "may_2019_clean = may_[~no_data]\n",
    "print(may_2019_clean.shape)\n",
    "may_2019_clean.head()"
   ]
  },
  {
   "cell_type": "code",
   "execution_count": 40,
   "metadata": {
    "tags": []
   },
   "outputs": [
    {
     "name": "stdout",
     "output_type": "stream",
     "text": [
      "(278133, 4)\n"
     ]
    },
    {
     "data": {
      "text/html": [
       "<div>\n",
       "<style scoped>\n",
       "    .dataframe tbody tr th:only-of-type {\n",
       "        vertical-align: middle;\n",
       "    }\n",
       "\n",
       "    .dataframe tbody tr th {\n",
       "        vertical-align: top;\n",
       "    }\n",
       "\n",
       "    .dataframe thead th {\n",
       "        text-align: right;\n",
       "    }\n",
       "</style>\n",
       "<table border=\"1\" class=\"dataframe\">\n",
       "  <thead>\n",
       "    <tr style=\"text-align: right;\">\n",
       "      <th></th>\n",
       "      <th>idTram</th>\n",
       "      <th>data</th>\n",
       "      <th>estatActual</th>\n",
       "      <th>estatPrevist</th>\n",
       "    </tr>\n",
       "  </thead>\n",
       "  <tbody>\n",
       "    <tr>\n",
       "      <th>56</th>\n",
       "      <td>57</td>\n",
       "      <td>20190501000552</td>\n",
       "      <td>1</td>\n",
       "      <td>5</td>\n",
       "    </tr>\n",
       "    <tr>\n",
       "      <th>319</th>\n",
       "      <td>320</td>\n",
       "      <td>20190501000552</td>\n",
       "      <td>5</td>\n",
       "      <td>5</td>\n",
       "    </tr>\n",
       "    <tr>\n",
       "      <th>589</th>\n",
       "      <td>57</td>\n",
       "      <td>20190501000053</td>\n",
       "      <td>1</td>\n",
       "      <td>5</td>\n",
       "    </tr>\n",
       "    <tr>\n",
       "      <th>852</th>\n",
       "      <td>320</td>\n",
       "      <td>20190501000053</td>\n",
       "      <td>1</td>\n",
       "      <td>5</td>\n",
       "    </tr>\n",
       "    <tr>\n",
       "      <th>1066</th>\n",
       "      <td>1</td>\n",
       "      <td>20190501001053</td>\n",
       "      <td>1</td>\n",
       "      <td>1</td>\n",
       "    </tr>\n",
       "  </tbody>\n",
       "</table>\n",
       "</div>"
      ],
      "text/plain": [
       "      idTram            data  estatActual  estatPrevist\n",
       "56        57  20190501000552            1             5\n",
       "319      320  20190501000552            5             5\n",
       "589       57  20190501000053            1             5\n",
       "852      320  20190501000053            1             5\n",
       "1066       1  20190501001053            1             1"
      ]
     },
     "execution_count": 40,
     "metadata": {},
     "output_type": "execute_result"
    }
   ],
   "source": [
    "# Select IDs located on Av.Diagonal only\n",
    "\n",
    "mask = may_2019_clean['idTram'].isin(id_for_jan)\n",
    "diagonal_may = may_2019_clean[mask]\n",
    "\n",
    "print(diagonal_may.shape)\n",
    "diagonal_may.head()"
   ]
  },
  {
   "cell_type": "code",
   "execution_count": 41,
   "metadata": {},
   "outputs": [
    {
     "data": {
      "text/html": [
       "<div>\n",
       "<style scoped>\n",
       "    .dataframe tbody tr th:only-of-type {\n",
       "        vertical-align: middle;\n",
       "    }\n",
       "\n",
       "    .dataframe tbody tr th {\n",
       "        vertical-align: top;\n",
       "    }\n",
       "\n",
       "    .dataframe thead th {\n",
       "        text-align: right;\n",
       "    }\n",
       "</style>\n",
       "<table border=\"1\" class=\"dataframe\">\n",
       "  <thead>\n",
       "    <tr style=\"text-align: right;\">\n",
       "      <th></th>\n",
       "      <th>Tram</th>\n",
       "      <th>date</th>\n",
       "      <th>CurrentState</th>\n",
       "      <th>ExpectedState</th>\n",
       "    </tr>\n",
       "  </thead>\n",
       "  <tbody>\n",
       "    <tr>\n",
       "      <th>56</th>\n",
       "      <td>57</td>\n",
       "      <td>2019-05-01 00:05:52</td>\n",
       "      <td>1</td>\n",
       "      <td>5</td>\n",
       "    </tr>\n",
       "    <tr>\n",
       "      <th>319</th>\n",
       "      <td>320</td>\n",
       "      <td>2019-05-01 00:05:52</td>\n",
       "      <td>5</td>\n",
       "      <td>5</td>\n",
       "    </tr>\n",
       "    <tr>\n",
       "      <th>589</th>\n",
       "      <td>57</td>\n",
       "      <td>2019-05-01 00:00:53</td>\n",
       "      <td>1</td>\n",
       "      <td>5</td>\n",
       "    </tr>\n",
       "    <tr>\n",
       "      <th>852</th>\n",
       "      <td>320</td>\n",
       "      <td>2019-05-01 00:00:53</td>\n",
       "      <td>1</td>\n",
       "      <td>5</td>\n",
       "    </tr>\n",
       "    <tr>\n",
       "      <th>1066</th>\n",
       "      <td>1</td>\n",
       "      <td>2019-05-01 00:10:53</td>\n",
       "      <td>1</td>\n",
       "      <td>1</td>\n",
       "    </tr>\n",
       "  </tbody>\n",
       "</table>\n",
       "</div>"
      ],
      "text/plain": [
       "      Tram                date  CurrentState  ExpectedState\n",
       "56      57 2019-05-01 00:05:52             1              5\n",
       "319    320 2019-05-01 00:05:52             5              5\n",
       "589     57 2019-05-01 00:00:53             1              5\n",
       "852    320 2019-05-01 00:00:53             1              5\n",
       "1066     1 2019-05-01 00:10:53             1              1"
      ]
     },
     "execution_count": 41,
     "metadata": {},
     "output_type": "execute_result"
    }
   ],
   "source": [
    "# Modify the data:\n",
    "# 1. Change column names to english\n",
    "# 2. Change 'date' column into datetime type\n",
    "\n",
    "diagonal_may = diagonal_may.rename(columns=new_names)\n",
    "    \n",
    "# 2. 'date' column as a datetime type\n",
    "diagonal_may['date'] = pd.to_datetime(diagonal_may['date'].astype(str), yearfirst=True)\n",
    "\n",
    "diagonal_may.head()"
   ]
  },
  {
   "cell_type": "code",
   "execution_count": 42,
   "metadata": {},
   "outputs": [
    {
     "data": {
      "text/html": [
       "<div>\n",
       "<style scoped>\n",
       "    .dataframe tbody tr th:only-of-type {\n",
       "        vertical-align: middle;\n",
       "    }\n",
       "\n",
       "    .dataframe tbody tr th {\n",
       "        vertical-align: top;\n",
       "    }\n",
       "\n",
       "    .dataframe thead th {\n",
       "        text-align: right;\n",
       "    }\n",
       "</style>\n",
       "<table border=\"1\" class=\"dataframe\">\n",
       "  <thead>\n",
       "    <tr style=\"text-align: right;\">\n",
       "      <th></th>\n",
       "      <th>Tram</th>\n",
       "      <th>date</th>\n",
       "      <th>CurrentState</th>\n",
       "      <th>ExpectedState</th>\n",
       "      <th>Weekday</th>\n",
       "    </tr>\n",
       "  </thead>\n",
       "  <tbody>\n",
       "    <tr>\n",
       "      <th>319</th>\n",
       "      <td>320</td>\n",
       "      <td>2019-05-01 00:05:52</td>\n",
       "      <td>5</td>\n",
       "      <td>5</td>\n",
       "      <td>Wednesday</td>\n",
       "    </tr>\n",
       "    <tr>\n",
       "      <th>2451</th>\n",
       "      <td>320</td>\n",
       "      <td>2019-05-01 00:20:52</td>\n",
       "      <td>5</td>\n",
       "      <td>4</td>\n",
       "      <td>Wednesday</td>\n",
       "    </tr>\n",
       "    <tr>\n",
       "      <th>10979</th>\n",
       "      <td>320</td>\n",
       "      <td>2019-05-01 01:40:52</td>\n",
       "      <td>5</td>\n",
       "      <td>2</td>\n",
       "      <td>Wednesday</td>\n",
       "    </tr>\n",
       "    <tr>\n",
       "      <th>15243</th>\n",
       "      <td>320</td>\n",
       "      <td>2019-05-01 02:20:53</td>\n",
       "      <td>5</td>\n",
       "      <td>5</td>\n",
       "      <td>Wednesday</td>\n",
       "    </tr>\n",
       "    <tr>\n",
       "      <th>18974</th>\n",
       "      <td>320</td>\n",
       "      <td>2019-05-01 02:55:52</td>\n",
       "      <td>5</td>\n",
       "      <td>5</td>\n",
       "      <td>Wednesday</td>\n",
       "    </tr>\n",
       "  </tbody>\n",
       "</table>\n",
       "</div>"
      ],
      "text/plain": [
       "       Tram                date  CurrentState  ExpectedState    Weekday\n",
       "319     320 2019-05-01 00:05:52             5              5  Wednesday\n",
       "2451    320 2019-05-01 00:20:52             5              4  Wednesday\n",
       "10979   320 2019-05-01 01:40:52             5              2  Wednesday\n",
       "15243   320 2019-05-01 02:20:53             5              5  Wednesday\n",
       "18974   320 2019-05-01 02:55:52             5              5  Wednesday"
      ]
     },
     "execution_count": 42,
     "metadata": {},
     "output_type": "execute_result"
    }
   ],
   "source": [
    "# Let's further modity the 'date' column\n",
    "\n",
    "#1. Add day of the week info by creating a new column:\n",
    "diagonal_may['Weekday'] = diagonal_may.date.dt.day_name()\n",
    "\n",
    "#2. Let's introduce 'rush hour' to our data\n",
    "rush_hour = diagonal_may.CurrentState >= 5\n",
    "diagonal_may_rh = diagonal_may[rush_hour]\n",
    "\n",
    "diagonal_may_rh.head()"
   ]
  },
  {
   "cell_type": "code",
   "execution_count": 43,
   "metadata": {},
   "outputs": [
    {
     "data": {
      "text/plain": [
       "Text(0.5, 0, 'Section ID')"
      ]
     },
     "execution_count": 43,
     "metadata": {},
     "output_type": "execute_result"
    },
    {
     "data": {
      "image/png": "[encoded data removed]",
      "text/plain": [
       "<Figure size 792x360 with 1 Axes>"
      ]
     },
     "metadata": {},
     "output_type": "display_data"
    }
   ],
   "source": [
    "# Plot the frequency of congestion or blockage of traffic (CurrentState>=5)\n",
    "# at each section IDs (of Diagonal's)\n",
    "\n",
    "plt.figure(figsize=(11,5))\n",
    "diagonal_may_rh.Tram.value_counts().plot(kind='bar')\n",
    "plt.title('Frequency of congestion (>=5) in May 2019')\n",
    "plt.ylabel('# times')\n",
    "plt.xlabel('Section ID')"
   ]
  },
  {
   "cell_type": "code",
   "execution_count": 44,
   "metadata": {
    "tags": []
   },
   "outputs": [
    {
     "name": "stdout",
     "output_type": "stream",
     "text": [
      "(7958, 5)\n"
     ]
    }
   ],
   "source": [
    "# Select the top 10 most frequently congested sections\n",
    "\n",
    "top10_may = diagonal_may_rh.Tram.value_counts()[:10].index\n",
    "\n",
    "mask = diagonal_may_rh['Tram'].isin(top10_may)\n",
    "top10_may = diagonal_may_rh[mask]\n",
    "\n",
    "print(top10_may.shape)"
   ]
  },
  {
   "cell_type": "code",
   "execution_count": null,
   "metadata": {},
   "outputs": [],
   "source": []
  },
  {
   "cell_type": "code",
   "execution_count": 45,
   "metadata": {
    "tags": []
   },
   "outputs": [
    {
     "name": "stdout",
     "output_type": "stream",
     "text": [
      "(7958, 14)\n"
     ]
    },
    {
     "data": {
      "text/html": [
       "<div>\n",
       "<style scoped>\n",
       "    .dataframe tbody tr th:only-of-type {\n",
       "        vertical-align: middle;\n",
       "    }\n",
       "\n",
       "    .dataframe tbody tr th {\n",
       "        vertical-align: top;\n",
       "    }\n",
       "\n",
       "    .dataframe thead th {\n",
       "        text-align: right;\n",
       "    }\n",
       "</style>\n",
       "<table border=\"1\" class=\"dataframe\">\n",
       "  <thead>\n",
       "    <tr style=\"text-align: right;\">\n",
       "      <th></th>\n",
       "      <th>Tram</th>\n",
       "      <th>date</th>\n",
       "      <th>CurrentState</th>\n",
       "      <th>ExpectedState</th>\n",
       "      <th>Weekday</th>\n",
       "      <th>Description</th>\n",
       "      <th>Primary</th>\n",
       "      <th>Secondary</th>\n",
       "      <th>BusstopID</th>\n",
       "      <th>Distance_busstop</th>\n",
       "      <th>MaxSpeed</th>\n",
       "      <th>Distance_camera</th>\n",
       "      <th>TrafficSignalID</th>\n",
       "      <th>Distance_trafficsignal</th>\n",
       "    </tr>\n",
       "  </thead>\n",
       "  <tbody>\n",
       "    <tr>\n",
       "      <th>0</th>\n",
       "      <td>320</td>\n",
       "      <td>2019-05-01 00:05:52</td>\n",
       "      <td>5</td>\n",
       "      <td>5</td>\n",
       "      <td>Wednesday</td>\n",
       "      <td>Meridiana (Pl. de les Glòries a Aragó)</td>\n",
       "      <td>0</td>\n",
       "      <td>0</td>\n",
       "      <td>n5760480313</td>\n",
       "      <td>0.001188</td>\n",
       "      <td>NaN</td>\n",
       "      <td>0.004786</td>\n",
       "      <td>n4637945307</td>\n",
       "      <td>0.000291</td>\n",
       "    </tr>\n",
       "    <tr>\n",
       "      <th>1</th>\n",
       "      <td>320</td>\n",
       "      <td>2019-05-01 00:20:52</td>\n",
       "      <td>5</td>\n",
       "      <td>4</td>\n",
       "      <td>Wednesday</td>\n",
       "      <td>Meridiana (Pl. de les Glòries a Aragó)</td>\n",
       "      <td>0</td>\n",
       "      <td>0</td>\n",
       "      <td>n5760480313</td>\n",
       "      <td>0.001188</td>\n",
       "      <td>NaN</td>\n",
       "      <td>0.004786</td>\n",
       "      <td>n4637945307</td>\n",
       "      <td>0.000291</td>\n",
       "    </tr>\n",
       "    <tr>\n",
       "      <th>2</th>\n",
       "      <td>320</td>\n",
       "      <td>2019-05-01 01:40:52</td>\n",
       "      <td>5</td>\n",
       "      <td>2</td>\n",
       "      <td>Wednesday</td>\n",
       "      <td>Meridiana (Pl. de les Glòries a Aragó)</td>\n",
       "      <td>0</td>\n",
       "      <td>0</td>\n",
       "      <td>n5760480313</td>\n",
       "      <td>0.001188</td>\n",
       "      <td>NaN</td>\n",
       "      <td>0.004786</td>\n",
       "      <td>n4637945307</td>\n",
       "      <td>0.000291</td>\n",
       "    </tr>\n",
       "    <tr>\n",
       "      <th>3</th>\n",
       "      <td>320</td>\n",
       "      <td>2019-05-01 02:20:53</td>\n",
       "      <td>5</td>\n",
       "      <td>5</td>\n",
       "      <td>Wednesday</td>\n",
       "      <td>Meridiana (Pl. de les Glòries a Aragó)</td>\n",
       "      <td>0</td>\n",
       "      <td>0</td>\n",
       "      <td>n5760480313</td>\n",
       "      <td>0.001188</td>\n",
       "      <td>NaN</td>\n",
       "      <td>0.004786</td>\n",
       "      <td>n4637945307</td>\n",
       "      <td>0.000291</td>\n",
       "    </tr>\n",
       "    <tr>\n",
       "      <th>4</th>\n",
       "      <td>320</td>\n",
       "      <td>2019-05-01 02:55:52</td>\n",
       "      <td>5</td>\n",
       "      <td>5</td>\n",
       "      <td>Wednesday</td>\n",
       "      <td>Meridiana (Pl. de les Glòries a Aragó)</td>\n",
       "      <td>0</td>\n",
       "      <td>0</td>\n",
       "      <td>n5760480313</td>\n",
       "      <td>0.001188</td>\n",
       "      <td>NaN</td>\n",
       "      <td>0.004786</td>\n",
       "      <td>n4637945307</td>\n",
       "      <td>0.000291</td>\n",
       "    </tr>\n",
       "  </tbody>\n",
       "</table>\n",
       "</div>"
      ],
      "text/plain": [
       "   Tram                date  CurrentState  ExpectedState    Weekday  \\\n",
       "0   320 2019-05-01 00:05:52             5              5  Wednesday   \n",
       "1   320 2019-05-01 00:20:52             5              4  Wednesday   \n",
       "2   320 2019-05-01 01:40:52             5              2  Wednesday   \n",
       "3   320 2019-05-01 02:20:53             5              5  Wednesday   \n",
       "4   320 2019-05-01 02:55:52             5              5  Wednesday   \n",
       "\n",
       "                              Description  Primary  Secondary    BusstopID  \\\n",
       "0  Meridiana (Pl. de les Glòries a Aragó)        0          0  n5760480313   \n",
       "1  Meridiana (Pl. de les Glòries a Aragó)        0          0  n5760480313   \n",
       "2  Meridiana (Pl. de les Glòries a Aragó)        0          0  n5760480313   \n",
       "3  Meridiana (Pl. de les Glòries a Aragó)        0          0  n5760480313   \n",
       "4  Meridiana (Pl. de les Glòries a Aragó)        0          0  n5760480313   \n",
       "\n",
       "   Distance_busstop  MaxSpeed  Distance_camera TrafficSignalID  \\\n",
       "0          0.001188       NaN         0.004786     n4637945307   \n",
       "1          0.001188       NaN         0.004786     n4637945307   \n",
       "2          0.001188       NaN         0.004786     n4637945307   \n",
       "3          0.001188       NaN         0.004786     n4637945307   \n",
       "4          0.001188       NaN         0.004786     n4637945307   \n",
       "\n",
       "   Distance_trafficsignal  \n",
       "0                0.000291  \n",
       "1                0.000291  \n",
       "2                0.000291  \n",
       "3                0.000291  \n",
       "4                0.000291  "
      ]
     },
     "execution_count": 45,
     "metadata": {},
     "output_type": "execute_result"
    }
   ],
   "source": [
    "# Join with diagonal_merged attributes:\n",
    "top10_may_id = top10_may['Tram'].unique()\n",
    "top_ids = [id for id in top10_id if id in top10_may_id]\n",
    "\n",
    "top10_may = top10_may.merge(diagonal_merged, on='Tram', how='inner', copy=False)\n",
    "print(top10_may.shape)\n",
    "top10_may.head()"
   ]
  },
  {
   "cell_type": "code",
   "execution_count": 46,
   "metadata": {},
   "outputs": [
    {
     "data": {
      "text/plain": [
       "<matplotlib.axes._subplots.AxesSubplot at 0x7f2033edb850>"
      ]
     },
     "execution_count": 46,
     "metadata": {},
     "output_type": "execute_result"
    },
    {
     "data": {
      "image/png": "[encoded data removed]",
      "text/plain": [
       "<Figure size 864x576 with 1 Axes>"
      ]
     },
     "metadata": {},
     "output_type": "display_data"
    }
   ],
   "source": [
    "# Frequency of traffic congestion (>=5) in May, 2019\n",
    "# Observation from top10 IDs\n",
    "# Grouped by: date\n",
    " \n",
    "plt.figure(figsize=(12,8))\n",
    "sns.countplot(top10_may.date.dt.day, palette='cividis')"
   ]
  },
  {
   "cell_type": "code",
   "execution_count": 47,
   "metadata": {},
   "outputs": [
    {
     "data": {
      "text/plain": [
       "Text(0.5, 1.0, 'May 2019')"
      ]
     },
     "execution_count": 47,
     "metadata": {},
     "output_type": "execute_result"
    },
    {
     "data": {
      "image/png": "[encoded data removed]",
      "text/plain": [
       "<Figure size 864x576 with 1 Axes>"
      ]
     },
     "metadata": {},
     "output_type": "display_data"
    }
   ],
   "source": [
    "# Frequency of traffic congestion (>=5) in May, 2019\n",
    "# Observation from top10 IDs\n",
    "# Grouped by: weekday\n",
    " \n",
    "plt.figure(figsize=(12,8))\n",
    "order_of_days = ['Monday', 'Tuesday', 'Wednesday', 'Thursday', 'Friday', 'Saturday', 'Sunday']\n",
    "sns.countplot(top10_may.Weekday, palette='cividis', order=order_of_days)\n",
    "plt.title('May 2019')"
   ]
  },
  {
   "cell_type": "code",
   "execution_count": 48,
   "metadata": {},
   "outputs": [],
   "source": [
    "only_tuesday_may = top10_may[top10_may.Weekday == 'Tuesday']\n",
    "only_friday_may = top10_may[top10_may.Weekday == 'Friday']"
   ]
  },
  {
   "cell_type": "code",
   "execution_count": 49,
   "metadata": {},
   "outputs": [
    {
     "data": {
      "image/png": "[encoded data removed]",
      "text/plain": [
       "<Figure size 720x432 with 1 Axes>"
      ]
     },
     "metadata": {},
     "output_type": "display_data"
    }
   ],
   "source": [
    "plt.figure(figsize=(10,6))\n",
    "sns.countplot(only_tuesday_may.date.dt.hour, palette='OrRd', order=np.arange(0,24))\n",
    "plt.title('Tuesday - May 2019')\n",
    "plt.xlabel('hour')\n",
    "plt.show()"
   ]
  },
  {
   "cell_type": "code",
   "execution_count": 50,
   "metadata": {},
   "outputs": [
    {
     "data": {
      "text/plain": [
       "Text(0.5, 0, 'hour')"
      ]
     },
     "execution_count": 50,
     "metadata": {},
     "output_type": "execute_result"
    },
    {
     "data": {
      "image/png": "[encoded data removed]",
      "text/plain": [
       "<Figure size 720x432 with 1 Axes>"
      ]
     },
     "metadata": {},
     "output_type": "display_data"
    }
   ],
   "source": [
    "plt.figure(figsize=(10,6))\n",
    "sns.countplot(only_friday_may.date.dt.hour, palette='OrRd', order=np.arange(0,24))\n",
    "plt.title('Friday - May 2019')\n",
    "plt.xlabel('hour')"
   ]
  },
  {
   "cell_type": "code",
   "execution_count": 51,
   "metadata": {},
   "outputs": [
    {
     "data": {
      "text/plain": [
       "<matplotlib.axes._subplots.AxesSubplot at 0x7f2033cd5150>"
      ]
     },
     "execution_count": 51,
     "metadata": {},
     "output_type": "execute_result"
    },
    {
     "data": {
      "image/png": "[encoded data removed]",
      "text/plain": [
       "<Figure size 792x792 with 2 Axes>"
      ]
     },
     "metadata": {},
     "output_type": "display_data"
    }
   ],
   "source": [
    "# Confusion matrix to show linear correaltion among all features\n",
    "\n",
    "plt.figure(figsize=(11,11))\n",
    "matrix = np.triu(top10_may.corr())\n",
    "sns.heatmap(top10_may.corr(), annot=True, fmt='.1g', square=True, annot_kws={\"size\": 16}, mask=matrix)"
   ]
  },
  {
   "cell_type": "code",
   "execution_count": 52,
   "metadata": {},
   "outputs": [
    {
     "data": {
      "text/plain": [
       "[320, 5, 517, 386, 4, 57, 8, 3]"
      ]
     },
     "execution_count": 52,
     "metadata": {},
     "output_type": "execute_result"
    }
   ],
   "source": [
    "# There are overlapping section IDs between Jan-2020 and May-2019 data\n",
    "\n",
    "overlap_IDs = [i for i in top10_jan.Tram.unique() if i in top10_may_id]\n",
    "overlap_IDs\n"
   ]
  },
  {
   "cell_type": "code",
   "execution_count": 53,
   "metadata": {
    "scrolled": true
   },
   "outputs": [
    {
     "data": {
      "text/html": [
       "<div>\n",
       "<style scoped>\n",
       "    .dataframe tbody tr th:only-of-type {\n",
       "        vertical-align: middle;\n",
       "    }\n",
       "\n",
       "    .dataframe tbody tr th {\n",
       "        vertical-align: top;\n",
       "    }\n",
       "\n",
       "    .dataframe thead th {\n",
       "        text-align: right;\n",
       "    }\n",
       "</style>\n",
       "<table border=\"1\" class=\"dataframe\">\n",
       "  <thead>\n",
       "    <tr style=\"text-align: right;\">\n",
       "      <th></th>\n",
       "      <th>Tram</th>\n",
       "      <th>Description</th>\n",
       "    </tr>\n",
       "  </thead>\n",
       "  <tbody>\n",
       "    <tr>\n",
       "      <th>16</th>\n",
       "      <td>3</td>\n",
       "      <td>Diagonal (Doctor Marañón a Pl. Pius XII)</td>\n",
       "    </tr>\n",
       "    <tr>\n",
       "      <th>24</th>\n",
       "      <td>4</td>\n",
       "      <td>Diagonal (Pl. Pius XII a Doctor Marañón)</td>\n",
       "    </tr>\n",
       "    <tr>\n",
       "      <th>32</th>\n",
       "      <td>5</td>\n",
       "      <td>Diagonal (Pl. Pius XII a Pl. Maria Cristina)</td>\n",
       "    </tr>\n",
       "    <tr>\n",
       "      <th>56</th>\n",
       "      <td>8</td>\n",
       "      <td>Diagonal (Numància a Pl. Maria Cristina)</td>\n",
       "    </tr>\n",
       "    <tr>\n",
       "      <th>128</th>\n",
       "      <td>57</td>\n",
       "      <td>Ganduxer (Diagonal a Pl. Gregori Tramaturg)</td>\n",
       "    </tr>\n",
       "    <tr>\n",
       "      <th>336</th>\n",
       "      <td>320</td>\n",
       "      <td>Meridiana (Pl. de les Glòries a Aragó)</td>\n",
       "    </tr>\n",
       "    <tr>\n",
       "      <th>352</th>\n",
       "      <td>386</td>\n",
       "      <td>Consell de Cent (Av. Diagonal a Av. Meridiana)</td>\n",
       "    </tr>\n",
       "    <tr>\n",
       "      <th>464</th>\n",
       "      <td>517</td>\n",
       "      <td>Ronda de Dalt (Diagonal a Carretera d'Esplugues)</td>\n",
       "    </tr>\n",
       "  </tbody>\n",
       "</table>\n",
       "</div>"
      ],
      "text/plain": [
       "     Tram                                       Description\n",
       "16      3          Diagonal (Doctor Marañón a Pl. Pius XII)\n",
       "24      4          Diagonal (Pl. Pius XII a Doctor Marañón)\n",
       "32      5      Diagonal (Pl. Pius XII a Pl. Maria Cristina)\n",
       "56      8          Diagonal (Numància a Pl. Maria Cristina)\n",
       "128    57       Ganduxer (Diagonal a Pl. Gregori Tramaturg)\n",
       "336   320            Meridiana (Pl. de les Glòries a Aragó)\n",
       "352   386    Consell de Cent (Av. Diagonal a Av. Meridiana)\n",
       "464   517  Ronda de Dalt (Diagonal a Carretera d'Esplugues)"
      ]
     },
     "execution_count": 53,
     "metadata": {},
     "output_type": "execute_result"
    }
   ],
   "source": [
    "mask = diagonal_merged['Tram'].isin(overlap_IDs)\n",
    "diagonal_merged[mask][['Tram','Description']]"
   ]
  },
  {
   "cell_type": "markdown",
   "metadata": {},
   "source": [
    "# Modeling"
   ]
  },
  {
   "cell_type": "code",
   "execution_count": 54,
   "metadata": {},
   "outputs": [
    {
     "data": {
      "text/html": [
       "<div>\n",
       "<style scoped>\n",
       "    .dataframe tbody tr th:only-of-type {\n",
       "        vertical-align: middle;\n",
       "    }\n",
       "\n",
       "    .dataframe tbody tr th {\n",
       "        vertical-align: top;\n",
       "    }\n",
       "\n",
       "    .dataframe thead th {\n",
       "        text-align: right;\n",
       "    }\n",
       "</style>\n",
       "<table border=\"1\" class=\"dataframe\">\n",
       "  <thead>\n",
       "    <tr style=\"text-align: right;\">\n",
       "      <th></th>\n",
       "      <th>Tram</th>\n",
       "      <th>date</th>\n",
       "      <th>CurrentState</th>\n",
       "      <th>ExpectedState</th>\n",
       "      <th>Weekday</th>\n",
       "    </tr>\n",
       "  </thead>\n",
       "  <tbody>\n",
       "    <tr>\n",
       "      <th>1116</th>\n",
       "      <td>63</td>\n",
       "      <td>2020-01-01 00:10:52</td>\n",
       "      <td>1</td>\n",
       "      <td>1</td>\n",
       "      <td>Wednesday</td>\n",
       "    </tr>\n",
       "    <tr>\n",
       "      <th>1175</th>\n",
       "      <td>122</td>\n",
       "      <td>2020-01-01 00:10:52</td>\n",
       "      <td>1</td>\n",
       "      <td>2</td>\n",
       "      <td>Wednesday</td>\n",
       "    </tr>\n",
       "    <tr>\n",
       "      <th>1233</th>\n",
       "      <td>180</td>\n",
       "      <td>2020-01-01 00:10:52</td>\n",
       "      <td>1</td>\n",
       "      <td>2</td>\n",
       "      <td>Wednesday</td>\n",
       "    </tr>\n",
       "    <tr>\n",
       "      <th>1259</th>\n",
       "      <td>206</td>\n",
       "      <td>2020-01-01 00:10:52</td>\n",
       "      <td>2</td>\n",
       "      <td>2</td>\n",
       "      <td>Wednesday</td>\n",
       "    </tr>\n",
       "    <tr>\n",
       "      <th>1318</th>\n",
       "      <td>265</td>\n",
       "      <td>2020-01-01 00:10:52</td>\n",
       "      <td>2</td>\n",
       "      <td>2</td>\n",
       "      <td>Wednesday</td>\n",
       "    </tr>\n",
       "  </tbody>\n",
       "</table>\n",
       "</div>"
      ],
      "text/plain": [
       "      Tram                date  CurrentState  ExpectedState    Weekday\n",
       "1116    63 2020-01-01 00:10:52             1              1  Wednesday\n",
       "1175   122 2020-01-01 00:10:52             1              2  Wednesday\n",
       "1233   180 2020-01-01 00:10:52             1              2  Wednesday\n",
       "1259   206 2020-01-01 00:10:52             2              2  Wednesday\n",
       "1318   265 2020-01-01 00:10:52             2              2  Wednesday"
      ]
     },
     "execution_count": 54,
     "metadata": {},
     "output_type": "execute_result"
    }
   ],
   "source": [
    "diagonal_jan.head()"
   ]
  },
  {
   "cell_type": "code",
   "execution_count": 55,
   "metadata": {},
   "outputs": [],
   "source": [
    "jan_model = diagonal_jan.merge(diagonal_merged, on='Tram', how='left', copy=False)"
   ]
  },
  {
   "cell_type": "code",
   "execution_count": 56,
   "metadata": {},
   "outputs": [],
   "source": [
    "# First, check all csv files of this directory\n",
    "file_list = [file for file in glob.glob(\"./data/traffic/first-half/*.csv\")]\n",
    "# Sort the list by ascending order\n",
    "file_list = np.sort(file_list)"
   ]
  },
  {
   "cell_type": "code",
   "execution_count": 57,
   "metadata": {},
   "outputs": [
    {
     "data": {
      "text/plain": [
       "array(['./data/traffic/first-half/2019_01_Gener_TRAMS_TRAMS.csv',\n",
       "       './data/traffic/first-half/2019_02_Febrer_TRAMS_TRAMS.csv',\n",
       "       './data/traffic/first-half/2019_03_Marc_TRAMS_TRAMS.csv',\n",
       "       './data/traffic/first-half/2019_04_Abril_TRAMS_TRAMS.csv',\n",
       "       './data/traffic/first-half/2019_05_Maig_TRAMS_TRAMS.csv',\n",
       "       './data/traffic/first-half/2019_06_Juny_TRAMS_TRAMS.csv',\n",
       "       './data/traffic/first-half/2019_07_Juliol_TRAMS_TRAMS.csv'],\n",
       "      dtype='<U56')"
      ]
     },
     "execution_count": 57,
     "metadata": {},
     "output_type": "execute_result"
    }
   ],
   "source": [
    "file_list"
   ]
  },
  {
   "cell_type": "code",
   "execution_count": 58,
   "metadata": {},
   "outputs": [],
   "source": [
    "# Each file is big -> don't concatenate\n",
    "# Use list comprehension to crete a list of multiple dataframes\n",
    "traffics = [pd.read_csv(file) for file in file_list]"
   ]
  },
  {
   "cell_type": "code",
   "execution_count": 59,
   "metadata": {},
   "outputs": [
    {
     "data": {
      "text/html": [
       "<div>\n",
       "<style scoped>\n",
       "    .dataframe tbody tr th:only-of-type {\n",
       "        vertical-align: middle;\n",
       "    }\n",
       "\n",
       "    .dataframe tbody tr th {\n",
       "        vertical-align: top;\n",
       "    }\n",
       "\n",
       "    .dataframe thead th {\n",
       "        text-align: right;\n",
       "    }\n",
       "</style>\n",
       "<table border=\"1\" class=\"dataframe\">\n",
       "  <thead>\n",
       "    <tr style=\"text-align: right;\">\n",
       "      <th></th>\n",
       "      <th>idTram</th>\n",
       "      <th>data</th>\n",
       "      <th>estatActual</th>\n",
       "      <th>estatPrevist</th>\n",
       "    </tr>\n",
       "  </thead>\n",
       "  <tbody>\n",
       "    <tr>\n",
       "      <th>537</th>\n",
       "      <td>5</td>\n",
       "      <td>20190101003550</td>\n",
       "      <td>1</td>\n",
       "      <td>2</td>\n",
       "    </tr>\n",
       "    <tr>\n",
       "      <th>540</th>\n",
       "      <td>8</td>\n",
       "      <td>20190101003550</td>\n",
       "      <td>1</td>\n",
       "      <td>1</td>\n",
       "    </tr>\n",
       "    <tr>\n",
       "      <th>918</th>\n",
       "      <td>386</td>\n",
       "      <td>20190101003550</td>\n",
       "      <td>1</td>\n",
       "      <td>1</td>\n",
       "    </tr>\n",
       "    <tr>\n",
       "      <th>1042</th>\n",
       "      <td>517</td>\n",
       "      <td>20190101003550</td>\n",
       "      <td>1</td>\n",
       "      <td>1</td>\n",
       "    </tr>\n",
       "    <tr>\n",
       "      <th>1070</th>\n",
       "      <td>5</td>\n",
       "      <td>20190101010051</td>\n",
       "      <td>2</td>\n",
       "      <td>2</td>\n",
       "    </tr>\n",
       "  </tbody>\n",
       "</table>\n",
       "</div>"
      ],
      "text/plain": [
       "      idTram            data  estatActual  estatPrevist\n",
       "537        5  20190101003550            1             2\n",
       "540        8  20190101003550            1             1\n",
       "918      386  20190101003550            1             1\n",
       "1042     517  20190101003550            1             1\n",
       "1070       5  20190101010051            2             2"
      ]
     },
     "execution_count": 59,
     "metadata": {},
     "output_type": "execute_result"
    }
   ],
   "source": [
    "traffic_df = pd.DataFrame()\n",
    "\n",
    "for traffic in traffics:\n",
    "    no_data = (traffic['estatActual']==0) | (traffic['estatPrevist']==0)  # value 0: no data\n",
    "    traffic_clean = traffic[~no_data] # Remove 'no data' rows\n",
    "    mask = traffic_clean['idTram'].isin(overlap_IDs) # select only the most busy section IDs\n",
    "    traffic_top8 = traffic_clean[mask]\n",
    "    traffic_df = traffic_df.append(traffic_top8)\n",
    "\n",
    "traffic_df.head()"
   ]
  },
  {
   "cell_type": "code",
   "execution_count": 60,
   "metadata": {},
   "outputs": [
    {
     "data": {
      "text/plain": [
       "(216122, 4)"
      ]
     },
     "execution_count": 60,
     "metadata": {},
     "output_type": "execute_result"
    }
   ],
   "source": [
    "traffic_df.shape"
   ]
  },
  {
   "cell_type": "code",
   "execution_count": 61,
   "metadata": {},
   "outputs": [
    {
     "data": {
      "text/html": [
       "<div>\n",
       "<style scoped>\n",
       "    .dataframe tbody tr th:only-of-type {\n",
       "        vertical-align: middle;\n",
       "    }\n",
       "\n",
       "    .dataframe tbody tr th {\n",
       "        vertical-align: top;\n",
       "    }\n",
       "\n",
       "    .dataframe thead th {\n",
       "        text-align: right;\n",
       "    }\n",
       "</style>\n",
       "<table border=\"1\" class=\"dataframe\">\n",
       "  <thead>\n",
       "    <tr style=\"text-align: right;\">\n",
       "      <th></th>\n",
       "      <th>Tram</th>\n",
       "      <th>date</th>\n",
       "      <th>CurrentState</th>\n",
       "      <th>ExpectedState</th>\n",
       "    </tr>\n",
       "  </thead>\n",
       "  <tbody>\n",
       "    <tr>\n",
       "      <th>537</th>\n",
       "      <td>5</td>\n",
       "      <td>2019-01-01 00:35:50</td>\n",
       "      <td>1</td>\n",
       "      <td>2</td>\n",
       "    </tr>\n",
       "    <tr>\n",
       "      <th>540</th>\n",
       "      <td>8</td>\n",
       "      <td>2019-01-01 00:35:50</td>\n",
       "      <td>1</td>\n",
       "      <td>1</td>\n",
       "    </tr>\n",
       "    <tr>\n",
       "      <th>918</th>\n",
       "      <td>386</td>\n",
       "      <td>2019-01-01 00:35:50</td>\n",
       "      <td>1</td>\n",
       "      <td>1</td>\n",
       "    </tr>\n",
       "    <tr>\n",
       "      <th>1042</th>\n",
       "      <td>517</td>\n",
       "      <td>2019-01-01 00:35:50</td>\n",
       "      <td>1</td>\n",
       "      <td>1</td>\n",
       "    </tr>\n",
       "    <tr>\n",
       "      <th>1070</th>\n",
       "      <td>5</td>\n",
       "      <td>2019-01-01 01:00:51</td>\n",
       "      <td>2</td>\n",
       "      <td>2</td>\n",
       "    </tr>\n",
       "  </tbody>\n",
       "</table>\n",
       "</div>"
      ],
      "text/plain": [
       "      Tram                date  CurrentState  ExpectedState\n",
       "537      5 2019-01-01 00:35:50             1              2\n",
       "540      8 2019-01-01 00:35:50             1              1\n",
       "918    386 2019-01-01 00:35:50             1              1\n",
       "1042   517 2019-01-01 00:35:50             1              1\n",
       "1070     5 2019-01-01 01:00:51             2              2"
      ]
     },
     "execution_count": 61,
     "metadata": {},
     "output_type": "execute_result"
    }
   ],
   "source": [
    "# Modify the data:\n",
    "# 1. Change column names to english\n",
    "# 2. Change 'date' column into datetime type\n",
    "\n",
    "new_names = {\"idTram\": \"Tram\", \"data\": \"date\", \"estatActual\": \"CurrentState\", \"estatPrevist\": \"ExpectedState\"}\n",
    "traffic_df = traffic_df.rename(columns=new_names)\n",
    "    \n",
    "# 2. 'date' column as a datetime type\n",
    "traffic_df['date'] = pd.to_datetime(traffic_df['date'].astype(str), yearfirst=True)\n",
    "\n",
    "traffic_df.head()"
   ]
  },
  {
   "cell_type": "code",
   "execution_count": 62,
   "metadata": {},
   "outputs": [
    {
     "data": {
      "text/html": [
       "<div>\n",
       "<style scoped>\n",
       "    .dataframe tbody tr th:only-of-type {\n",
       "        vertical-align: middle;\n",
       "    }\n",
       "\n",
       "    .dataframe tbody tr th {\n",
       "        vertical-align: top;\n",
       "    }\n",
       "\n",
       "    .dataframe thead th {\n",
       "        text-align: right;\n",
       "    }\n",
       "</style>\n",
       "<table border=\"1\" class=\"dataframe\">\n",
       "  <thead>\n",
       "    <tr style=\"text-align: right;\">\n",
       "      <th></th>\n",
       "      <th>Tram</th>\n",
       "      <th>date</th>\n",
       "      <th>CurrentState</th>\n",
       "      <th>ExpectedState</th>\n",
       "      <th>Weekday</th>\n",
       "    </tr>\n",
       "  </thead>\n",
       "  <tbody>\n",
       "    <tr>\n",
       "      <th>537</th>\n",
       "      <td>5</td>\n",
       "      <td>2019-01-01 00:35:50</td>\n",
       "      <td>1</td>\n",
       "      <td>2</td>\n",
       "      <td>Tuesday</td>\n",
       "    </tr>\n",
       "    <tr>\n",
       "      <th>540</th>\n",
       "      <td>8</td>\n",
       "      <td>2019-01-01 00:35:50</td>\n",
       "      <td>1</td>\n",
       "      <td>1</td>\n",
       "      <td>Tuesday</td>\n",
       "    </tr>\n",
       "    <tr>\n",
       "      <th>918</th>\n",
       "      <td>386</td>\n",
       "      <td>2019-01-01 00:35:50</td>\n",
       "      <td>1</td>\n",
       "      <td>1</td>\n",
       "      <td>Tuesday</td>\n",
       "    </tr>\n",
       "    <tr>\n",
       "      <th>1042</th>\n",
       "      <td>517</td>\n",
       "      <td>2019-01-01 00:35:50</td>\n",
       "      <td>1</td>\n",
       "      <td>1</td>\n",
       "      <td>Tuesday</td>\n",
       "    </tr>\n",
       "    <tr>\n",
       "      <th>1070</th>\n",
       "      <td>5</td>\n",
       "      <td>2019-01-01 01:00:51</td>\n",
       "      <td>2</td>\n",
       "      <td>2</td>\n",
       "      <td>Tuesday</td>\n",
       "    </tr>\n",
       "  </tbody>\n",
       "</table>\n",
       "</div>"
      ],
      "text/plain": [
       "      Tram                date  CurrentState  ExpectedState  Weekday\n",
       "537      5 2019-01-01 00:35:50             1              2  Tuesday\n",
       "540      8 2019-01-01 00:35:50             1              1  Tuesday\n",
       "918    386 2019-01-01 00:35:50             1              1  Tuesday\n",
       "1042   517 2019-01-01 00:35:50             1              1  Tuesday\n",
       "1070     5 2019-01-01 01:00:51             2              2  Tuesday"
      ]
     },
     "execution_count": 62,
     "metadata": {},
     "output_type": "execute_result"
    }
   ],
   "source": [
    "# Add day of the week info by creating a new column:\n",
    "traffic_df['Weekday'] = traffic_df.date.dt.day_name()\n",
    "\n",
    "traffic_df.head()"
   ]
  },
  {
   "cell_type": "code",
   "execution_count": 63,
   "metadata": {
    "tags": []
   },
   "outputs": [
    {
     "name": "stdout",
     "output_type": "stream",
     "text": [
      "(216122, 14)\n"
     ]
    },
    {
     "data": {
      "text/html": [
       "<div>\n",
       "<style scoped>\n",
       "    .dataframe tbody tr th:only-of-type {\n",
       "        vertical-align: middle;\n",
       "    }\n",
       "\n",
       "    .dataframe tbody tr th {\n",
       "        vertical-align: top;\n",
       "    }\n",
       "\n",
       "    .dataframe thead th {\n",
       "        text-align: right;\n",
       "    }\n",
       "</style>\n",
       "<table border=\"1\" class=\"dataframe\">\n",
       "  <thead>\n",
       "    <tr style=\"text-align: right;\">\n",
       "      <th></th>\n",
       "      <th>Tram</th>\n",
       "      <th>date</th>\n",
       "      <th>CurrentState</th>\n",
       "      <th>ExpectedState</th>\n",
       "      <th>Weekday</th>\n",
       "      <th>Description</th>\n",
       "      <th>Primary</th>\n",
       "      <th>Secondary</th>\n",
       "      <th>BusstopID</th>\n",
       "      <th>Distance_busstop</th>\n",
       "      <th>MaxSpeed</th>\n",
       "      <th>Distance_camera</th>\n",
       "      <th>TrafficSignalID</th>\n",
       "      <th>Distance_trafficsignal</th>\n",
       "    </tr>\n",
       "  </thead>\n",
       "  <tbody>\n",
       "    <tr>\n",
       "      <th>0</th>\n",
       "      <td>5</td>\n",
       "      <td>2019-01-01 00:35:50</td>\n",
       "      <td>1</td>\n",
       "      <td>2</td>\n",
       "      <td>Tuesday</td>\n",
       "      <td>Diagonal (Pl. Pius XII a Pl. Maria Cristina)</td>\n",
       "      <td>1</td>\n",
       "      <td>0</td>\n",
       "      <td>n1478113760</td>\n",
       "      <td>0.000215</td>\n",
       "      <td>60.0</td>\n",
       "      <td>0.002824</td>\n",
       "      <td>n30314626</td>\n",
       "      <td>0.003008</td>\n",
       "    </tr>\n",
       "    <tr>\n",
       "      <th>1</th>\n",
       "      <td>5</td>\n",
       "      <td>2019-01-01 01:00:51</td>\n",
       "      <td>2</td>\n",
       "      <td>2</td>\n",
       "      <td>Tuesday</td>\n",
       "      <td>Diagonal (Pl. Pius XII a Pl. Maria Cristina)</td>\n",
       "      <td>1</td>\n",
       "      <td>0</td>\n",
       "      <td>n1478113760</td>\n",
       "      <td>0.000215</td>\n",
       "      <td>60.0</td>\n",
       "      <td>0.002824</td>\n",
       "      <td>n30314626</td>\n",
       "      <td>0.003008</td>\n",
       "    </tr>\n",
       "    <tr>\n",
       "      <th>2</th>\n",
       "      <td>5</td>\n",
       "      <td>2019-01-01 01:30:52</td>\n",
       "      <td>2</td>\n",
       "      <td>3</td>\n",
       "      <td>Tuesday</td>\n",
       "      <td>Diagonal (Pl. Pius XII a Pl. Maria Cristina)</td>\n",
       "      <td>1</td>\n",
       "      <td>0</td>\n",
       "      <td>n1478113760</td>\n",
       "      <td>0.000215</td>\n",
       "      <td>60.0</td>\n",
       "      <td>0.002824</td>\n",
       "      <td>n30314626</td>\n",
       "      <td>0.003008</td>\n",
       "    </tr>\n",
       "    <tr>\n",
       "      <th>3</th>\n",
       "      <td>5</td>\n",
       "      <td>2019-01-01 01:55:53</td>\n",
       "      <td>2</td>\n",
       "      <td>3</td>\n",
       "      <td>Tuesday</td>\n",
       "      <td>Diagonal (Pl. Pius XII a Pl. Maria Cristina)</td>\n",
       "      <td>1</td>\n",
       "      <td>0</td>\n",
       "      <td>n1478113760</td>\n",
       "      <td>0.000215</td>\n",
       "      <td>60.0</td>\n",
       "      <td>0.002824</td>\n",
       "      <td>n30314626</td>\n",
       "      <td>0.003008</td>\n",
       "    </tr>\n",
       "    <tr>\n",
       "      <th>4</th>\n",
       "      <td>5</td>\n",
       "      <td>2019-01-01 02:25:52</td>\n",
       "      <td>1</td>\n",
       "      <td>1</td>\n",
       "      <td>Tuesday</td>\n",
       "      <td>Diagonal (Pl. Pius XII a Pl. Maria Cristina)</td>\n",
       "      <td>1</td>\n",
       "      <td>0</td>\n",
       "      <td>n1478113760</td>\n",
       "      <td>0.000215</td>\n",
       "      <td>60.0</td>\n",
       "      <td>0.002824</td>\n",
       "      <td>n30314626</td>\n",
       "      <td>0.003008</td>\n",
       "    </tr>\n",
       "  </tbody>\n",
       "</table>\n",
       "</div>"
      ],
      "text/plain": [
       "   Tram                date  CurrentState  ExpectedState  Weekday  \\\n",
       "0     5 2019-01-01 00:35:50             1              2  Tuesday   \n",
       "1     5 2019-01-01 01:00:51             2              2  Tuesday   \n",
       "2     5 2019-01-01 01:30:52             2              3  Tuesday   \n",
       "3     5 2019-01-01 01:55:53             2              3  Tuesday   \n",
       "4     5 2019-01-01 02:25:52             1              1  Tuesday   \n",
       "\n",
       "                                    Description  Primary  Secondary  \\\n",
       "0  Diagonal (Pl. Pius XII a Pl. Maria Cristina)        1          0   \n",
       "1  Diagonal (Pl. Pius XII a Pl. Maria Cristina)        1          0   \n",
       "2  Diagonal (Pl. Pius XII a Pl. Maria Cristina)        1          0   \n",
       "3  Diagonal (Pl. Pius XII a Pl. Maria Cristina)        1          0   \n",
       "4  Diagonal (Pl. Pius XII a Pl. Maria Cristina)        1          0   \n",
       "\n",
       "     BusstopID  Distance_busstop  MaxSpeed  Distance_camera TrafficSignalID  \\\n",
       "0  n1478113760          0.000215      60.0         0.002824       n30314626   \n",
       "1  n1478113760          0.000215      60.0         0.002824       n30314626   \n",
       "2  n1478113760          0.000215      60.0         0.002824       n30314626   \n",
       "3  n1478113760          0.000215      60.0         0.002824       n30314626   \n",
       "4  n1478113760          0.000215      60.0         0.002824       n30314626   \n",
       "\n",
       "   Distance_trafficsignal  \n",
       "0                0.003008  \n",
       "1                0.003008  \n",
       "2                0.003008  \n",
       "3                0.003008  \n",
       "4                0.003008  "
      ]
     },
     "execution_count": 63,
     "metadata": {},
     "output_type": "execute_result"
    }
   ],
   "source": [
    "# Join with diagonal_merged attributes:\n",
    "\n",
    "traffic_df = traffic_df.merge(diagonal_merged, on='Tram', how='inner', copy=False)\n",
    "print(traffic_df.shape)\n",
    "traffic_df.head()"
   ]
  },
  {
   "cell_type": "markdown",
   "metadata": {},
   "source": [
    "# Multiclass Classification by Decision Tree\n",
    "\n",
    "# Target: Current State\n"
   ]
  },
  {
   "cell_type": "markdown",
   "metadata": {},
   "source": [
    "### Feature entigeering"
   ]
  },
  {
   "cell_type": "code",
   "execution_count": 64,
   "metadata": {},
   "outputs": [],
   "source": [
    "traffic = traffic_df.copy()"
   ]
  },
  {
   "cell_type": "code",
   "execution_count": 65,
   "metadata": {},
   "outputs": [
    {
     "data": {
      "text/html": [
       "<div>\n",
       "<style scoped>\n",
       "    .dataframe tbody tr th:only-of-type {\n",
       "        vertical-align: middle;\n",
       "    }\n",
       "\n",
       "    .dataframe tbody tr th {\n",
       "        vertical-align: top;\n",
       "    }\n",
       "\n",
       "    .dataframe thead th {\n",
       "        text-align: right;\n",
       "    }\n",
       "</style>\n",
       "<table border=\"1\" class=\"dataframe\">\n",
       "  <thead>\n",
       "    <tr style=\"text-align: right;\">\n",
       "      <th></th>\n",
       "      <th>Tram</th>\n",
       "      <th>date</th>\n",
       "      <th>CurrentState</th>\n",
       "      <th>Weekday</th>\n",
       "      <th>Primary</th>\n",
       "      <th>Secondary</th>\n",
       "      <th>Distance_busstop</th>\n",
       "      <th>MaxSpeed</th>\n",
       "      <th>Distance_camera</th>\n",
       "      <th>Distance_trafficsignal</th>\n",
       "    </tr>\n",
       "  </thead>\n",
       "  <tbody>\n",
       "    <tr>\n",
       "      <th>0</th>\n",
       "      <td>5</td>\n",
       "      <td>2019-01-01 00:35:50</td>\n",
       "      <td>1</td>\n",
       "      <td>Tuesday</td>\n",
       "      <td>1</td>\n",
       "      <td>0</td>\n",
       "      <td>0.000215</td>\n",
       "      <td>60.0</td>\n",
       "      <td>0.002824</td>\n",
       "      <td>0.003008</td>\n",
       "    </tr>\n",
       "    <tr>\n",
       "      <th>1</th>\n",
       "      <td>5</td>\n",
       "      <td>2019-01-01 01:00:51</td>\n",
       "      <td>2</td>\n",
       "      <td>Tuesday</td>\n",
       "      <td>1</td>\n",
       "      <td>0</td>\n",
       "      <td>0.000215</td>\n",
       "      <td>60.0</td>\n",
       "      <td>0.002824</td>\n",
       "      <td>0.003008</td>\n",
       "    </tr>\n",
       "    <tr>\n",
       "      <th>2</th>\n",
       "      <td>5</td>\n",
       "      <td>2019-01-01 01:30:52</td>\n",
       "      <td>2</td>\n",
       "      <td>Tuesday</td>\n",
       "      <td>1</td>\n",
       "      <td>0</td>\n",
       "      <td>0.000215</td>\n",
       "      <td>60.0</td>\n",
       "      <td>0.002824</td>\n",
       "      <td>0.003008</td>\n",
       "    </tr>\n",
       "    <tr>\n",
       "      <th>3</th>\n",
       "      <td>5</td>\n",
       "      <td>2019-01-01 01:55:53</td>\n",
       "      <td>2</td>\n",
       "      <td>Tuesday</td>\n",
       "      <td>1</td>\n",
       "      <td>0</td>\n",
       "      <td>0.000215</td>\n",
       "      <td>60.0</td>\n",
       "      <td>0.002824</td>\n",
       "      <td>0.003008</td>\n",
       "    </tr>\n",
       "    <tr>\n",
       "      <th>4</th>\n",
       "      <td>5</td>\n",
       "      <td>2019-01-01 02:25:52</td>\n",
       "      <td>1</td>\n",
       "      <td>Tuesday</td>\n",
       "      <td>1</td>\n",
       "      <td>0</td>\n",
       "      <td>0.000215</td>\n",
       "      <td>60.0</td>\n",
       "      <td>0.002824</td>\n",
       "      <td>0.003008</td>\n",
       "    </tr>\n",
       "  </tbody>\n",
       "</table>\n",
       "</div>"
      ],
      "text/plain": [
       "   Tram                date  CurrentState  Weekday  Primary  Secondary  \\\n",
       "0     5 2019-01-01 00:35:50             1  Tuesday        1          0   \n",
       "1     5 2019-01-01 01:00:51             2  Tuesday        1          0   \n",
       "2     5 2019-01-01 01:30:52             2  Tuesday        1          0   \n",
       "3     5 2019-01-01 01:55:53             2  Tuesday        1          0   \n",
       "4     5 2019-01-01 02:25:52             1  Tuesday        1          0   \n",
       "\n",
       "   Distance_busstop  MaxSpeed  Distance_camera  Distance_trafficsignal  \n",
       "0          0.000215      60.0         0.002824                0.003008  \n",
       "1          0.000215      60.0         0.002824                0.003008  \n",
       "2          0.000215      60.0         0.002824                0.003008  \n",
       "3          0.000215      60.0         0.002824                0.003008  \n",
       "4          0.000215      60.0         0.002824                0.003008  "
      ]
     },
     "execution_count": 65,
     "metadata": {},
     "output_type": "execute_result"
    }
   ],
   "source": [
    "# Remove columns that are irrelevant to predict Current state\n",
    "\n",
    "traffic.drop(['ExpectedState', 'Description', 'BusstopID', 'TrafficSignalID'], axis=1, inplace=True)\n",
    "traffic.head()"
   ]
  },
  {
   "cell_type": "code",
   "execution_count": 66,
   "metadata": {},
   "outputs": [
    {
     "data": {
      "text/html": [
       "<div>\n",
       "<style scoped>\n",
       "    .dataframe tbody tr th:only-of-type {\n",
       "        vertical-align: middle;\n",
       "    }\n",
       "\n",
       "    .dataframe tbody tr th {\n",
       "        vertical-align: top;\n",
       "    }\n",
       "\n",
       "    .dataframe thead th {\n",
       "        text-align: right;\n",
       "    }\n",
       "</style>\n",
       "<table border=\"1\" class=\"dataframe\">\n",
       "  <thead>\n",
       "    <tr style=\"text-align: right;\">\n",
       "      <th></th>\n",
       "      <th>Tram</th>\n",
       "      <th>date</th>\n",
       "      <th>CurrentState</th>\n",
       "      <th>Weekday</th>\n",
       "      <th>Primary</th>\n",
       "      <th>Secondary</th>\n",
       "      <th>Distance_busstop</th>\n",
       "      <th>MaxSpeed</th>\n",
       "      <th>Distance_camera</th>\n",
       "      <th>Distance_trafficsignal</th>\n",
       "    </tr>\n",
       "  </thead>\n",
       "  <tbody>\n",
       "    <tr>\n",
       "      <th>0</th>\n",
       "      <td>5</td>\n",
       "      <td>2019-01-01 00:35:50</td>\n",
       "      <td>1</td>\n",
       "      <td>2</td>\n",
       "      <td>1</td>\n",
       "      <td>0</td>\n",
       "      <td>0.000215</td>\n",
       "      <td>60.0</td>\n",
       "      <td>0.002824</td>\n",
       "      <td>0.003008</td>\n",
       "    </tr>\n",
       "    <tr>\n",
       "      <th>1</th>\n",
       "      <td>5</td>\n",
       "      <td>2019-01-01 01:00:51</td>\n",
       "      <td>2</td>\n",
       "      <td>2</td>\n",
       "      <td>1</td>\n",
       "      <td>0</td>\n",
       "      <td>0.000215</td>\n",
       "      <td>60.0</td>\n",
       "      <td>0.002824</td>\n",
       "      <td>0.003008</td>\n",
       "    </tr>\n",
       "    <tr>\n",
       "      <th>2</th>\n",
       "      <td>5</td>\n",
       "      <td>2019-01-01 01:30:52</td>\n",
       "      <td>2</td>\n",
       "      <td>2</td>\n",
       "      <td>1</td>\n",
       "      <td>0</td>\n",
       "      <td>0.000215</td>\n",
       "      <td>60.0</td>\n",
       "      <td>0.002824</td>\n",
       "      <td>0.003008</td>\n",
       "    </tr>\n",
       "    <tr>\n",
       "      <th>3</th>\n",
       "      <td>5</td>\n",
       "      <td>2019-01-01 01:55:53</td>\n",
       "      <td>2</td>\n",
       "      <td>2</td>\n",
       "      <td>1</td>\n",
       "      <td>0</td>\n",
       "      <td>0.000215</td>\n",
       "      <td>60.0</td>\n",
       "      <td>0.002824</td>\n",
       "      <td>0.003008</td>\n",
       "    </tr>\n",
       "    <tr>\n",
       "      <th>4</th>\n",
       "      <td>5</td>\n",
       "      <td>2019-01-01 02:25:52</td>\n",
       "      <td>1</td>\n",
       "      <td>2</td>\n",
       "      <td>1</td>\n",
       "      <td>0</td>\n",
       "      <td>0.000215</td>\n",
       "      <td>60.0</td>\n",
       "      <td>0.002824</td>\n",
       "      <td>0.003008</td>\n",
       "    </tr>\n",
       "  </tbody>\n",
       "</table>\n",
       "</div>"
      ],
      "text/plain": [
       "   Tram                date  CurrentState  Weekday  Primary  Secondary  \\\n",
       "0     5 2019-01-01 00:35:50             1        2        1          0   \n",
       "1     5 2019-01-01 01:00:51             2        2        1          0   \n",
       "2     5 2019-01-01 01:30:52             2        2        1          0   \n",
       "3     5 2019-01-01 01:55:53             2        2        1          0   \n",
       "4     5 2019-01-01 02:25:52             1        2        1          0   \n",
       "\n",
       "   Distance_busstop  MaxSpeed  Distance_camera  Distance_trafficsignal  \n",
       "0          0.000215      60.0         0.002824                0.003008  \n",
       "1          0.000215      60.0         0.002824                0.003008  \n",
       "2          0.000215      60.0         0.002824                0.003008  \n",
       "3          0.000215      60.0         0.002824                0.003008  \n",
       "4          0.000215      60.0         0.002824                0.003008  "
      ]
     },
     "execution_count": 66,
     "metadata": {},
     "output_type": "execute_result"
    }
   ],
   "source": [
    "traffic['Weekday'] = traffic['Weekday'].map({'Sunday':0, 'Monday':1, 'Tuesday':2, 'Wednesday':3, 'Thursday':4, 'Friday':5, 'Saturday':6})\n",
    "traffic.head()"
   ]
  },
  {
   "cell_type": "code",
   "execution_count": 67,
   "metadata": {},
   "outputs": [
    {
     "data": {
      "text/html": [
       "<div>\n",
       "<style scoped>\n",
       "    .dataframe tbody tr th:only-of-type {\n",
       "        vertical-align: middle;\n",
       "    }\n",
       "\n",
       "    .dataframe tbody tr th {\n",
       "        vertical-align: top;\n",
       "    }\n",
       "\n",
       "    .dataframe thead th {\n",
       "        text-align: right;\n",
       "    }\n",
       "</style>\n",
       "<table border=\"1\" class=\"dataframe\">\n",
       "  <thead>\n",
       "    <tr style=\"text-align: right;\">\n",
       "      <th></th>\n",
       "      <th>Tram</th>\n",
       "      <th>CurrentState</th>\n",
       "      <th>Weekday</th>\n",
       "      <th>Primary</th>\n",
       "      <th>Secondary</th>\n",
       "      <th>Distance_busstop</th>\n",
       "      <th>MaxSpeed</th>\n",
       "      <th>Distance_camera</th>\n",
       "      <th>Distance_trafficsignal</th>\n",
       "      <th>month</th>\n",
       "      <th>day</th>\n",
       "      <th>hour</th>\n",
       "    </tr>\n",
       "  </thead>\n",
       "  <tbody>\n",
       "    <tr>\n",
       "      <th>0</th>\n",
       "      <td>5</td>\n",
       "      <td>1</td>\n",
       "      <td>2</td>\n",
       "      <td>1</td>\n",
       "      <td>0</td>\n",
       "      <td>0.000215</td>\n",
       "      <td>60.0</td>\n",
       "      <td>0.002824</td>\n",
       "      <td>0.003008</td>\n",
       "      <td>1</td>\n",
       "      <td>1</td>\n",
       "      <td>0</td>\n",
       "    </tr>\n",
       "    <tr>\n",
       "      <th>1</th>\n",
       "      <td>5</td>\n",
       "      <td>2</td>\n",
       "      <td>2</td>\n",
       "      <td>1</td>\n",
       "      <td>0</td>\n",
       "      <td>0.000215</td>\n",
       "      <td>60.0</td>\n",
       "      <td>0.002824</td>\n",
       "      <td>0.003008</td>\n",
       "      <td>1</td>\n",
       "      <td>1</td>\n",
       "      <td>1</td>\n",
       "    </tr>\n",
       "    <tr>\n",
       "      <th>2</th>\n",
       "      <td>5</td>\n",
       "      <td>2</td>\n",
       "      <td>2</td>\n",
       "      <td>1</td>\n",
       "      <td>0</td>\n",
       "      <td>0.000215</td>\n",
       "      <td>60.0</td>\n",
       "      <td>0.002824</td>\n",
       "      <td>0.003008</td>\n",
       "      <td>1</td>\n",
       "      <td>1</td>\n",
       "      <td>1</td>\n",
       "    </tr>\n",
       "    <tr>\n",
       "      <th>3</th>\n",
       "      <td>5</td>\n",
       "      <td>2</td>\n",
       "      <td>2</td>\n",
       "      <td>1</td>\n",
       "      <td>0</td>\n",
       "      <td>0.000215</td>\n",
       "      <td>60.0</td>\n",
       "      <td>0.002824</td>\n",
       "      <td>0.003008</td>\n",
       "      <td>1</td>\n",
       "      <td>1</td>\n",
       "      <td>1</td>\n",
       "    </tr>\n",
       "    <tr>\n",
       "      <th>4</th>\n",
       "      <td>5</td>\n",
       "      <td>1</td>\n",
       "      <td>2</td>\n",
       "      <td>1</td>\n",
       "      <td>0</td>\n",
       "      <td>0.000215</td>\n",
       "      <td>60.0</td>\n",
       "      <td>0.002824</td>\n",
       "      <td>0.003008</td>\n",
       "      <td>1</td>\n",
       "      <td>1</td>\n",
       "      <td>2</td>\n",
       "    </tr>\n",
       "  </tbody>\n",
       "</table>\n",
       "</div>"
      ],
      "text/plain": [
       "   Tram  CurrentState  Weekday  Primary  Secondary  Distance_busstop  \\\n",
       "0     5             1        2        1          0          0.000215   \n",
       "1     5             2        2        1          0          0.000215   \n",
       "2     5             2        2        1          0          0.000215   \n",
       "3     5             2        2        1          0          0.000215   \n",
       "4     5             1        2        1          0          0.000215   \n",
       "\n",
       "   MaxSpeed  Distance_camera  Distance_trafficsignal  month  day  hour  \n",
       "0      60.0         0.002824                0.003008      1    1     0  \n",
       "1      60.0         0.002824                0.003008      1    1     1  \n",
       "2      60.0         0.002824                0.003008      1    1     1  \n",
       "3      60.0         0.002824                0.003008      1    1     1  \n",
       "4      60.0         0.002824                0.003008      1    1     2  "
      ]
     },
     "execution_count": 67,
     "metadata": {},
     "output_type": "execute_result"
    }
   ],
   "source": [
    "traffic['month'] = traffic['date'].dt.month\n",
    "traffic['day'] = traffic['date'].dt.day\n",
    "traffic['hour'] = traffic['date'].dt.hour\n",
    "traffic.drop('date', axis=1, inplace=True)\n",
    "traffic.head()"
   ]
  },
  {
   "cell_type": "code",
   "execution_count": 68,
   "metadata": {},
   "outputs": [],
   "source": [
    "# impute MaxSpeed\n",
    "\n",
    "traffic['MaxSpeed'].fillna(traffic['MaxSpeed'].mode()[0], inplace=True)"
   ]
  },
  {
   "cell_type": "code",
   "execution_count": 69,
   "metadata": {},
   "outputs": [
    {
     "data": {
      "text/plain": [
       "Tram                      0.0\n",
       "CurrentState              0.0\n",
       "Weekday                   0.0\n",
       "Primary                   0.0\n",
       "Secondary                 0.0\n",
       "Distance_busstop          0.0\n",
       "MaxSpeed                  0.0\n",
       "Distance_camera           0.0\n",
       "Distance_trafficsignal    0.0\n",
       "month                     0.0\n",
       "day                       0.0\n",
       "hour                      0.0\n",
       "dtype: float64"
      ]
     },
     "execution_count": 69,
     "metadata": {},
     "output_type": "execute_result"
    }
   ],
   "source": [
    "traffic.isnull().mean()"
   ]
  },
  {
   "cell_type": "code",
   "execution_count": 70,
   "metadata": {},
   "outputs": [
    {
     "data": {
      "text/plain": [
       "2    0.490593\n",
       "1    0.255874\n",
       "5    0.092263\n",
       "3    0.082648\n",
       "4    0.077294\n",
       "6    0.001328\n",
       "Name: CurrentState, dtype: float64"
      ]
     },
     "execution_count": 70,
     "metadata": {},
     "output_type": "execute_result"
    }
   ],
   "source": [
    "traffic.CurrentState.value_counts(normalize=True)"
   ]
  },
  {
   "cell_type": "code",
   "execution_count": 71,
   "metadata": {},
   "outputs": [
    {
     "data": {
      "text/plain": [
       "['Tram',\n",
       " 'Weekday',\n",
       " 'Primary',\n",
       " 'Secondary',\n",
       " 'Distance_busstop',\n",
       " 'MaxSpeed',\n",
       " 'Distance_camera',\n",
       " 'Distance_trafficsignal',\n",
       " 'month',\n",
       " 'day',\n",
       " 'hour']"
      ]
     },
     "execution_count": 71,
     "metadata": {},
     "output_type": "execute_result"
    }
   ],
   "source": [
    "features = [col for col in traffic.columns if col != 'CurrentState']\n",
    "features"
   ]
  },
  {
   "cell_type": "code",
   "execution_count": 72,
   "metadata": {},
   "outputs": [],
   "source": [
    "X = traffic[features]\n",
    "y = traffic['CurrentState']"
   ]
  },
  {
   "cell_type": "code",
   "execution_count": 73,
   "metadata": {},
   "outputs": [],
   "source": [
    "# Splitting the dataset into the Training set and Test set\n",
    "from sklearn.model_selection import train_test_split\n",
    "X_train, X_test, y_train, y_test = train_test_split(X, y, test_size = 0.25)"
   ]
  },
  {
   "cell_type": "code",
   "execution_count": 74,
   "metadata": {
    "tags": []
   },
   "outputs": [
    {
     "name": "stdout",
     "output_type": "stream",
     "text": [
      "(162091, 11)\n",
      "(54031, 11)\n",
      "(162091,)\n",
      "(54031,)\n"
     ]
    }
   ],
   "source": [
    "print(X_train.shape)\n",
    "print(X_test.shape)\n",
    "print(y_train.shape)\n",
    "print(y_test.shape)"
   ]
  },
  {
   "cell_type": "code",
   "execution_count": 75,
   "metadata": {},
   "outputs": [],
   "source": [
    "classes = ['very fluid', 'fluid', 'dense', 'very dense', 'congestion', 'blocked']"
   ]
  },
  {
   "cell_type": "code",
   "execution_count": 76,
   "metadata": {},
   "outputs": [],
   "source": [
    "class_weight = {1:0.2, 2:0.2, 3:2, 4:2, 5:2, 6:4}"
   ]
  },
  {
   "cell_type": "code",
   "execution_count": 77,
   "metadata": {},
   "outputs": [
    {
     "data": {
      "text/plain": [
       "DecisionTreeClassifier(class_weight={3: 10, 4: 10, 5: 10, 6: 10},\n",
       "                       criterion='entropy', max_depth=16, random_state=21)"
      ]
     },
     "execution_count": 77,
     "metadata": {},
     "output_type": "execute_result"
    }
   ],
   "source": [
    "# Fitting Classifier to the Training Set\n",
    "from sklearn.tree import DecisionTreeClassifier\n",
    "\n",
    "classifier = DecisionTreeClassifier(criterion='entropy', max_depth=16, random_state=21, class_weight={3:10, 4:10, 5:10, 6:10})#, class_weight=class_weight)\n",
    "classifier.fit(X_train, y_train)"
   ]
  },
  {
   "cell_type": "code",
   "execution_count": 78,
   "metadata": {
    "tags": []
   },
   "outputs": [
    {
     "name": "stdout",
     "output_type": "stream",
     "text": [
      "Accuracy: 0.71\n",
      "Confusion Matrix: \n",
      " [[35164  4424   995   567   269    19]\n",
      " [ 3800 52595 14989  3997  4211    14]\n",
      " [    8   721  8755  2623  1207     1]\n",
      " [    0   288  2716  7224  2272     0]\n",
      " [    0   173   786  2348 11697     0]\n",
      " [    0     6     0     0     0   222]]\n",
      "              precision    recall  f1-score   support\n",
      "\n",
      "  very fluid       0.90      0.85      0.87     41438\n",
      "       fluid       0.90      0.66      0.76     79606\n",
      "       dense       0.31      0.66      0.42     13315\n",
      "  very dense       0.43      0.58      0.49     12500\n",
      "  congestion       0.60      0.78      0.67     15004\n",
      "     blocked       0.87      0.97      0.92       228\n",
      "\n",
      "    accuracy                           0.71    162091\n",
      "   macro avg       0.67      0.75      0.69    162091\n",
      "weighted avg       0.79      0.71      0.73    162091\n",
      "\n"
     ]
    }
   ],
   "source": [
    "# Model performance on training set\n",
    "y_pred_train =classifier.predict(X_train)\n",
    "\n",
    "from sklearn import metrics\n",
    "from sklearn.metrics import confusion_matrix, classification_report\n",
    "\n",
    "accuracy = metrics.accuracy_score(y_train, y_pred_train)\n",
    "print(\"Accuracy: {:.2f}\".format(accuracy))\n",
    "\n",
    "cm=confusion_matrix(y_train,y_pred_train)\n",
    "print('Confusion Matrix: \\n', cm)\n",
    "print(classification_report(y_train, y_pred_train, target_names=classes))"
   ]
  },
  {
   "cell_type": "code",
   "execution_count": 79,
   "metadata": {
    "tags": []
   },
   "outputs": [
    {
     "name": "stdout",
     "output_type": "stream",
     "text": [
      "Accuracy: 0.68\n",
      "Confusion Matrix: \n",
      " [[11489  1733   356   182    91    11]\n",
      " [ 1461 17054  5148  1334  1423     2]\n",
      " [   20   350  2638  1054   485     0]\n",
      " [    8   133  1024  2148   892     0]\n",
      " [    5   105   332   943  3549     2]\n",
      " [    0     3     0     0     0    56]]\n",
      "              precision    recall  f1-score   support\n",
      "\n",
      "  very fluid       0.88      0.83      0.86     13862\n",
      "       fluid       0.88      0.65      0.74     26422\n",
      "       dense       0.28      0.58      0.38      4547\n",
      "  very dense       0.38      0.51      0.44      4205\n",
      "  congestion       0.55      0.72      0.62      4936\n",
      "     blocked       0.79      0.95      0.86        59\n",
      "\n",
      "    accuracy                           0.68     54031\n",
      "   macro avg       0.63      0.71      0.65     54031\n",
      "weighted avg       0.76      0.68      0.71     54031\n",
      "\n"
     ]
    }
   ],
   "source": [
    "# Predicting the test results\n",
    "y_pred=classifier.predict(X_test)\n",
    "\n",
    "# Classification results on test set\n",
    "accuracy = metrics.accuracy_score(y_test, y_pred)\n",
    "print(\"Accuracy: {:.2f}\".format(accuracy))\n",
    "\n",
    "cm=confusion_matrix(y_test,y_pred)\n",
    "print('Confusion Matrix: \\n', cm)\n",
    "print(classification_report(y_test, y_pred, target_names=classes))"
   ]
  },
  {
   "cell_type": "code",
   "execution_count": 80,
   "metadata": {
    "scrolled": true
   },
   "outputs": [],
   "source": [
    "# Visualize the tree by graphiz\n",
    "# import graphviz\n",
    "# from sklearn import tree\n",
    "# feature_names = features\n",
    "# dot_data = tree.export_graphviz(classifier, out_file=None, filled=True, rounded = True, feature_names=feature_names, class_names=classes)\n",
    "# graph = graphviz.Source(dot_data)\n",
    "# graph"
   ]
  },
  {
   "cell_type": "code",
   "execution_count": 81,
   "metadata": {},
   "outputs": [],
   "source": [
    "from sklearn.ensemble import RandomForestClassifier"
   ]
  },
  {
   "cell_type": "code",
   "execution_count": 82,
   "metadata": {},
   "outputs": [
    {
     "data": {
      "text/plain": [
       "RandomForestClassifier(class_weight={3: 15, 4: 15, 5: 15, 6: 15},\n",
       "                       criterion='entropy', max_depth=17, n_estimators=120,\n",
       "                       random_state=21)"
      ]
     },
     "execution_count": 82,
     "metadata": {},
     "output_type": "execute_result"
    }
   ],
   "source": [
    "# Fitting Random Forest Classification to the Training set\n",
    "randomforest = RandomForestClassifier(n_estimators=120, max_depth=17,\n",
    "                                      criterion='entropy', random_state=21, class_weight={3:15, 4:15, 5:15, 6:15})\n",
    "randomforest.fit(X_train, y_train)"
   ]
  },
  {
   "cell_type": "code",
   "execution_count": 83,
   "metadata": {},
   "outputs": [
    {
     "name": "stdout",
     "output_type": "stream",
     "text": [
      "Accuracy: 0.75\n",
      "Confusion Matrix: \n",
      " [[36238  4011   583   372   215    19]\n",
      " [ 3420 56529 13175  3480  2988    14]\n",
      " [   10   375  9402  2265  1262     1]\n",
      " [    3   128  2477  7501  2391     0]\n",
      " [    1    49   618  1867 12469     0]\n",
      " [    0     5     1     0     0   222]]\n",
      "              precision    recall  f1-score   support\n",
      "\n",
      "  very fluid       0.91      0.87      0.89     41438\n",
      "       fluid       0.93      0.71      0.80     79606\n",
      "       dense       0.36      0.71      0.48     13315\n",
      "  very dense       0.48      0.60      0.54     12500\n",
      "  congestion       0.65      0.83      0.73     15004\n",
      "     blocked       0.87      0.97      0.92       228\n",
      "\n",
      "    accuracy                           0.75    162091\n",
      "   macro avg       0.70      0.78      0.73    162091\n",
      "weighted avg       0.82      0.75      0.77    162091\n",
      "\n"
     ]
    }
   ],
   "source": [
    "# Model performance on training set\n",
    "y_pred_train_rf =randomforest.predict(X_train)\n",
    "\n",
    "accuracy = metrics.accuracy_score(y_train, y_pred_train_rf)\n",
    "print(\"Accuracy: {:.2f}\".format(accuracy))\n",
    "\n",
    "cm=confusion_matrix(y_train,y_pred_train_rf)\n",
    "print('Confusion Matrix: \\n', cm)\n",
    "print(classification_report(y_train, y_pred_train_rf, target_names=classes))"
   ]
  },
  {
   "cell_type": "code",
   "execution_count": 84,
   "metadata": {},
   "outputs": [
    {
     "name": "stdout",
     "output_type": "stream",
     "text": [
      "Accuracy: 0.72\n",
      "Confusion Matrix: \n",
      " [[11818  1642   178   140    73    11]\n",
      " [ 1405 18286  4558  1186   985     2]\n",
      " [   22   344  2734   959   488     0]\n",
      " [    9   117   991  2102   986     0]\n",
      " [    5    52   275   802  3800     2]\n",
      " [    0     2     1     0     0    56]]\n",
      "              precision    recall  f1-score   support\n",
      "\n",
      "  very fluid       0.89      0.85      0.87     13862\n",
      "       fluid       0.89      0.69      0.78     26422\n",
      "       dense       0.31      0.60      0.41      4547\n",
      "  very dense       0.41      0.50      0.45      4205\n",
      "  congestion       0.60      0.77      0.67      4936\n",
      "     blocked       0.79      0.95      0.86        59\n",
      "\n",
      "    accuracy                           0.72     54031\n",
      "   macro avg       0.65      0.73      0.67     54031\n",
      "weighted avg       0.78      0.72      0.74     54031\n",
      "\n"
     ]
    }
   ],
   "source": [
    "# Predicting the test results\n",
    "y_pred_rf=randomforest.predict(X_test)\n",
    "\n",
    "# Classification results on test set\n",
    "accuracy = metrics.accuracy_score(y_test, y_pred_rf)\n",
    "print(\"Accuracy: {:.2f}\".format(accuracy))\n",
    "\n",
    "cm=confusion_matrix(y_test,y_pred_rf)\n",
    "print('Confusion Matrix: \\n', cm)\n",
    "print(classification_report(y_test, y_pred_rf, target_names=classes))"
   ]
  },
  {
   "cell_type": "code",
   "execution_count": null,
   "metadata": {},
   "outputs": [],
   "source": []
  }
 ],
 "metadata": {
  "kernelspec": {
   "display_name": "Python 3",
   "language": "python",
   "name": "python3"
  },
  "language_info": {
   "codemirror_mode": {
    "name": "ipython",
    "version": 3
   },
   "file_extension": ".py",
   "mimetype": "text/x-python",
   "name": "python",
   "nbconvert_exporter": "python",
   "pygments_lexer": "ipython3",
   "version": "3.7.6"
  }
 },
 "nbformat": 4,
 "nbformat_minor": 4
}
